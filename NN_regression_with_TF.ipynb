{
  "nbformat": 4,
  "nbformat_minor": 0,
  "metadata": {
    "colab": {
      "name": "NN regression with TF",
      "provenance": [],
      "collapsed_sections": [
        "cXCYzVvcqJab",
        "BLVWqIKnruDk",
        "CoL48vKisFUV",
        "JaHhHuVm67wR",
        "8T2aaLyN9RAr",
        "H7J_rbwhNKE6",
        "hzweKnf3KH3n",
        "VJOxkNPlK8ar",
        "sMPuuIxmNTVl",
        "HEYGXwUsP1jq",
        "17HYRD6zRt2q",
        "NXK1S1ybVw7d",
        "S31i19njYK_5",
        "09AvcoR9YeR7",
        "gKOpMmn_a5x0",
        "cZngn7GJ3gId",
        "sTS8pg__3lrI",
        "liONSUem4KIP",
        "mv_R1W-6Fpqr",
        "a5UbzTp3GXHM"
      ],
      "authorship_tag": "ABX9TyNCNBlwB+2DiTsi1D6uR7Qz",
      "include_colab_link": true
    },
    "kernelspec": {
      "name": "python3",
      "display_name": "Python 3"
    },
    "language_info": {
      "name": "python"
    }
  },
  "cells": [
    {
      "cell_type": "markdown",
      "metadata": {
        "id": "view-in-github",
        "colab_type": "text"
      },
      "source": [
        "<a href=\"https://colab.research.google.com/github/manudwd/Classification--preprocessing-data-/blob/main/NN_regression_with_TF.ipynb\" target=\"_parent\"><img src=\"https://colab.research.google.com/assets/colab-badge.svg\" alt=\"Open In Colab\"/></a>"
      ]
    },
    {
      "cell_type": "markdown",
      "metadata": {
        "id": "EtmpyllRznIC"
      },
      "source": [
        "import tensorflow as tf\n",
        "import numpy as np \n"
      ]
    },
    {
      "cell_type": "code",
      "metadata": {
        "id": "aeUIVln9z8IL"
      },
      "source": [
        "import tensorflow as tf\n",
        "\n"
      ],
      "execution_count": null,
      "outputs": []
    },
    {
      "cell_type": "markdown",
      "metadata": {
        "id": "WZbJ0cPg0E10"
      },
      "source": [
        "creating data to view and fit"
      ]
    },
    {
      "cell_type": "code",
      "metadata": {
        "colab": {
          "base_uri": "https://localhost:8080/",
          "height": 287
        },
        "id": "8AwAKb-d0Msd",
        "outputId": "99f2a042-0977-42bb-f3ae-49a70d18d5d9"
      },
      "source": [
        "import numpy as np \n",
        "import matplotlib.pyplot as plt\n",
        "#create some features\n",
        "X=np.array([-7.0,-4.0,-1.0, 2.0, 5.0, 8.0, 11.0, 14.0])\n",
        "\n",
        "#create some labels labels are marked by lower case letters\n",
        "y=np.array([3.0,6.0,9.0,12.0,15.0,18.0,21.0,24.0])\n",
        "\n",
        "#plot the data \n",
        "plt.scatter(X,y) #for scatter plot\n"
      ],
      "execution_count": null,
      "outputs": [
        {
          "output_type": "execute_result",
          "data": {
            "text/plain": [
              "<matplotlib.collections.PathCollection at 0x7f3c4e6f2310>"
            ]
          },
          "metadata": {
            "tags": []
          },
          "execution_count": 24
        },
        {
          "output_type": "display_data",
          "data": {
            "image/png": "[encoded data removed]",
            "text/plain": [
              "<Figure size 432x288 with 1 Axes>"
            ]
          },
          "metadata": {
            "tags": [],
            "needs_background": "light"
          }
        }
      ]
    },
    {
      "cell_type": "code",
      "metadata": {
        "colab": {
          "base_uri": "https://localhost:8080/"
        },
        "id": "S0HYWQNL1exr",
        "outputId": "9e5b6ff9-afc6-4059-f707-38c5d3d47502"
      },
      "source": [
        "y==X+10 #is the relationship we're trying to establish between the features and the labels\n",
        "\n"
      ],
      "execution_count": null,
      "outputs": [
        {
          "output_type": "execute_result",
          "data": {
            "text/plain": [
              "array([ True,  True,  True,  True,  True,  True,  True,  True])"
            ]
          },
          "metadata": {
            "tags": []
          },
          "execution_count": 25
        }
      ]
    },
    {
      "cell_type": "markdown",
      "metadata": {
        "id": "yfq4yXf01m49"
      },
      "source": [
        "#Input and ouput shapes"
      ]
    },
    {
      "cell_type": "markdown",
      "metadata": {
        "id": "J74TV6wh1pU5"
      },
      "source": [
        "\n",
        "\n",
        "```\n",
        "# This is formatted as code\n",
        "```\n",
        "\n",
        "So heres the thing, understanding data and how you're going to implment is equally important. Here we only need a single value of X to predict y value at that coordinate.\n",
        "\n",
        "Thus the single value of this numpy array, is scalar value, which ahs  a dimension of 0"
      ]
    },
    {
      "cell_type": "code",
      "metadata": {
        "colab": {
          "base_uri": "https://localhost:8080/",
          "height": 287
        },
        "id": "7X2-a7UJ29tW",
        "outputId": "34cb6b53-6e48-4cb7-84c5-660cf9cfc760"
      },
      "source": [
        "#converting the numpy array into a tensor while changing dtype\n",
        "X=tf.cast(tf.constant(X),dtype=tf.float32)\n",
        "y=tf.cast(tf.constant(y),dtype=tf.float32)\n",
        "X,y\n",
        "\n",
        "inputshape=X[0].shape\n",
        "outputshape=y[0].shape\n",
        "inputshape, outputshape\n",
        "\n",
        "plt.scatter(X,y)"
      ],
      "execution_count": null,
      "outputs": [
        {
          "output_type": "execute_result",
          "data": {
            "text/plain": [
              "<matplotlib.collections.PathCollection at 0x7f3c4e6f2210>"
            ]
          },
          "metadata": {
            "tags": []
          },
          "execution_count": 26
        },
        {
          "output_type": "display_data",
          "data": {
            "image/png": "[encoded data removed]",
            "text/plain": [
              "<Figure size 432x288 with 1 Axes>"
            ]
          },
          "metadata": {
            "tags": [],
            "needs_background": "light"
          }
        }
      ]
    },
    {
      "cell_type": "markdown",
      "metadata": {
        "id": "xx8wV0bN3_U4"
      },
      "source": [
        "# Steps to modeeling in tensor flow\n",
        "1. Creating a model to define input and outputs and hidden layeres of the deep learning model.\n",
        "2. Compiling model-define the loss function(essentially how wrong our model is) and the optimizer(tell our model how to improve its performace) and the evaluation matrix (aka hwo to interpret the model)\n",
        "3.Fitting a mdoel-letting th model try to find patterns between X &y (features and labels)"
      ]
    },
    {
      "cell_type": "markdown",
      "metadata": {
        "id": "TrbVxyWB8shG"
      },
      "source": [
        "you can use model.add to add layers as well as \n",
        "the method below, point is that tehre are mutiple ways to do hte same thing \n",
        "in tensor flow\n"
      ]
    },
    {
      "cell_type": "code",
      "metadata": {
        "colab": {
          "base_uri": "https://localhost:8080/"
        },
        "id": "oEQYpVre4buZ",
        "outputId": "b3907a95-d5c5-44f4-fdbb-315ead62c0e3"
      },
      "source": [
        "#setting the random seed\n",
        "tf.random.set_seed(42)\n",
        "\n",
        "#1 create the model using seqeuntial API \n",
        "model = tf.keras.Sequential([\n",
        "                             tf.keras.layers.Dense(1)\n",
        "])\n",
        "\n",
        "\n",
        " #Sequential provides training and inference features\n",
        "#here we have added them in a list\n",
        "\n",
        "\n",
        "#the number is 1 because we are taking 1 from feature and comparing it with 1 label\n",
        "#2. compile the model\n",
        "\n",
        "#loss is how wrongn your model's prediction are compared to the truth labels\n",
        "#we attempt to minimise this \n",
        "model.compile(loss=tf.keras.losses.mae,\n",
        "              optimizer=tf.keras.optimizers.SGD(),\n",
        "              metrics=[\"mae\"])#metrics is a human interpretable value for \n",
        "                              #how well your model is  doing\n",
        "\n",
        "\n",
        "#alot of the times you if some function like mae has shortcut names\n",
        "#you can simply use the string value as done in the metrics field\n",
        "#for example you can simply write optimizer=[\"SGD\"] and it would work\n",
        "\n",
        "\n",
        "#3 fit the model\n",
        "model.fit(X,y, epochs=5) \n"
      ],
      "execution_count": null,
      "outputs": [
        {
          "output_type": "stream",
          "text": [
            "Epoch 1/5\n",
            "1/1 [==============================] - 0s 286ms/step - loss: 11.5048 - mae: 11.5048\n",
            "Epoch 2/5\n",
            "1/1 [==============================] - 0s 3ms/step - loss: 11.3723 - mae: 11.3723\n",
            "Epoch 3/5\n",
            "1/1 [==============================] - 0s 6ms/step - loss: 11.2398 - mae: 11.2398\n",
            "Epoch 4/5\n",
            "1/1 [==============================] - 0s 6ms/step - loss: 11.1073 - mae: 11.1073\n",
            "Epoch 5/5\n",
            "1/1 [==============================] - 0s 4ms/step - loss: 10.9748 - mae: 10.9748\n"
          ],
          "name": "stdout"
        },
        {
          "output_type": "execute_result",
          "data": {
            "text/plain": [
              "<tensorflow.python.keras.callbacks.History at 0x7f3c4e6a6450>"
            ]
          },
          "metadata": {
            "tags": []
          },
          "execution_count": 27
        }
      ]
    },
    {
      "cell_type": "markdown",
      "metadata": {
        "id": "mskrMoTa7eBg"
      },
      "source": [
        "what this says that we have a lose of 10.9748 at the end when trying to fit our y values for X"
      ]
    },
    {
      "cell_type": "code",
      "metadata": {
        "colab": {
          "base_uri": "https://localhost:8080/"
        },
        "id": "Vg475u_9A087",
        "outputId": "e110c888-9ad8-4549-8763-8ed08b666455"
      },
      "source": [
        "#predicting our model\n",
        "model.predict([17.0])+10\n",
        "\n",
        "#our model here doesn't correctly fit the assumptions \n",
        "#thus it requires optimization \n",
        "\n",
        " "
      ],
      "execution_count": null,
      "outputs": [
        {
          "output_type": "execute_result",
          "data": {
            "text/plain": [
              "array([[22.71602]], dtype=float32)"
            ]
          },
          "metadata": {
            "tags": []
          },
          "execution_count": 28
        }
      ]
    },
    {
      "cell_type": "markdown",
      "metadata": {
        "id": "0IatTZYroFGh"
      },
      "source": [
        "#Improving our NN model\n",
        "\n",
        "altering how we went through the creation compiling and  fitting stage of the model\n",
        "\n",
        "1. creating a model- we might add more layers and increase the number of neuron / the hidden layers. and change the activation function of each la yer.\n",
        "2. Compiling a model- we might change the optimization function or perhaps the learning rate of the optimization funciton\n",
        "3. We might fit our model for more epochs or on more given data(more modells or examples of data to learn from)\n",
        "\n"
      ]
    },
    {
      "cell_type": "code",
      "metadata": {
        "colab": {
          "base_uri": "https://localhost:8080/"
        },
        "id": "Jol9WdlNo0Dl",
        "outputId": "b2adea8b-ab74-4ec9-e045-644d69fab726"
      },
      "source": [
        "#we might start with a smaller model and move into a larger model\n",
        "\n",
        "#create the mode\n",
        "model=tf.keras.Sequential([\n",
        "                     tf.keras.layers.Dense(1)\n",
        "])\n",
        "\n",
        "#compile the model\n",
        "model.compile(loss=tf.keras.losses.mae,\n",
        "           optimizer=tf.keras.optimizers.SGD(),\n",
        "           metrics=[\"mae\"])\n",
        "\n",
        "#3.fit the model\n",
        "model.fit(X, y, epochs=100)\n"
      ],
      "execution_count": null,
      "outputs": [
        {
          "output_type": "stream",
          "text": [
            "Epoch 1/100\n",
            "1/1 [==============================] - 0s 259ms/step - loss: 11.2219 - mae: 11.2219\n",
            "Epoch 2/100\n",
            "1/1 [==============================] - 0s 6ms/step - loss: 11.0894 - mae: 11.0894\n",
            "Epoch 3/100\n",
            "1/1 [==============================] - 0s 4ms/step - loss: 10.9569 - mae: 10.9569\n",
            "Epoch 4/100\n",
            "1/1 [==============================] - 0s 4ms/step - loss: 10.8244 - mae: 10.8244\n",
            "Epoch 5/100\n",
            "1/1 [==============================] - 0s 8ms/step - loss: 10.6919 - mae: 10.6919\n",
            "Epoch 6/100\n",
            "1/1 [==============================] - 0s 7ms/step - loss: 10.5594 - mae: 10.5594\n",
            "Epoch 7/100\n",
            "1/1 [==============================] - 0s 9ms/step - loss: 10.4269 - mae: 10.4269\n",
            "Epoch 8/100\n",
            "1/1 [==============================] - 0s 4ms/step - loss: 10.2944 - mae: 10.2944\n",
            "Epoch 9/100\n",
            "1/1 [==============================] - 0s 4ms/step - loss: 10.1619 - mae: 10.1619\n",
            "Epoch 10/100\n",
            "1/1 [==============================] - 0s 5ms/step - loss: 10.0294 - mae: 10.0294\n",
            "Epoch 11/100\n",
            "1/1 [==============================] - 0s 7ms/step - loss: 9.8969 - mae: 9.8969\n",
            "Epoch 12/100\n",
            "1/1 [==============================] - 0s 6ms/step - loss: 9.7644 - mae: 9.7644\n",
            "Epoch 13/100\n",
            "1/1 [==============================] - 0s 3ms/step - loss: 9.6319 - mae: 9.6319\n",
            "Epoch 14/100\n",
            "1/1 [==============================] - 0s 4ms/step - loss: 9.4994 - mae: 9.4994\n",
            "Epoch 15/100\n",
            "1/1 [==============================] - 0s 5ms/step - loss: 9.3669 - mae: 9.3669\n",
            "Epoch 16/100\n",
            "1/1 [==============================] - 0s 8ms/step - loss: 9.2344 - mae: 9.2344\n",
            "Epoch 17/100\n",
            "1/1 [==============================] - 0s 4ms/step - loss: 9.1019 - mae: 9.1019\n",
            "Epoch 18/100\n",
            "1/1 [==============================] - 0s 5ms/step - loss: 8.9694 - mae: 8.9694\n",
            "Epoch 19/100\n",
            "1/1 [==============================] - 0s 7ms/step - loss: 8.8369 - mae: 8.8369\n",
            "Epoch 20/100\n",
            "1/1 [==============================] - 0s 5ms/step - loss: 8.7044 - mae: 8.7044\n",
            "Epoch 21/100\n",
            "1/1 [==============================] - 0s 9ms/step - loss: 8.5719 - mae: 8.5719\n",
            "Epoch 22/100\n",
            "1/1 [==============================] - 0s 5ms/step - loss: 8.4394 - mae: 8.4394\n",
            "Epoch 23/100\n",
            "1/1 [==============================] - 0s 6ms/step - loss: 8.3069 - mae: 8.3069\n",
            "Epoch 24/100\n",
            "1/1 [==============================] - 0s 5ms/step - loss: 8.1744 - mae: 8.1744\n",
            "Epoch 25/100\n",
            "1/1 [==============================] - 0s 6ms/step - loss: 8.0419 - mae: 8.0419\n",
            "Epoch 26/100\n",
            "1/1 [==============================] - 0s 6ms/step - loss: 7.9094 - mae: 7.9094\n",
            "Epoch 27/100\n",
            "1/1 [==============================] - 0s 4ms/step - loss: 7.7769 - mae: 7.7769\n",
            "Epoch 28/100\n",
            "1/1 [==============================] - 0s 6ms/step - loss: 7.6444 - mae: 7.6444\n",
            "Epoch 29/100\n",
            "1/1 [==============================] - 0s 6ms/step - loss: 7.5119 - mae: 7.5119\n",
            "Epoch 30/100\n",
            "1/1 [==============================] - 0s 6ms/step - loss: 7.3794 - mae: 7.3794\n",
            "Epoch 31/100\n",
            "1/1 [==============================] - 0s 6ms/step - loss: 7.2750 - mae: 7.2750\n",
            "Epoch 32/100\n",
            "1/1 [==============================] - 0s 6ms/step - loss: 7.2694 - mae: 7.2694\n",
            "Epoch 33/100\n",
            "1/1 [==============================] - 0s 6ms/step - loss: 7.2638 - mae: 7.2638\n",
            "Epoch 34/100\n",
            "1/1 [==============================] - 0s 4ms/step - loss: 7.2581 - mae: 7.2581\n",
            "Epoch 35/100\n",
            "1/1 [==============================] - 0s 7ms/step - loss: 7.2525 - mae: 7.2525\n",
            "Epoch 36/100\n",
            "1/1 [==============================] - 0s 4ms/step - loss: 7.2469 - mae: 7.2469\n",
            "Epoch 37/100\n",
            "1/1 [==============================] - 0s 4ms/step - loss: 7.2412 - mae: 7.2412\n",
            "Epoch 38/100\n",
            "1/1 [==============================] - 0s 4ms/step - loss: 7.2356 - mae: 7.2356\n",
            "Epoch 39/100\n",
            "1/1 [==============================] - 0s 7ms/step - loss: 7.2300 - mae: 7.2300\n",
            "Epoch 40/100\n",
            "1/1 [==============================] - 0s 5ms/step - loss: 7.2244 - mae: 7.2244\n",
            "Epoch 41/100\n",
            "1/1 [==============================] - 0s 6ms/step - loss: 7.2188 - mae: 7.2188\n",
            "Epoch 42/100\n",
            "1/1 [==============================] - 0s 6ms/step - loss: 7.2131 - mae: 7.2131\n",
            "Epoch 43/100\n",
            "1/1 [==============================] - 0s 6ms/step - loss: 7.2075 - mae: 7.2075\n",
            "Epoch 44/100\n",
            "1/1 [==============================] - 0s 5ms/step - loss: 7.2019 - mae: 7.2019\n",
            "Epoch 45/100\n",
            "1/1 [==============================] - 0s 7ms/step - loss: 7.1962 - mae: 7.1962\n",
            "Epoch 46/100\n",
            "1/1 [==============================] - 0s 4ms/step - loss: 7.1906 - mae: 7.1906\n",
            "Epoch 47/100\n",
            "1/1 [==============================] - 0s 7ms/step - loss: 7.1850 - mae: 7.1850\n",
            "Epoch 48/100\n",
            "1/1 [==============================] - 0s 5ms/step - loss: 7.1794 - mae: 7.1794\n",
            "Epoch 49/100\n",
            "1/1 [==============================] - 0s 11ms/step - loss: 7.1737 - mae: 7.1737\n",
            "Epoch 50/100\n",
            "1/1 [==============================] - 0s 4ms/step - loss: 7.1681 - mae: 7.1681\n",
            "Epoch 51/100\n",
            "1/1 [==============================] - 0s 4ms/step - loss: 7.1625 - mae: 7.1625\n",
            "Epoch 52/100\n",
            "1/1 [==============================] - 0s 6ms/step - loss: 7.1569 - mae: 7.1569\n",
            "Epoch 53/100\n",
            "1/1 [==============================] - 0s 7ms/step - loss: 7.1512 - mae: 7.1512\n",
            "Epoch 54/100\n",
            "1/1 [==============================] - 0s 9ms/step - loss: 7.1456 - mae: 7.1456\n",
            "Epoch 55/100\n",
            "1/1 [==============================] - 0s 5ms/step - loss: 7.1400 - mae: 7.1400\n",
            "Epoch 56/100\n",
            "1/1 [==============================] - 0s 6ms/step - loss: 7.1344 - mae: 7.1344\n",
            "Epoch 57/100\n",
            "1/1 [==============================] - 0s 4ms/step - loss: 7.1287 - mae: 7.1287\n",
            "Epoch 58/100\n",
            "1/1 [==============================] - 0s 7ms/step - loss: 7.1231 - mae: 7.1231\n",
            "Epoch 59/100\n",
            "1/1 [==============================] - 0s 4ms/step - loss: 7.1175 - mae: 7.1175\n",
            "Epoch 60/100\n",
            "1/1 [==============================] - 0s 6ms/step - loss: 7.1119 - mae: 7.1119\n",
            "Epoch 61/100\n",
            "1/1 [==============================] - 0s 5ms/step - loss: 7.1062 - mae: 7.1062\n",
            "Epoch 62/100\n",
            "1/1 [==============================] - 0s 7ms/step - loss: 7.1006 - mae: 7.1006\n",
            "Epoch 63/100\n",
            "1/1 [==============================] - 0s 4ms/step - loss: 7.0950 - mae: 7.0950\n",
            "Epoch 64/100\n",
            "1/1 [==============================] - 0s 9ms/step - loss: 7.0894 - mae: 7.0894\n",
            "Epoch 65/100\n",
            "1/1 [==============================] - 0s 5ms/step - loss: 7.0838 - mae: 7.0838\n",
            "Epoch 66/100\n",
            "1/1 [==============================] - 0s 4ms/step - loss: 7.0781 - mae: 7.0781\n",
            "Epoch 67/100\n",
            "1/1 [==============================] - 0s 7ms/step - loss: 7.0725 - mae: 7.0725\n",
            "Epoch 68/100\n",
            "1/1 [==============================] - 0s 4ms/step - loss: 7.0669 - mae: 7.0669\n",
            "Epoch 69/100\n",
            "1/1 [==============================] - 0s 11ms/step - loss: 7.0613 - mae: 7.0613\n",
            "Epoch 70/100\n",
            "1/1 [==============================] - 0s 4ms/step - loss: 7.0556 - mae: 7.0556\n",
            "Epoch 71/100\n",
            "1/1 [==============================] - 0s 6ms/step - loss: 7.0500 - mae: 7.0500\n",
            "Epoch 72/100\n",
            "1/1 [==============================] - 0s 8ms/step - loss: 7.0444 - mae: 7.0444\n",
            "Epoch 73/100\n",
            "1/1 [==============================] - 0s 5ms/step - loss: 7.0388 - mae: 7.0388\n",
            "Epoch 74/100\n",
            "1/1 [==============================] - 0s 9ms/step - loss: 7.0331 - mae: 7.0331\n",
            "Epoch 75/100\n",
            "1/1 [==============================] - 0s 5ms/step - loss: 7.0275 - mae: 7.0275\n",
            "Epoch 76/100\n",
            "1/1 [==============================] - 0s 5ms/step - loss: 7.0219 - mae: 7.0219\n",
            "Epoch 77/100\n",
            "1/1 [==============================] - 0s 7ms/step - loss: 7.0163 - mae: 7.0163\n",
            "Epoch 78/100\n",
            "1/1 [==============================] - 0s 7ms/step - loss: 7.0106 - mae: 7.0106\n",
            "Epoch 79/100\n",
            "1/1 [==============================] - 0s 6ms/step - loss: 7.0050 - mae: 7.0050\n",
            "Epoch 80/100\n",
            "1/1 [==============================] - 0s 7ms/step - loss: 6.9994 - mae: 6.9994\n",
            "Epoch 81/100\n",
            "1/1 [==============================] - 0s 5ms/step - loss: 6.9938 - mae: 6.9938\n",
            "Epoch 82/100\n",
            "1/1 [==============================] - 0s 8ms/step - loss: 6.9881 - mae: 6.9881\n",
            "Epoch 83/100\n",
            "1/1 [==============================] - 0s 4ms/step - loss: 6.9825 - mae: 6.9825\n",
            "Epoch 84/100\n",
            "1/1 [==============================] - 0s 8ms/step - loss: 6.9769 - mae: 6.9769\n",
            "Epoch 85/100\n",
            "1/1 [==============================] - 0s 5ms/step - loss: 6.9713 - mae: 6.9713\n",
            "Epoch 86/100\n",
            "1/1 [==============================] - 0s 5ms/step - loss: 6.9656 - mae: 6.9656\n",
            "Epoch 87/100\n",
            "1/1 [==============================] - 0s 9ms/step - loss: 6.9600 - mae: 6.9600\n",
            "Epoch 88/100\n",
            "1/1 [==============================] - 0s 5ms/step - loss: 6.9544 - mae: 6.9544\n",
            "Epoch 89/100\n",
            "1/1 [==============================] - 0s 21ms/step - loss: 6.9488 - mae: 6.9488\n",
            "Epoch 90/100\n",
            "1/1 [==============================] - 0s 4ms/step - loss: 6.9431 - mae: 6.9431\n",
            "Epoch 91/100\n",
            "1/1 [==============================] - 0s 5ms/step - loss: 6.9375 - mae: 6.9375\n",
            "Epoch 92/100\n",
            "1/1 [==============================] - 0s 5ms/step - loss: 6.9319 - mae: 6.9319\n",
            "Epoch 93/100\n",
            "1/1 [==============================] - 0s 7ms/step - loss: 6.9263 - mae: 6.9263\n",
            "Epoch 94/100\n",
            "1/1 [==============================] - 0s 5ms/step - loss: 6.9206 - mae: 6.9206\n",
            "Epoch 95/100\n",
            "1/1 [==============================] - 0s 9ms/step - loss: 6.9150 - mae: 6.9150\n",
            "Epoch 96/100\n",
            "1/1 [==============================] - 0s 4ms/step - loss: 6.9094 - mae: 6.9094\n",
            "Epoch 97/100\n",
            "1/1 [==============================] - 0s 4ms/step - loss: 6.9038 - mae: 6.9038\n",
            "Epoch 98/100\n",
            "1/1 [==============================] - 0s 7ms/step - loss: 6.8981 - mae: 6.8981\n",
            "Epoch 99/100\n",
            "1/1 [==============================] - 0s 4ms/step - loss: 6.8925 - mae: 6.8925\n",
            "Epoch 100/100\n",
            "1/1 [==============================] - 0s 6ms/step - loss: 6.8869 - mae: 6.8869\n"
          ],
          "name": "stdout"
        },
        {
          "output_type": "execute_result",
          "data": {
            "text/plain": [
              "<tensorflow.python.keras.callbacks.History at 0x7f3c4e58ef90>"
            ]
          },
          "metadata": {
            "tags": []
          },
          "execution_count": 29
        }
      ]
    },
    {
      "cell_type": "markdown",
      "metadata": {
        "id": "cXCYzVvcqJab"
      },
      "source": [
        "#1Here we see that by changing a single hyperparameter we changed the mae to aprox 7"
      ]
    },
    {
      "cell_type": "code",
      "metadata": {
        "colab": {
          "base_uri": "https://localhost:8080/"
        },
        "id": "1dsR6m8VqSM2",
        "outputId": "c6347eef-c9a5-4e46-a7e4-25b160d28b8b"
      },
      "source": [
        "#predicting the data\n",
        "model.predict([17.0])\n"
      ],
      "execution_count": null,
      "outputs": [
        {
          "output_type": "execute_result",
          "data": {
            "text/plain": [
              "array([[29.739855]], dtype=float32)"
            ]
          },
          "metadata": {
            "tags": []
          },
          "execution_count": 30
        }
      ]
    },
    {
      "cell_type": "code",
      "metadata": {
        "colab": {
          "base_uri": "https://localhost:8080/"
        },
        "id": "aXyHRTIFqoUw",
        "outputId": "2446b9d9-987a-42aa-9a68-872f2f31ac29"
      },
      "source": [
        "#now lets try to change further parameters in our NN\n",
        "\n",
        "#create the model\n",
        "model=tf.keras.Sequential([\n",
        "                           tf.keras.layers.Dense(100, activation=None ),\n",
        "                           tf.keras.layers.Dense(1)\n",
        "])\n",
        "#compile the model\n",
        "model.compile(loss=tf.keras.losses.mae,\n",
        "              optimizer=tf.keras.optimizers.SGD(),\n",
        "              metrics=[\"mae\"])\n",
        "#fit the model\n",
        "model.fit(X,y, epochs=100)"
      ],
      "execution_count": null,
      "outputs": [
        {
          "output_type": "stream",
          "text": [
            "Epoch 1/100\n",
            "1/1 [==============================] - 0s 293ms/step - loss: 12.0109 - mae: 12.0109\n",
            "Epoch 2/100\n",
            "1/1 [==============================] - 0s 5ms/step - loss: 11.5402 - mae: 11.5402\n",
            "Epoch 3/100\n",
            "1/1 [==============================] - 0s 6ms/step - loss: 11.0604 - mae: 11.0604\n",
            "Epoch 4/100\n",
            "1/1 [==============================] - 0s 6ms/step - loss: 10.5690 - mae: 10.5690\n",
            "Epoch 5/100\n",
            "1/1 [==============================] - 0s 9ms/step - loss: 10.0635 - mae: 10.0635\n",
            "Epoch 6/100\n",
            "1/1 [==============================] - 0s 5ms/step - loss: 9.5413 - mae: 9.5413\n",
            "Epoch 7/100\n",
            "1/1 [==============================] - 0s 7ms/step - loss: 8.9998 - mae: 8.9998\n",
            "Epoch 8/100\n",
            "1/1 [==============================] - 0s 6ms/step - loss: 8.4362 - mae: 8.4362\n",
            "Epoch 9/100\n",
            "1/1 [==============================] - 0s 4ms/step - loss: 7.8475 - mae: 7.8475\n",
            "Epoch 10/100\n",
            "1/1 [==============================] - 0s 6ms/step - loss: 7.2898 - mae: 7.2898\n",
            "Epoch 11/100\n",
            "1/1 [==============================] - 0s 6ms/step - loss: 7.2707 - mae: 7.2707\n",
            "Epoch 12/100\n",
            "1/1 [==============================] - 0s 10ms/step - loss: 7.2516 - mae: 7.2516\n",
            "Epoch 13/100\n",
            "1/1 [==============================] - 0s 6ms/step - loss: 7.2325 - mae: 7.2325\n",
            "Epoch 14/100\n",
            "1/1 [==============================] - 0s 6ms/step - loss: 7.2133 - mae: 7.2133\n",
            "Epoch 15/100\n",
            "1/1 [==============================] - 0s 5ms/step - loss: 7.1941 - mae: 7.1941\n",
            "Epoch 16/100\n",
            "1/1 [==============================] - 0s 6ms/step - loss: 7.1749 - mae: 7.1749\n",
            "Epoch 17/100\n",
            "1/1 [==============================] - 0s 8ms/step - loss: 7.1556 - mae: 7.1556\n",
            "Epoch 18/100\n",
            "1/1 [==============================] - 0s 6ms/step - loss: 7.1362 - mae: 7.1362\n",
            "Epoch 19/100\n",
            "1/1 [==============================] - 0s 8ms/step - loss: 7.1168 - mae: 7.1168\n",
            "Epoch 20/100\n",
            "1/1 [==============================] - 0s 5ms/step - loss: 7.0974 - mae: 7.0974\n",
            "Epoch 21/100\n",
            "1/1 [==============================] - 0s 8ms/step - loss: 7.0778 - mae: 7.0778\n",
            "Epoch 22/100\n",
            "1/1 [==============================] - 0s 5ms/step - loss: 7.0583 - mae: 7.0583\n",
            "Epoch 23/100\n",
            "1/1 [==============================] - 0s 13ms/step - loss: 7.0386 - mae: 7.0386\n",
            "Epoch 24/100\n",
            "1/1 [==============================] - 0s 5ms/step - loss: 7.0189 - mae: 7.0189\n",
            "Epoch 25/100\n",
            "1/1 [==============================] - 0s 5ms/step - loss: 6.9991 - mae: 6.9991\n",
            "Epoch 26/100\n",
            "1/1 [==============================] - 0s 5ms/step - loss: 6.9792 - mae: 6.9792\n",
            "Epoch 27/100\n",
            "1/1 [==============================] - 0s 6ms/step - loss: 6.9592 - mae: 6.9592\n",
            "Epoch 28/100\n",
            "1/1 [==============================] - 0s 4ms/step - loss: 6.9392 - mae: 6.9392\n",
            "Epoch 29/100\n",
            "1/1 [==============================] - 0s 6ms/step - loss: 6.9191 - mae: 6.9191\n",
            "Epoch 30/100\n",
            "1/1 [==============================] - 0s 4ms/step - loss: 6.8988 - mae: 6.8988\n",
            "Epoch 31/100\n",
            "1/1 [==============================] - 0s 7ms/step - loss: 6.8785 - mae: 6.8785\n",
            "Epoch 32/100\n",
            "1/1 [==============================] - 0s 7ms/step - loss: 6.8581 - mae: 6.8581\n",
            "Epoch 33/100\n",
            "1/1 [==============================] - 0s 9ms/step - loss: 6.8376 - mae: 6.8376\n",
            "Epoch 34/100\n",
            "1/1 [==============================] - 0s 4ms/step - loss: 6.8170 - mae: 6.8170\n",
            "Epoch 35/100\n",
            "1/1 [==============================] - 0s 3ms/step - loss: 6.7963 - mae: 6.7963\n",
            "Epoch 36/100\n",
            "1/1 [==============================] - 0s 5ms/step - loss: 6.7755 - mae: 6.7755\n",
            "Epoch 37/100\n",
            "1/1 [==============================] - 0s 5ms/step - loss: 6.7545 - mae: 6.7545\n",
            "Epoch 38/100\n",
            "1/1 [==============================] - 0s 4ms/step - loss: 6.7335 - mae: 6.7335\n",
            "Epoch 39/100\n",
            "1/1 [==============================] - 0s 6ms/step - loss: 6.7123 - mae: 6.7123\n",
            "Epoch 40/100\n",
            "1/1 [==============================] - 0s 10ms/step - loss: 6.6910 - mae: 6.6910\n",
            "Epoch 41/100\n",
            "1/1 [==============================] - 0s 5ms/step - loss: 6.6696 - mae: 6.6696\n",
            "Epoch 42/100\n",
            "1/1 [==============================] - 0s 11ms/step - loss: 6.6480 - mae: 6.6480\n",
            "Epoch 43/100\n",
            "1/1 [==============================] - 0s 5ms/step - loss: 6.6263 - mae: 6.6263\n",
            "Epoch 44/100\n",
            "1/1 [==============================] - 0s 13ms/step - loss: 6.6045 - mae: 6.6045\n",
            "Epoch 45/100\n",
            "1/1 [==============================] - 0s 16ms/step - loss: 6.5876 - mae: 6.5876\n",
            "Epoch 46/100\n",
            "1/1 [==============================] - 0s 9ms/step - loss: 6.5798 - mae: 6.5798\n",
            "Epoch 47/100\n",
            "1/1 [==============================] - 0s 5ms/step - loss: 6.5582 - mae: 6.5582\n",
            "Epoch 48/100\n",
            "1/1 [==============================] - 0s 6ms/step - loss: 6.5363 - mae: 6.5363\n",
            "Epoch 49/100\n",
            "1/1 [==============================] - 0s 18ms/step - loss: 6.5144 - mae: 6.5144\n",
            "Epoch 50/100\n",
            "1/1 [==============================] - 0s 11ms/step - loss: 6.4922 - mae: 6.4922\n",
            "Epoch 51/100\n",
            "1/1 [==============================] - 0s 9ms/step - loss: 6.4700 - mae: 6.4700\n",
            "Epoch 52/100\n",
            "1/1 [==============================] - 0s 4ms/step - loss: 6.4475 - mae: 6.4475\n",
            "Epoch 53/100\n",
            "1/1 [==============================] - 0s 5ms/step - loss: 6.4249 - mae: 6.4249\n",
            "Epoch 54/100\n",
            "1/1 [==============================] - 0s 6ms/step - loss: 6.4021 - mae: 6.4021\n",
            "Epoch 55/100\n",
            "1/1 [==============================] - 0s 8ms/step - loss: 6.3792 - mae: 6.3792\n",
            "Epoch 56/100\n",
            "1/1 [==============================] - 0s 4ms/step - loss: 6.3560 - mae: 6.3560\n",
            "Epoch 57/100\n",
            "1/1 [==============================] - 0s 7ms/step - loss: 6.3327 - mae: 6.3327\n",
            "Epoch 58/100\n",
            "1/1 [==============================] - 0s 5ms/step - loss: 6.3092 - mae: 6.3092\n",
            "Epoch 59/100\n",
            "1/1 [==============================] - 0s 5ms/step - loss: 6.2855 - mae: 6.2855\n",
            "Epoch 60/100\n",
            "1/1 [==============================] - 0s 6ms/step - loss: 6.2616 - mae: 6.2616\n",
            "Epoch 61/100\n",
            "1/1 [==============================] - 0s 4ms/step - loss: 6.2375 - mae: 6.2375\n",
            "Epoch 62/100\n",
            "1/1 [==============================] - 0s 7ms/step - loss: 6.2132 - mae: 6.2132\n",
            "Epoch 63/100\n",
            "1/1 [==============================] - 0s 4ms/step - loss: 6.1887 - mae: 6.1887\n",
            "Epoch 64/100\n",
            "1/1 [==============================] - 0s 5ms/step - loss: 6.1785 - mae: 6.1785\n",
            "Epoch 65/100\n",
            "1/1 [==============================] - 0s 7ms/step - loss: 6.1639 - mae: 6.1639\n",
            "Epoch 66/100\n",
            "1/1 [==============================] - 0s 5ms/step - loss: 6.1393 - mae: 6.1393\n",
            "Epoch 67/100\n",
            "1/1 [==============================] - 0s 5ms/step - loss: 6.1146 - mae: 6.1146\n",
            "Epoch 68/100\n",
            "1/1 [==============================] - 0s 10ms/step - loss: 6.0896 - mae: 6.0896\n",
            "Epoch 69/100\n",
            "1/1 [==============================] - 0s 4ms/step - loss: 6.0644 - mae: 6.0644\n",
            "Epoch 70/100\n",
            "1/1 [==============================] - 0s 4ms/step - loss: 6.0390 - mae: 6.0390\n",
            "Epoch 71/100\n",
            "1/1 [==============================] - 0s 9ms/step - loss: 6.0133 - mae: 6.0133\n",
            "Epoch 72/100\n",
            "1/1 [==============================] - 0s 10ms/step - loss: 5.9874 - mae: 5.9874\n",
            "Epoch 73/100\n",
            "1/1 [==============================] - 0s 5ms/step - loss: 5.9612 - mae: 5.9612\n",
            "Epoch 74/100\n",
            "1/1 [==============================] - 0s 4ms/step - loss: 5.9348 - mae: 5.9348\n",
            "Epoch 75/100\n",
            "1/1 [==============================] - 0s 3ms/step - loss: 5.9081 - mae: 5.9081\n",
            "Epoch 76/100\n",
            "1/1 [==============================] - 0s 5ms/step - loss: 5.8812 - mae: 5.8812\n",
            "Epoch 77/100\n",
            "1/1 [==============================] - 0s 7ms/step - loss: 5.8540 - mae: 5.8540\n",
            "Epoch 78/100\n",
            "1/1 [==============================] - 0s 4ms/step - loss: 5.8265 - mae: 5.8265\n",
            "Epoch 79/100\n",
            "1/1 [==============================] - 0s 3ms/step - loss: 5.7988 - mae: 5.7988\n",
            "Epoch 80/100\n",
            "1/1 [==============================] - 0s 10ms/step - loss: 5.7961 - mae: 5.7961\n",
            "Epoch 81/100\n",
            "1/1 [==============================] - 0s 9ms/step - loss: 5.7717 - mae: 5.7717\n",
            "Epoch 82/100\n",
            "1/1 [==============================] - 0s 8ms/step - loss: 5.7437 - mae: 5.7437\n",
            "Epoch 83/100\n",
            "1/1 [==============================] - 0s 12ms/step - loss: 5.7155 - mae: 5.7155\n",
            "Epoch 84/100\n",
            "1/1 [==============================] - 0s 18ms/step - loss: 5.6869 - mae: 5.6869\n",
            "Epoch 85/100\n",
            "1/1 [==============================] - 0s 7ms/step - loss: 5.6581 - mae: 5.6581\n",
            "Epoch 86/100\n",
            "1/1 [==============================] - 0s 4ms/step - loss: 5.6290 - mae: 5.6290\n",
            "Epoch 87/100\n",
            "1/1 [==============================] - 0s 5ms/step - loss: 5.5995 - mae: 5.5995\n",
            "Epoch 88/100\n",
            "1/1 [==============================] - 0s 7ms/step - loss: 5.5697 - mae: 5.5697\n",
            "Epoch 89/100\n",
            "1/1 [==============================] - 0s 5ms/step - loss: 5.5396 - mae: 5.5396\n",
            "Epoch 90/100\n",
            "1/1 [==============================] - 0s 4ms/step - loss: 5.5092 - mae: 5.5092\n",
            "Epoch 91/100\n",
            "1/1 [==============================] - 0s 10ms/step - loss: 5.4785 - mae: 5.4785\n",
            "Epoch 92/100\n",
            "1/1 [==============================] - 0s 5ms/step - loss: 5.4474 - mae: 5.4474\n",
            "Epoch 93/100\n",
            "1/1 [==============================] - 0s 4ms/step - loss: 5.4160 - mae: 5.4160\n",
            "Epoch 94/100\n",
            "1/1 [==============================] - 0s 10ms/step - loss: 5.4091 - mae: 5.4091\n",
            "Epoch 95/100\n",
            "1/1 [==============================] - 0s 4ms/step - loss: 5.3850 - mae: 5.3850\n",
            "Epoch 96/100\n",
            "1/1 [==============================] - 0s 9ms/step - loss: 5.3532 - mae: 5.3532\n",
            "Epoch 97/100\n",
            "1/1 [==============================] - 0s 4ms/step - loss: 5.3210 - mae: 5.3210\n",
            "Epoch 98/100\n",
            "1/1 [==============================] - 0s 6ms/step - loss: 5.2884 - mae: 5.2884\n",
            "Epoch 99/100\n",
            "1/1 [==============================] - 0s 5ms/step - loss: 5.2555 - mae: 5.2555\n",
            "Epoch 100/100\n",
            "1/1 [==============================] - 0s 8ms/step - loss: 5.2221 - mae: 5.2221\n"
          ],
          "name": "stdout"
        },
        {
          "output_type": "execute_result",
          "data": {
            "text/plain": [
              "<tensorflow.python.keras.callbacks.History at 0x7f3c4d4a0290>"
            ]
          },
          "metadata": {
            "tags": []
          },
          "execution_count": 31
        }
      ]
    },
    {
      "cell_type": "markdown",
      "metadata": {
        "id": "BLVWqIKnruDk"
      },
      "source": [
        "#now the loss is 3.699 reduced even further"
      ]
    },
    {
      "cell_type": "code",
      "metadata": {
        "colab": {
          "base_uri": "https://localhost:8080/"
        },
        "id": "tfCNxmS-r04X",
        "outputId": "525709ad-ef8c-4903-e4eb-24f13c1815c3"
      },
      "source": [
        "model.predict([17.0])"
      ],
      "execution_count": null,
      "outputs": [
        {
          "output_type": "execute_result",
          "data": {
            "text/plain": [
              "array([[29.61856]], dtype=float32)"
            ]
          },
          "metadata": {
            "tags": []
          },
          "execution_count": 32
        }
      ]
    },
    {
      "cell_type": "markdown",
      "metadata": {
        "id": "CoL48vKisFUV"
      },
      "source": [
        "#here we find out that adding extra layers actually reduced the accuracy of the model, this is in line with the prediction on AxelNet where increasin the number of parameters,accumulators,hidden layers actually decrease the accuracy\n",
        "\n",
        "We can conclude here that the model is overfitting over the data, and is deriving from previous values too well, ie just relating to what it already knows. so at the end, the error we get isn't a real valid representation of what it is doing. \n",
        "\n",
        "So remember that the real efficieny/accuracy we get from our model is not through the training data, but through data it has never seen before\n",
        "\n",
        "ALSO, decreasing the number of nuerons or the hidden nodes further decays the prediciton values. This is however, as expected\n",
        "\n",
        "\n",
        "#another important finding is that upon chaning the activation to none, the prediction values improved, thought the mae loss increased"
      ]
    },
    {
      "cell_type": "code",
      "metadata": {
        "colab": {
          "base_uri": "https://localhost:8080/"
        },
        "id": "7DF3r6_ZsWRR",
        "outputId": "267744db-3cda-40bc-d980-981e1cc2969d"
      },
      "source": [
        "#lets further try to make changes to the model again\n",
        "#this time changing the optimizer\n",
        "\n",
        "#1. create the model\n",
        "model=tf.keras.Sequential([\n",
        "                           tf.keras.layers.Dense(100, activation=\"relu\"),\n",
        "                           tf.keras.layers.Dense(1)\n",
        "])\n",
        "#2. compile the model\n",
        "\n",
        "model.compile(loss=tf.keras.losses.mae,\n",
        "              optimizer=tf.keras.optimizers.Adam(lr=0.0001),\n",
        "              metrics=[\"mae\"])\n",
        "#3.fit the mdoel\n",
        "model.fit(X,y,epochs=100)\n"
      ],
      "execution_count": null,
      "outputs": [
        {
          "output_type": "stream",
          "text": [
            "Epoch 1/100\n",
            "1/1 [==============================] - 0s 338ms/step - loss: 12.7339 - mae: 12.7339\n",
            "Epoch 2/100\n",
            "1/1 [==============================] - 0s 5ms/step - loss: 12.7255 - mae: 12.7255\n",
            "Epoch 3/100\n",
            "1/1 [==============================] - 0s 6ms/step - loss: 12.7171 - mae: 12.7171\n",
            "Epoch 4/100\n",
            "1/1 [==============================] - 0s 15ms/step - loss: 12.7087 - mae: 12.7087\n",
            "Epoch 5/100\n",
            "1/1 [==============================] - 0s 7ms/step - loss: 12.7003 - mae: 12.7003\n",
            "Epoch 6/100\n",
            "1/1 [==============================] - 0s 5ms/step - loss: 12.6919 - mae: 12.6919\n",
            "Epoch 7/100\n",
            "1/1 [==============================] - 0s 6ms/step - loss: 12.6834 - mae: 12.6834\n",
            "Epoch 8/100\n",
            "1/1 [==============================] - 0s 8ms/step - loss: 12.6750 - mae: 12.6750\n",
            "Epoch 9/100\n",
            "1/1 [==============================] - 0s 6ms/step - loss: 12.6666 - mae: 12.6666\n",
            "Epoch 10/100\n",
            "1/1 [==============================] - 0s 6ms/step - loss: 12.6582 - mae: 12.6582\n",
            "Epoch 11/100\n",
            "1/1 [==============================] - 0s 6ms/step - loss: 12.6498 - mae: 12.6498\n",
            "Epoch 12/100\n",
            "1/1 [==============================] - 0s 4ms/step - loss: 12.6415 - mae: 12.6415\n",
            "Epoch 13/100\n",
            "1/1 [==============================] - 0s 7ms/step - loss: 12.6331 - mae: 12.6331\n",
            "Epoch 14/100\n",
            "1/1 [==============================] - 0s 4ms/step - loss: 12.6248 - mae: 12.6248\n",
            "Epoch 15/100\n",
            "1/1 [==============================] - 0s 7ms/step - loss: 12.6164 - mae: 12.6164\n",
            "Epoch 16/100\n",
            "1/1 [==============================] - 0s 4ms/step - loss: 12.6080 - mae: 12.6080\n",
            "Epoch 17/100\n",
            "1/1 [==============================] - 0s 5ms/step - loss: 12.5996 - mae: 12.5996\n",
            "Epoch 18/100\n",
            "1/1 [==============================] - 0s 7ms/step - loss: 12.5912 - mae: 12.5912\n",
            "Epoch 19/100\n",
            "1/1 [==============================] - 0s 5ms/step - loss: 12.5828 - mae: 12.5828\n",
            "Epoch 20/100\n",
            "1/1 [==============================] - 0s 5ms/step - loss: 12.5745 - mae: 12.5745\n",
            "Epoch 21/100\n",
            "1/1 [==============================] - 0s 5ms/step - loss: 12.5661 - mae: 12.5661\n",
            "Epoch 22/100\n",
            "1/1 [==============================] - 0s 4ms/step - loss: 12.5577 - mae: 12.5577\n",
            "Epoch 23/100\n",
            "1/1 [==============================] - 0s 4ms/step - loss: 12.5493 - mae: 12.5493\n",
            "Epoch 24/100\n",
            "1/1 [==============================] - 0s 5ms/step - loss: 12.5409 - mae: 12.5409\n",
            "Epoch 25/100\n",
            "1/1 [==============================] - 0s 6ms/step - loss: 12.5326 - mae: 12.5326\n",
            "Epoch 26/100\n",
            "1/1 [==============================] - 0s 5ms/step - loss: 12.5242 - mae: 12.5242\n",
            "Epoch 27/100\n",
            "1/1 [==============================] - 0s 6ms/step - loss: 12.5158 - mae: 12.5158\n",
            "Epoch 28/100\n",
            "1/1 [==============================] - 0s 7ms/step - loss: 12.5074 - mae: 12.5074\n",
            "Epoch 29/100\n",
            "1/1 [==============================] - 0s 6ms/step - loss: 12.4990 - mae: 12.4990\n",
            "Epoch 30/100\n",
            "1/1 [==============================] - 0s 5ms/step - loss: 12.4907 - mae: 12.4907\n",
            "Epoch 31/100\n",
            "1/1 [==============================] - 0s 7ms/step - loss: 12.4823 - mae: 12.4823\n",
            "Epoch 32/100\n",
            "1/1 [==============================] - 0s 5ms/step - loss: 12.4739 - mae: 12.4739\n",
            "Epoch 33/100\n",
            "1/1 [==============================] - 0s 6ms/step - loss: 12.4656 - mae: 12.4656\n",
            "Epoch 34/100\n",
            "1/1 [==============================] - 0s 7ms/step - loss: 12.4572 - mae: 12.4572\n",
            "Epoch 35/100\n",
            "1/1 [==============================] - 0s 17ms/step - loss: 12.4488 - mae: 12.4488\n",
            "Epoch 36/100\n",
            "1/1 [==============================] - 0s 8ms/step - loss: 12.4404 - mae: 12.4404\n",
            "Epoch 37/100\n",
            "1/1 [==============================] - 0s 6ms/step - loss: 12.4321 - mae: 12.4321\n",
            "Epoch 38/100\n",
            "1/1 [==============================] - 0s 4ms/step - loss: 12.4237 - mae: 12.4237\n",
            "Epoch 39/100\n",
            "1/1 [==============================] - 0s 6ms/step - loss: 12.4153 - mae: 12.4153\n",
            "Epoch 40/100\n",
            "1/1 [==============================] - 0s 6ms/step - loss: 12.4069 - mae: 12.4069\n",
            "Epoch 41/100\n",
            "1/1 [==============================] - 0s 6ms/step - loss: 12.3986 - mae: 12.3986\n",
            "Epoch 42/100\n",
            "1/1 [==============================] - 0s 6ms/step - loss: 12.3902 - mae: 12.3902\n",
            "Epoch 43/100\n",
            "1/1 [==============================] - 0s 6ms/step - loss: 12.3818 - mae: 12.3818\n",
            "Epoch 44/100\n",
            "1/1 [==============================] - 0s 5ms/step - loss: 12.3734 - mae: 12.3734\n",
            "Epoch 45/100\n",
            "1/1 [==============================] - 0s 7ms/step - loss: 12.3650 - mae: 12.3650\n",
            "Epoch 46/100\n",
            "1/1 [==============================] - 0s 6ms/step - loss: 12.3567 - mae: 12.3567\n",
            "Epoch 47/100\n",
            "1/1 [==============================] - 0s 5ms/step - loss: 12.3483 - mae: 12.3483\n",
            "Epoch 48/100\n",
            "1/1 [==============================] - 0s 12ms/step - loss: 12.3399 - mae: 12.3399\n",
            "Epoch 49/100\n",
            "1/1 [==============================] - 0s 6ms/step - loss: 12.3315 - mae: 12.3315\n",
            "Epoch 50/100\n",
            "1/1 [==============================] - 0s 6ms/step - loss: 12.3231 - mae: 12.3231\n",
            "Epoch 51/100\n",
            "1/1 [==============================] - 0s 9ms/step - loss: 12.3147 - mae: 12.3147\n",
            "Epoch 52/100\n",
            "1/1 [==============================] - 0s 5ms/step - loss: 12.3063 - mae: 12.3063\n",
            "Epoch 53/100\n",
            "1/1 [==============================] - 0s 9ms/step - loss: 12.2979 - mae: 12.2979\n",
            "Epoch 54/100\n",
            "1/1 [==============================] - 0s 7ms/step - loss: 12.2895 - mae: 12.2895\n",
            "Epoch 55/100\n",
            "1/1 [==============================] - 0s 6ms/step - loss: 12.2811 - mae: 12.2811\n",
            "Epoch 56/100\n",
            "1/1 [==============================] - 0s 10ms/step - loss: 12.2727 - mae: 12.2727\n",
            "Epoch 57/100\n",
            "1/1 [==============================] - 0s 7ms/step - loss: 12.2643 - mae: 12.2643\n",
            "Epoch 58/100\n",
            "1/1 [==============================] - 0s 6ms/step - loss: 12.2559 - mae: 12.2559\n",
            "Epoch 59/100\n",
            "1/1 [==============================] - 0s 8ms/step - loss: 12.2475 - mae: 12.2475\n",
            "Epoch 60/100\n",
            "1/1 [==============================] - 0s 9ms/step - loss: 12.2391 - mae: 12.2391\n",
            "Epoch 61/100\n",
            "1/1 [==============================] - 0s 5ms/step - loss: 12.2307 - mae: 12.2307\n",
            "Epoch 62/100\n",
            "1/1 [==============================] - 0s 5ms/step - loss: 12.2223 - mae: 12.2223\n",
            "Epoch 63/100\n",
            "1/1 [==============================] - 0s 9ms/step - loss: 12.2139 - mae: 12.2139\n",
            "Epoch 64/100\n",
            "1/1 [==============================] - 0s 6ms/step - loss: 12.2055 - mae: 12.2055\n",
            "Epoch 65/100\n",
            "1/1 [==============================] - 0s 8ms/step - loss: 12.1971 - mae: 12.1971\n",
            "Epoch 66/100\n",
            "1/1 [==============================] - 0s 5ms/step - loss: 12.1886 - mae: 12.1886\n",
            "Epoch 67/100\n",
            "1/1 [==============================] - 0s 7ms/step - loss: 12.1802 - mae: 12.1802\n",
            "Epoch 68/100\n",
            "1/1 [==============================] - 0s 7ms/step - loss: 12.1718 - mae: 12.1718\n",
            "Epoch 69/100\n",
            "1/1 [==============================] - 0s 5ms/step - loss: 12.1634 - mae: 12.1634\n",
            "Epoch 70/100\n",
            "1/1 [==============================] - 0s 7ms/step - loss: 12.1550 - mae: 12.1550\n",
            "Epoch 71/100\n",
            "1/1 [==============================] - 0s 5ms/step - loss: 12.1465 - mae: 12.1465\n",
            "Epoch 72/100\n",
            "1/1 [==============================] - 0s 9ms/step - loss: 12.1381 - mae: 12.1381\n",
            "Epoch 73/100\n",
            "1/1 [==============================] - 0s 5ms/step - loss: 12.1297 - mae: 12.1297\n",
            "Epoch 74/100\n",
            "1/1 [==============================] - 0s 7ms/step - loss: 12.1213 - mae: 12.1213\n",
            "Epoch 75/100\n",
            "1/1 [==============================] - 0s 5ms/step - loss: 12.1128 - mae: 12.1128\n",
            "Epoch 76/100\n",
            "1/1 [==============================] - 0s 7ms/step - loss: 12.1044 - mae: 12.1044\n",
            "Epoch 77/100\n",
            "1/1 [==============================] - 0s 5ms/step - loss: 12.0960 - mae: 12.0960\n",
            "Epoch 78/100\n",
            "1/1 [==============================] - 0s 8ms/step - loss: 12.0876 - mae: 12.0876\n",
            "Epoch 79/100\n",
            "1/1 [==============================] - 0s 5ms/step - loss: 12.0791 - mae: 12.0791\n",
            "Epoch 80/100\n",
            "1/1 [==============================] - 0s 8ms/step - loss: 12.0707 - mae: 12.0707\n",
            "Epoch 81/100\n",
            "1/1 [==============================] - 0s 5ms/step - loss: 12.0623 - mae: 12.0623\n",
            "Epoch 82/100\n",
            "1/1 [==============================] - 0s 8ms/step - loss: 12.0538 - mae: 12.0538\n",
            "Epoch 83/100\n",
            "1/1 [==============================] - 0s 5ms/step - loss: 12.0454 - mae: 12.0454\n",
            "Epoch 84/100\n",
            "1/1 [==============================] - 0s 8ms/step - loss: 12.0370 - mae: 12.0370\n",
            "Epoch 85/100\n",
            "1/1 [==============================] - 0s 5ms/step - loss: 12.0285 - mae: 12.0285\n",
            "Epoch 86/100\n",
            "1/1 [==============================] - 0s 6ms/step - loss: 12.0201 - mae: 12.0201\n",
            "Epoch 87/100\n",
            "1/1 [==============================] - 0s 8ms/step - loss: 12.0116 - mae: 12.0116\n",
            "Epoch 88/100\n",
            "1/1 [==============================] - 0s 5ms/step - loss: 12.0032 - mae: 12.0032\n",
            "Epoch 89/100\n",
            "1/1 [==============================] - 0s 8ms/step - loss: 11.9947 - mae: 11.9947\n",
            "Epoch 90/100\n",
            "1/1 [==============================] - 0s 5ms/step - loss: 11.9863 - mae: 11.9863\n",
            "Epoch 91/100\n",
            "1/1 [==============================] - 0s 5ms/step - loss: 11.9778 - mae: 11.9778\n",
            "Epoch 92/100\n",
            "1/1 [==============================] - 0s 8ms/step - loss: 11.9694 - mae: 11.9694\n",
            "Epoch 93/100\n",
            "1/1 [==============================] - 0s 5ms/step - loss: 11.9610 - mae: 11.9610\n",
            "Epoch 94/100\n",
            "1/1 [==============================] - 0s 8ms/step - loss: 11.9525 - mae: 11.9525\n",
            "Epoch 95/100\n",
            "1/1 [==============================] - 0s 4ms/step - loss: 11.9441 - mae: 11.9441\n",
            "Epoch 96/100\n",
            "1/1 [==============================] - 0s 5ms/step - loss: 11.9356 - mae: 11.9356\n",
            "Epoch 97/100\n",
            "1/1 [==============================] - 0s 8ms/step - loss: 11.9272 - mae: 11.9272\n",
            "Epoch 98/100\n",
            "1/1 [==============================] - 0s 5ms/step - loss: 11.9188 - mae: 11.9188\n",
            "Epoch 99/100\n",
            "1/1 [==============================] - 0s 8ms/step - loss: 11.9103 - mae: 11.9103\n",
            "Epoch 100/100\n",
            "1/1 [==============================] - 0s 5ms/step - loss: 11.9019 - mae: 11.9019\n"
          ],
          "name": "stdout"
        },
        {
          "output_type": "execute_result",
          "data": {
            "text/plain": [
              "<tensorflow.python.keras.callbacks.History at 0x7f3c4c3a72d0>"
            ]
          },
          "metadata": {
            "tags": []
          },
          "execution_count": 33
        }
      ]
    },
    {
      "cell_type": "markdown",
      "metadata": {
        "id": "QqjR3wJVtm8i"
      },
      "source": [
        "Here we have another weird finding where introducing the adam optimizer with lr=0.0001 actually hindrerd the loss as well"
      ]
    },
    {
      "cell_type": "code",
      "metadata": {
        "colab": {
          "base_uri": "https://localhost:8080/"
        },
        "id": "9ZkSnlZmtwgn",
        "outputId": "52634141-6038-4e52-8ba4-d5a77d6cec1a"
      },
      "source": [
        "model.predict([17.0])"
      ],
      "execution_count": null,
      "outputs": [
        {
          "output_type": "execute_result",
          "data": {
            "text/plain": [
              "array([[4.625799]], dtype=float32)"
            ]
          },
          "metadata": {
            "tags": []
          },
          "execution_count": 34
        }
      ]
    },
    {
      "cell_type": "markdown",
      "metadata": {
        "id": "4COkScB0t0ZI"
      },
      "source": [
        "this shows that all otpimizations isn't good otpimization"
      ]
    },
    {
      "cell_type": "code",
      "metadata": {
        "colab": {
          "base_uri": "https://localhost:8080/"
        },
        "id": "A5LCWWE6t4pm",
        "outputId": "a382c8ab-5103-4df9-f157-96a6c5ba4675"
      },
      "source": [
        "#lets try another model change\n",
        "#its good practice to keep adding smaller changes to your model to understand \n",
        "#what works for model and what doesn't, this practice of incremental change \n",
        "#will lead to an overall good model\n",
        "#lets further try to make changes to the model again\n",
        "#this time changing the optimizer\n",
        "\n",
        "#1. create the model\n",
        "model=tf.keras.Sequential([\n",
        "                           tf.keras.layers.Dense(100, activation=\"relu\"),\n",
        "                           tf.keras.layers.Dense(1)\n",
        "])\n",
        "#2. compile the model\n",
        "\n",
        "model.compile(loss=tf.keras.losses.mae,\n",
        "              optimizer=tf.keras.optimizers.Adam(lr=0.01),\n",
        "              metrics=[\"mae\"])\n",
        "#3.fit the mdoel\n",
        "model.fit(X,y,epochs=100)\n",
        "\n"
      ],
      "execution_count": null,
      "outputs": [
        {
          "output_type": "stream",
          "text": [
            "Epoch 1/100\n",
            "1/1 [==============================] - 0s 328ms/step - loss: 13.0842 - mae: 13.0842\n",
            "Epoch 2/100\n",
            "1/1 [==============================] - 0s 10ms/step - loss: 12.1504 - mae: 12.1504\n",
            "Epoch 3/100\n",
            "1/1 [==============================] - 0s 5ms/step - loss: 11.1886 - mae: 11.1886\n",
            "Epoch 4/100\n",
            "1/1 [==============================] - 0s 7ms/step - loss: 10.2381 - mae: 10.2381\n",
            "Epoch 5/100\n",
            "1/1 [==============================] - 0s 4ms/step - loss: 9.4843 - mae: 9.4843\n",
            "Epoch 6/100\n",
            "1/1 [==============================] - 0s 6ms/step - loss: 8.7138 - mae: 8.7138\n",
            "Epoch 7/100\n",
            "1/1 [==============================] - 0s 5ms/step - loss: 7.9227 - mae: 7.9227\n",
            "Epoch 8/100\n",
            "1/1 [==============================] - 0s 4ms/step - loss: 7.1122 - mae: 7.1122\n",
            "Epoch 9/100\n",
            "1/1 [==============================] - 0s 6ms/step - loss: 6.2750 - mae: 6.2750\n",
            "Epoch 10/100\n",
            "1/1 [==============================] - 0s 4ms/step - loss: 5.4108 - mae: 5.4108\n",
            "Epoch 11/100\n",
            "1/1 [==============================] - 0s 10ms/step - loss: 4.5219 - mae: 4.5219\n",
            "Epoch 12/100\n",
            "1/1 [==============================] - 0s 12ms/step - loss: 3.8833 - mae: 3.8833\n",
            "Epoch 13/100\n",
            "1/1 [==============================] - 0s 7ms/step - loss: 3.8054 - mae: 3.8054\n",
            "Epoch 14/100\n",
            "1/1 [==============================] - 0s 13ms/step - loss: 3.9588 - mae: 3.9588\n",
            "Epoch 15/100\n",
            "1/1 [==============================] - 0s 14ms/step - loss: 4.2295 - mae: 4.2295\n",
            "Epoch 16/100\n",
            "1/1 [==============================] - 0s 11ms/step - loss: 4.5052 - mae: 4.5052\n",
            "Epoch 17/100\n",
            "1/1 [==============================] - 0s 7ms/step - loss: 4.6686 - mae: 4.6686\n",
            "Epoch 18/100\n",
            "1/1 [==============================] - 0s 6ms/step - loss: 4.7343 - mae: 4.7343\n",
            "Epoch 19/100\n",
            "1/1 [==============================] - 0s 6ms/step - loss: 4.7149 - mae: 4.7149\n",
            "Epoch 20/100\n",
            "1/1 [==============================] - 0s 6ms/step - loss: 4.6219 - mae: 4.6219\n",
            "Epoch 21/100\n",
            "1/1 [==============================] - 0s 4ms/step - loss: 4.4664 - mae: 4.4664\n",
            "Epoch 22/100\n",
            "1/1 [==============================] - 0s 5ms/step - loss: 4.2582 - mae: 4.2582\n",
            "Epoch 23/100\n",
            "1/1 [==============================] - 0s 8ms/step - loss: 4.0064 - mae: 4.0064\n",
            "Epoch 24/100\n",
            "1/1 [==============================] - 0s 4ms/step - loss: 3.7310 - mae: 3.7310\n",
            "Epoch 25/100\n",
            "1/1 [==============================] - 0s 6ms/step - loss: 3.5995 - mae: 3.5995\n",
            "Epoch 26/100\n",
            "1/1 [==============================] - 0s 5ms/step - loss: 3.4702 - mae: 3.4702\n",
            "Epoch 27/100\n",
            "1/1 [==============================] - 0s 6ms/step - loss: 3.3395 - mae: 3.3395\n",
            "Epoch 28/100\n",
            "1/1 [==============================] - 0s 5ms/step - loss: 3.2598 - mae: 3.2598\n",
            "Epoch 29/100\n",
            "1/1 [==============================] - 0s 6ms/step - loss: 3.2927 - mae: 3.2927\n",
            "Epoch 30/100\n",
            "1/1 [==============================] - 0s 5ms/step - loss: 3.3002 - mae: 3.3002\n",
            "Epoch 31/100\n",
            "1/1 [==============================] - 0s 10ms/step - loss: 3.2770 - mae: 3.2770\n",
            "Epoch 32/100\n",
            "1/1 [==============================] - 0s 6ms/step - loss: 3.2215 - mae: 3.2215\n",
            "Epoch 33/100\n",
            "1/1 [==============================] - 0s 4ms/step - loss: 3.1343 - mae: 3.1343\n",
            "Epoch 34/100\n",
            "1/1 [==============================] - 0s 4ms/step - loss: 3.0158 - mae: 3.0158\n",
            "Epoch 35/100\n",
            "1/1 [==============================] - 0s 5ms/step - loss: 2.9140 - mae: 2.9140\n",
            "Epoch 36/100\n",
            "1/1 [==============================] - 0s 4ms/step - loss: 2.8970 - mae: 2.8970\n",
            "Epoch 37/100\n",
            "1/1 [==============================] - 0s 6ms/step - loss: 2.8638 - mae: 2.8638\n",
            "Epoch 38/100\n",
            "1/1 [==============================] - 0s 6ms/step - loss: 2.8118 - mae: 2.8118\n",
            "Epoch 39/100\n",
            "1/1 [==============================] - 0s 5ms/step - loss: 2.7434 - mae: 2.7434\n",
            "Epoch 40/100\n",
            "1/1 [==============================] - 0s 4ms/step - loss: 2.6590 - mae: 2.6590\n",
            "Epoch 41/100\n",
            "1/1 [==============================] - 0s 8ms/step - loss: 2.5638 - mae: 2.5638\n",
            "Epoch 42/100\n",
            "1/1 [==============================] - 0s 4ms/step - loss: 2.4555 - mae: 2.4555\n",
            "Epoch 43/100\n",
            "1/1 [==============================] - 0s 4ms/step - loss: 2.3828 - mae: 2.3828\n",
            "Epoch 44/100\n",
            "1/1 [==============================] - 0s 7ms/step - loss: 2.3095 - mae: 2.3095\n",
            "Epoch 45/100\n",
            "1/1 [==============================] - 0s 5ms/step - loss: 2.1862 - mae: 2.1862\n",
            "Epoch 46/100\n",
            "1/1 [==============================] - 0s 7ms/step - loss: 2.0937 - mae: 2.0937\n",
            "Epoch 47/100\n",
            "1/1 [==============================] - 0s 7ms/step - loss: 2.0172 - mae: 2.0172\n",
            "Epoch 48/100\n",
            "1/1 [==============================] - 0s 4ms/step - loss: 1.9205 - mae: 1.9205\n",
            "Epoch 49/100\n",
            "1/1 [==============================] - 0s 6ms/step - loss: 1.8052 - mae: 1.8052\n",
            "Epoch 50/100\n",
            "1/1 [==============================] - 0s 5ms/step - loss: 1.6714 - mae: 1.6714\n",
            "Epoch 51/100\n",
            "1/1 [==============================] - 0s 6ms/step - loss: 1.5148 - mae: 1.5148\n",
            "Epoch 52/100\n",
            "1/1 [==============================] - 0s 6ms/step - loss: 1.3914 - mae: 1.3914\n",
            "Epoch 53/100\n",
            "1/1 [==============================] - 0s 6ms/step - loss: 1.2517 - mae: 1.2517\n",
            "Epoch 54/100\n",
            "1/1 [==============================] - 0s 9ms/step - loss: 1.0757 - mae: 1.0757\n",
            "Epoch 55/100\n",
            "1/1 [==============================] - 0s 10ms/step - loss: 0.9719 - mae: 0.9719\n",
            "Epoch 56/100\n",
            "1/1 [==============================] - 0s 4ms/step - loss: 0.7562 - mae: 0.7562\n",
            "Epoch 57/100\n",
            "1/1 [==============================] - 0s 4ms/step - loss: 0.6041 - mae: 0.6041\n",
            "Epoch 58/100\n",
            "1/1 [==============================] - 0s 6ms/step - loss: 0.4304 - mae: 0.4304\n",
            "Epoch 59/100\n",
            "1/1 [==============================] - 0s 5ms/step - loss: 0.2734 - mae: 0.2734\n",
            "Epoch 60/100\n",
            "1/1 [==============================] - 0s 6ms/step - loss: 0.2558 - mae: 0.2558\n",
            "Epoch 61/100\n",
            "1/1 [==============================] - 0s 6ms/step - loss: 0.2742 - mae: 0.2742\n",
            "Epoch 62/100\n",
            "1/1 [==============================] - 0s 7ms/step - loss: 0.2676 - mae: 0.2676\n",
            "Epoch 63/100\n",
            "1/1 [==============================] - 0s 7ms/step - loss: 0.6551 - mae: 0.6551\n",
            "Epoch 64/100\n",
            "1/1 [==============================] - 0s 6ms/step - loss: 0.4409 - mae: 0.4409\n",
            "Epoch 65/100\n",
            "1/1 [==============================] - 0s 5ms/step - loss: 0.6201 - mae: 0.6201\n",
            "Epoch 66/100\n",
            "1/1 [==============================] - 0s 6ms/step - loss: 0.7156 - mae: 0.7156\n",
            "Epoch 67/100\n",
            "1/1 [==============================] - 0s 6ms/step - loss: 0.5028 - mae: 0.5028\n",
            "Epoch 68/100\n",
            "1/1 [==============================] - 0s 6ms/step - loss: 0.7208 - mae: 0.7208\n",
            "Epoch 69/100\n",
            "1/1 [==============================] - 0s 5ms/step - loss: 0.7545 - mae: 0.7545\n",
            "Epoch 70/100\n",
            "1/1 [==============================] - 0s 44ms/step - loss: 0.4114 - mae: 0.4114\n",
            "Epoch 71/100\n",
            "1/1 [==============================] - 0s 7ms/step - loss: 0.4665 - mae: 0.4665\n",
            "Epoch 72/100\n",
            "1/1 [==============================] - 0s 8ms/step - loss: 0.4411 - mae: 0.4411\n",
            "Epoch 73/100\n",
            "1/1 [==============================] - 0s 9ms/step - loss: 0.2620 - mae: 0.2620\n",
            "Epoch 74/100\n",
            "1/1 [==============================] - 0s 7ms/step - loss: 0.2111 - mae: 0.2111\n",
            "Epoch 75/100\n",
            "1/1 [==============================] - 0s 9ms/step - loss: 0.2251 - mae: 0.2251\n",
            "Epoch 76/100\n",
            "1/1 [==============================] - 0s 6ms/step - loss: 0.2488 - mae: 0.2488\n",
            "Epoch 77/100\n",
            "1/1 [==============================] - 0s 7ms/step - loss: 0.1861 - mae: 0.1861\n",
            "Epoch 78/100\n",
            "1/1 [==============================] - 0s 9ms/step - loss: 0.2253 - mae: 0.2253\n",
            "Epoch 79/100\n",
            "1/1 [==============================] - 0s 7ms/step - loss: 0.1798 - mae: 0.1798\n",
            "Epoch 80/100\n",
            "1/1 [==============================] - 0s 5ms/step - loss: 0.1981 - mae: 0.1981\n",
            "Epoch 81/100\n",
            "1/1 [==============================] - 0s 8ms/step - loss: 0.2149 - mae: 0.2149\n",
            "Epoch 82/100\n",
            "1/1 [==============================] - 0s 7ms/step - loss: 0.2630 - mae: 0.2630\n",
            "Epoch 83/100\n",
            "1/1 [==============================] - 0s 5ms/step - loss: 0.2599 - mae: 0.2599\n",
            "Epoch 84/100\n",
            "1/1 [==============================] - 0s 7ms/step - loss: 0.2308 - mae: 0.2308\n",
            "Epoch 85/100\n",
            "1/1 [==============================] - 0s 5ms/step - loss: 0.1811 - mae: 0.1811\n",
            "Epoch 86/100\n",
            "1/1 [==============================] - 0s 6ms/step - loss: 0.1468 - mae: 0.1468\n",
            "Epoch 87/100\n",
            "1/1 [==============================] - 0s 6ms/step - loss: 0.1304 - mae: 0.1304\n",
            "Epoch 88/100\n",
            "1/1 [==============================] - 0s 9ms/step - loss: 0.2069 - mae: 0.2069\n",
            "Epoch 89/100\n",
            "1/1 [==============================] - 0s 4ms/step - loss: 0.1287 - mae: 0.1287\n",
            "Epoch 90/100\n",
            "1/1 [==============================] - 0s 4ms/step - loss: 0.0980 - mae: 0.0980\n",
            "Epoch 91/100\n",
            "1/1 [==============================] - 0s 9ms/step - loss: 0.2207 - mae: 0.2207\n",
            "Epoch 92/100\n",
            "1/1 [==============================] - 0s 5ms/step - loss: 0.0973 - mae: 0.0973\n",
            "Epoch 93/100\n",
            "1/1 [==============================] - 0s 5ms/step - loss: 0.1141 - mae: 0.1141\n",
            "Epoch 94/100\n",
            "1/1 [==============================] - 0s 5ms/step - loss: 0.2021 - mae: 0.2021\n",
            "Epoch 95/100\n",
            "1/1 [==============================] - 0s 6ms/step - loss: 0.1712 - mae: 0.1712\n",
            "Epoch 96/100\n",
            "1/1 [==============================] - 0s 5ms/step - loss: 0.2179 - mae: 0.2179\n",
            "Epoch 97/100\n",
            "1/1 [==============================] - 0s 6ms/step - loss: 0.2456 - mae: 0.2456\n",
            "Epoch 98/100\n",
            "1/1 [==============================] - 0s 7ms/step - loss: 0.1454 - mae: 0.1454\n",
            "Epoch 99/100\n",
            "1/1 [==============================] - 0s 5ms/step - loss: 0.1170 - mae: 0.1170\n",
            "Epoch 100/100\n",
            "1/1 [==============================] - 0s 6ms/step - loss: 0.2210 - mae: 0.2210\n"
          ],
          "name": "stdout"
        },
        {
          "output_type": "execute_result",
          "data": {
            "text/plain": [
              "<tensorflow.python.keras.callbacks.History at 0x7f3c4b240610>"
            ]
          },
          "metadata": {
            "tags": []
          },
          "execution_count": 35
        }
      ]
    },
    {
      "cell_type": "code",
      "metadata": {
        "colab": {
          "base_uri": "https://localhost:8080/"
        },
        "id": "Rgr32alx6th-",
        "outputId": "5114db93-f562-41fb-e200-addaf87bbb83"
      },
      "source": [
        "#chaning the learning rate to 0.01 made the best possible change so far\n",
        "#with mae=0.16 lets check our predicted values\n",
        "model.predict([17.0]) "
      ],
      "execution_count": null,
      "outputs": [
        {
          "output_type": "stream",
          "text": [
            "WARNING:tensorflow:5 out of the last 5 calls to <function Model.make_predict_function.<locals>.predict_function at 0x7f3c4c3a4830> triggered tf.function retracing. Tracing is expensive and the excessive number of tracings could be due to (1) creating @tf.function repeatedly in a loop, (2) passing tensors with different shapes, (3) passing Python objects instead of tensors. For (1), please define your @tf.function outside of the loop. For (2), @tf.function has experimental_relax_shapes=True option that relaxes argument shapes that can avoid unnecessary retracing. For (3), please refer to https://www.tensorflow.org/guide/function#controlling_retracing and https://www.tensorflow.org/api_docs/python/tf/function for  more details.\n"
          ],
          "name": "stdout"
        },
        {
          "output_type": "execute_result",
          "data": {
            "text/plain": [
              "array([[27.846497]], dtype=float32)"
            ]
          },
          "metadata": {
            "tags": []
          },
          "execution_count": 36
        }
      ]
    },
    {
      "cell_type": "code",
      "metadata": {
        "id": "KA6TIbFe7Kom"
      },
      "source": [
        ""
      ],
      "execution_count": null,
      "outputs": []
    },
    {
      "cell_type": "markdown",
      "metadata": {
        "id": "JaHhHuVm67wR"
      },
      "source": [
        "This gave the best possible result for our model so far\n",
        "#the learning rate is possibly the most important hyperparameter in your NN"
      ]
    },
    {
      "cell_type": "code",
      "metadata": {
        "id": "m6zaeeip7UtE"
      },
      "source": [
        "#now lets try fitting more data, ie creating a larger data set\n",
        "#Or try fitting for even longer"
      ],
      "execution_count": null,
      "outputs": []
    },
    {
      "cell_type": "markdown",
      "metadata": {
        "id": "-2WFcAZc7gek"
      },
      "source": [
        "Now let's try evaluating the model\n",
        "aka how well has it learned the relationships between the features and the labels"
      ]
    },
    {
      "cell_type": "code",
      "metadata": {
        "id": "TK5FTIMf7spo"
      },
      "source": [
        "#in practice, a typical work flow is the same as what we just did\n",
        "#we fit the model and tweak it and evaluate until it fits the desired status\n",
        "\n",
        "#All you have to do is learn to visualize what your model is doing to evaluate it\n"
      ],
      "execution_count": null,
      "outputs": []
    },
    {
      "cell_type": "markdown",
      "metadata": {
        "id": "ro6fhVyI72Pr"
      },
      "source": [
        "We may visualize the data\n",
        "-the data-what its doing\n",
        "-the model itself what does it look like\n",
        "the training of the model-how does it perform while its learns\n",
        "-prediciton of mode-how the prediction line up with the truth"
      ]
    },
    {
      "cell_type": "code",
      "metadata": {
        "colab": {
          "base_uri": "https://localhost:8080/"
        },
        "id": "Pc4z-_bA8omk",
        "outputId": "6a74b512-5564-4eeb-fed4-c8783c07886e"
      },
      "source": [
        "#lets now try to mkae a bigger data set\n",
        "\n",
        "X=tf.range(-100,100,4) #creating no btw -100 and 100 with a step of 4\n",
        "X"
      ],
      "execution_count": null,
      "outputs": [
        {
          "output_type": "execute_result",
          "data": {
            "text/plain": [
              "<tf.Tensor: shape=(50,), dtype=int32, numpy=\n",
              "array([-100,  -96,  -92,  -88,  -84,  -80,  -76,  -72,  -68,  -64,  -60,\n",
              "        -56,  -52,  -48,  -44,  -40,  -36,  -32,  -28,  -24,  -20,  -16,\n",
              "        -12,   -8,   -4,    0,    4,    8,   12,   16,   20,   24,   28,\n",
              "         32,   36,   40,   44,   48,   52,   56,   60,   64,   68,   72,\n",
              "         76,   80,   84,   88,   92,   96], dtype=int32)>"
            ]
          },
          "metadata": {
            "tags": []
          },
          "execution_count": 39
        }
      ]
    },
    {
      "cell_type": "code",
      "metadata": {
        "colab": {
          "base_uri": "https://localhost:8080/"
        },
        "id": "0quk1mdw8-S9",
        "outputId": "f9abb7ac-5cd2-4f45-fa1f-20ce6d39d5be"
      },
      "source": [
        "#now we make the labels we want our model to learn\n",
        "y=X+10\n",
        "y"
      ],
      "execution_count": null,
      "outputs": [
        {
          "output_type": "execute_result",
          "data": {
            "text/plain": [
              "<tf.Tensor: shape=(50,), dtype=int32, numpy=\n",
              "array([-90, -86, -82, -78, -74, -70, -66, -62, -58, -54, -50, -46, -42,\n",
              "       -38, -34, -30, -26, -22, -18, -14, -10,  -6,  -2,   2,   6,  10,\n",
              "        14,  18,  22,  26,  30,  34,  38,  42,  46,  50,  54,  58,  62,\n",
              "        66,  70,  74,  78,  82,  86,  90,  94,  98, 102, 106], dtype=int32)>"
            ]
          },
          "metadata": {
            "tags": []
          },
          "execution_count": 40
        }
      ]
    },
    {
      "cell_type": "code",
      "metadata": {
        "colab": {
          "base_uri": "https://localhost:8080/",
          "height": 283
        },
        "id": "gTXDlmZy9C_7",
        "outputId": "e6b94907-e23a-4732-fa78-66ade7342f82"
      },
      "source": [
        "#now visualize the data\n",
        "import matplotlib.pyplot as plt\n",
        "plt.scatter(X,y)"
      ],
      "execution_count": null,
      "outputs": [
        {
          "output_type": "execute_result",
          "data": {
            "text/plain": [
              "<matplotlib.collections.PathCollection at 0x7f3c498f5750>"
            ]
          },
          "metadata": {
            "tags": []
          },
          "execution_count": 41
        },
        {
          "output_type": "display_data",
          "data": {
            "image/png": "[encoded data removed]",
            "text/plain": [
              "<Figure size 432x288 with 1 Axes>"
            ]
          },
          "metadata": {
            "tags": [],
            "needs_background": "light"
          }
        }
      ]
    },
    {
      "cell_type": "markdown",
      "metadata": {
        "id": "8T2aaLyN9RAr"
      },
      "source": [
        "#three sets concept\n",
        "\n",
        "#basically we split our data into training and test sets\n",
        "1.training set- the model learns from this data, whihc is typically 70-80% of the total data available.\n",
        "2. validation set- the model gets tuned from this data, 10-15% of the data \n",
        "3. Test set- the model gets evaluated on t his data to test what it has learned this set is typically 10-15% of the total data available\n",
        "\n",
        "usually we get rid of validation set if we remove"
      ]
    },
    {
      "cell_type": "code",
      "metadata": {
        "colab": {
          "base_uri": "https://localhost:8080/"
        },
        "id": "UDs-1u51Lmmm",
        "outputId": "7fcd60b0-204b-4b42-d6aa-b7961741cc2a"
      },
      "source": [
        "#check the length of data which we have \n",
        "len(X)"
      ],
      "execution_count": null,
      "outputs": [
        {
          "output_type": "execute_result",
          "data": {
            "text/plain": [
              "50"
            ]
          },
          "metadata": {
            "tags": []
          },
          "execution_count": 42
        }
      ]
    },
    {
      "cell_type": "code",
      "metadata": {
        "colab": {
          "base_uri": "https://localhost:8080/"
        },
        "id": "PoGJ6QWjL9Hb",
        "outputId": "47e2c2c8-5962-40ba-b6e5-1231ea4b78e4"
      },
      "source": [
        "#split the data into train and test set\n",
        "X_train=X[:40] #firstt 40 sets \n",
        "y_train=y[:40]\n",
        "X_test=X[40:] #last 40 sets 20% of the data\n",
        "y_test=y[40:]\n",
        "\n",
        "len(X_train),len(y_train),len(X_test),len(y_test)"
      ],
      "execution_count": null,
      "outputs": [
        {
          "output_type": "execute_result",
          "data": {
            "text/plain": [
              "(40, 40, 10, 10)"
            ]
          },
          "metadata": {
            "tags": []
          },
          "execution_count": 43
        }
      ]
    },
    {
      "cell_type": "markdown",
      "metadata": {
        "id": "H7J_rbwhNKE6"
      },
      "source": [
        "#visualizing  the data\n",
        "Now we've got the data in training and test set"
      ]
    },
    {
      "cell_type": "code",
      "metadata": {
        "colab": {
          "base_uri": "https://localhost:8080/",
          "height": 446
        },
        "id": "fkfEMzrHNOvP",
        "outputId": "22047efb-0671-4f5c-85a2-387cfcfd2a21"
      },
      "source": [
        "plt.figure(figsize=(10,7))\n",
        "#plot training data\n",
        "plt.scatter(X_train,y_train,c=\"b\",label=\"testing data\")\n",
        "#plot testing data\n",
        "plt.scatter(X_test,y_test,c=\"g\",label=\"testing data\")\n",
        "#show a legend\n",
        "plt.legend()"
      ],
      "execution_count": null,
      "outputs": [
        {
          "output_type": "execute_result",
          "data": {
            "text/plain": [
              "<matplotlib.legend.Legend at 0x7f3c49864f90>"
            ]
          },
          "metadata": {
            "tags": []
          },
          "execution_count": 44
        },
        {
          "output_type": "display_data",
          "data": {
            "image/png": "[encoded data removed]",
            "text/plain": [
              "<Figure size 720x504 with 1 Axes>"
            ]
          },
          "metadata": {
            "tags": [],
            "needs_background": "light"
          }
        }
      ]
    },
    {
      "cell_type": "code",
      "metadata": {
        "id": "5txOoiavGga9"
      },
      "source": [
        "#create the model\n",
        "model=tf.keras.Sequential([\n",
        "                           tf.keras.layers.Dense(1),\n",
        "                           \n",
        "])\n",
        "\n",
        "#compile the model\n",
        "model.compile(loss=[\"mae\"],\n",
        "              optimizer=tf.keras.optimizers.SGD(),\n",
        "              metrics=[\"mae\"])\n",
        "\n",
        "#fit the model\n",
        "#model.fit(X_train,y_train, epochs=100)\n",
        "\n"
      ],
      "execution_count": null,
      "outputs": []
    },
    {
      "cell_type": "markdown",
      "metadata": {
        "id": "xrU-tQdAIqFu"
      },
      "source": [
        "We can visualize the model before we even run it"
      ]
    },
    {
      "cell_type": "code",
      "metadata": {
        "colab": {
          "base_uri": "https://localhost:8080/",
          "height": 371
        },
        "id": "XbxB0CFwIs4Q",
        "outputId": "5357c721-2269-42de-c13e-394d42fd4b58"
      },
      "source": [
        "model.summary()"
      ],
      "execution_count": null,
      "outputs": [
        {
          "output_type": "error",
          "ename": "ValueError",
          "evalue": "ignored",
          "traceback": [
            "\u001b[0;31m---------------------------------------------------------------------------\u001b[0m",
            "\u001b[0;31mValueError\u001b[0m                                Traceback (most recent call last)",
            "\u001b[0;32m<ipython-input-46-5f15418b3570>\u001b[0m in \u001b[0;36m<module>\u001b[0;34m()\u001b[0m\n\u001b[0;32m----> 1\u001b[0;31m \u001b[0mmodel\u001b[0m\u001b[0;34m.\u001b[0m\u001b[0msummary\u001b[0m\u001b[0;34m(\u001b[0m\u001b[0;34m)\u001b[0m\u001b[0;34m\u001b[0m\u001b[0;34m\u001b[0m\u001b[0m\n\u001b[0m",
            "\u001b[0;32m/usr/local/lib/python3.7/dist-packages/tensorflow/python/keras/engine/training.py\u001b[0m in \u001b[0;36msummary\u001b[0;34m(self, line_length, positions, print_fn)\u001b[0m\n\u001b[1;32m   2374\u001b[0m     \"\"\"\n\u001b[1;32m   2375\u001b[0m     \u001b[0;32mif\u001b[0m \u001b[0;32mnot\u001b[0m \u001b[0mself\u001b[0m\u001b[0;34m.\u001b[0m\u001b[0mbuilt\u001b[0m\u001b[0;34m:\u001b[0m\u001b[0;34m\u001b[0m\u001b[0;34m\u001b[0m\u001b[0m\n\u001b[0;32m-> 2376\u001b[0;31m       raise ValueError('This model has not yet been built. '\n\u001b[0m\u001b[1;32m   2377\u001b[0m                        \u001b[0;34m'Build the model first by calling `build()` or calling '\u001b[0m\u001b[0;34m\u001b[0m\u001b[0;34m\u001b[0m\u001b[0m\n\u001b[1;32m   2378\u001b[0m                        \u001b[0;34m'`fit()` with some data, or specify '\u001b[0m\u001b[0;34m\u001b[0m\u001b[0;34m\u001b[0m\u001b[0m\n",
            "\u001b[0;31mValueError\u001b[0m: This model has not yet been built. Build the model first by calling `build()` or calling `fit()` with some data, or specify an `input_shape` argument in the first layer(s) for automatic build."
          ]
        }
      ]
    },
    {
      "cell_type": "markdown",
      "metadata": {
        "id": "-UnsDpOtI7XC"
      },
      "source": [
        "the model hasn't been built yet, we can define the input_shape in the first layer itself to automatically built the data, or we can use the model.build(shape) to build the data"
      ]
    },
    {
      "cell_type": "code",
      "metadata": {
        "id": "OZbkvackJG5l"
      },
      "source": [
        "#lets build a model that builds automatically\n",
        "tf.random.set_seed(42)\n",
        "model_1=tf.keras.Sequential([\n",
        "                      tf.keras.layers.Dense(10, input_shape=[1], name=\"input_layer\"),\n",
        "                      tf.keras.layers.Dense(1, name=\"output_layer\")\n",
        "  #the input shape is 1 because X[0] and y[0] are scalar values, since\n",
        "  #we are passing only one number we give it a shape 1     \n",
        "], name=\"model_1\")\n",
        "model_1.compile(loss=\"mae\",\n",
        "              optimizer=tf.keras.optimizers.SGD(),\n",
        "              metrics=[\"mae\"])\n"
      ],
      "execution_count": null,
      "outputs": []
    },
    {
      "cell_type": "code",
      "metadata": {
        "colab": {
          "base_uri": "https://localhost:8080/"
        },
        "id": "tk6xaFg2J2Ud",
        "outputId": "7e47ba87-779f-42ea-c171-9276741e3a81"
      },
      "source": [
        "model_1.summary()"
      ],
      "execution_count": null,
      "outputs": [
        {
          "output_type": "stream",
          "text": [
            "Model: \"model_1\"\n",
            "_________________________________________________________________\n",
            "Layer (type)                 Output Shape              Param #   \n",
            "=================================================================\n",
            "input_layer (Dense)          (None, 10)                20        \n",
            "_________________________________________________________________\n",
            "output_layer (Dense)         (None, 1)                 11        \n",
            "=================================================================\n",
            "Total params: 31\n",
            "Trainable params: 31\n",
            "Non-trainable params: 0\n",
            "_________________________________________________________________\n"
          ],
          "name": "stdout"
        }
      ]
    },
    {
      "cell_type": "markdown",
      "metadata": {
        "id": "hzweKnf3KH3n"
      },
      "source": [
        "#Dense means fully connected aka all neurons of one layer are connected to the next one\n",
        "\n",
        "Here we have output shape of 1 with 2 parameters X&y\n",
        "\n",
        "trainable parameters- are parametres (patterns) the model can update as it trains\n",
        "\n",
        "sometime when we import an already trained model we may freeze them, in which case they'll appear in the non- trainable params they raen't updated during training nad are used in transfer learning \n"
      ]
    },
    {
      "cell_type": "markdown",
      "metadata": {
        "id": "VJOxkNPlK8ar"
      },
      "source": [
        "#weights and biases\n",
        "mit introduction to deep learning \n",
        "\n",
        "#by chaning your hidden layer you will change the number of params affecting your model\n",
        "\n"
      ]
    },
    {
      "cell_type": "code",
      "metadata": {
        "colab": {
          "base_uri": "https://localhost:8080/"
        },
        "id": "ALoL02YYKXmb",
        "outputId": "c1b56e1e-cce6-4725-9f6e-200239b56b47"
      },
      "source": [
        "model_1.fit(X_train,y_train,epochs=100,verbose=0)\n",
        "#verbose is simply for progress track 0 for silent 1 for progress bar 2 for one line per epoch\n"
      ],
      "execution_count": null,
      "outputs": [
        {
          "output_type": "execute_result",
          "data": {
            "text/plain": [
              "<tensorflow.python.keras.callbacks.History at 0x7f3c50d82910>"
            ]
          },
          "metadata": {
            "tags": []
          },
          "execution_count": 49
        }
      ]
    },
    {
      "cell_type": "code",
      "metadata": {
        "colab": {
          "base_uri": "https://localhost:8080/"
        },
        "id": "-OTcyAc2MJ6L",
        "outputId": "61815725-0742-4171-b6ad-d36f4c93f318"
      },
      "source": [
        "model_1.summary()"
      ],
      "execution_count": null,
      "outputs": [
        {
          "output_type": "stream",
          "text": [
            "Model: \"model_1\"\n",
            "_________________________________________________________________\n",
            "Layer (type)                 Output Shape              Param #   \n",
            "=================================================================\n",
            "input_layer (Dense)          (None, 10)                20        \n",
            "_________________________________________________________________\n",
            "output_layer (Dense)         (None, 1)                 11        \n",
            "=================================================================\n",
            "Total params: 31\n",
            "Trainable params: 31\n",
            "Non-trainable params: 0\n",
            "_________________________________________________________________\n"
          ],
          "name": "stdout"
        }
      ]
    },
    {
      "cell_type": "code",
      "metadata": {
        "colab": {
          "base_uri": "https://localhost:8080/",
          "height": 77
        },
        "id": "gL-ZQCy9MVXV",
        "outputId": "bcd1636c-3695-4b78-c447-7163dd65bdb3"
      },
      "source": [
        "#here we get to see again that 2 trainable parameters \n",
        "#per dense hidden unit\n",
        "#we can also visualize our model through\n",
        "\n",
        "from tensorflow.keras.utils import plot_model\n",
        "\n",
        "plot_model(model=model, show_shapes=True)#converts a keras model to dot format and save to a file\n",
        "#we can use to_file='file.png' to save it \n",
        "#we can use show_shapes=true (false by default)\n",
        "#also show_layers\n",
        "\n"
      ],
      "execution_count": null,
      "outputs": [
        {
          "output_type": "execute_result",
          "data": {
            "image/png": "[encoded data removed]",
            "text/plain": [
              "<IPython.core.display.Image object>"
            ]
          },
          "metadata": {
            "tags": []
          },
          "execution_count": 51
        }
      ]
    },
    {
      "cell_type": "markdown",
      "metadata": {
        "id": "sMPuuIxmNTVl"
      },
      "source": [
        "#now we have to visualize again at our model's prediction\n",
        "\n",
        "we visualize predicitons as a plot against the ground truth labels\n",
        "\n",
        "often we'll see it as y_test vs y_true\n",
        "or y_pred (ground truth versus your model)\n"
      ]
    },
    {
      "cell_type": "code",
      "metadata": {
        "colab": {
          "base_uri": "https://localhost:8080/"
        },
        "id": "1cwPUbKoPqZ1",
        "outputId": "f9d6faca-8c99-4892-d55c-97aaef8c568c"
      },
      "source": [
        "y_pred=model.predict(X_test)\n",
        "y_pred"
      ],
      "execution_count": null,
      "outputs": [
        {
          "output_type": "stream",
          "text": [
            "WARNING:tensorflow:6 out of the last 6 calls to <function Model.make_predict_function.<locals>.predict_function at 0x7f3c50c72830> triggered tf.function retracing. Tracing is expensive and the excessive number of tracings could be due to (1) creating @tf.function repeatedly in a loop, (2) passing tensors with different shapes, (3) passing Python objects instead of tensors. For (1), please define your @tf.function outside of the loop. For (2), @tf.function has experimental_relax_shapes=True option that relaxes argument shapes that can avoid unnecessary retracing. For (3), please refer to https://www.tensorflow.org/guide/function#controlling_retracing and https://www.tensorflow.org/api_docs/python/tf/function for  more details.\n"
          ],
          "name": "stdout"
        },
        {
          "output_type": "execute_result",
          "data": {
            "text/plain": [
              "array([[50.16736],\n",
              "       [53.51185],\n",
              "       [56.85634],\n",
              "       [60.20083],\n",
              "       [63.54532],\n",
              "       [66.88981],\n",
              "       [70.2343 ],\n",
              "       [73.57879],\n",
              "       [76.92328],\n",
              "       [80.26778]], dtype=float32)"
            ]
          },
          "metadata": {
            "tags": []
          },
          "execution_count": 52
        }
      ]
    },
    {
      "cell_type": "code",
      "metadata": {
        "colab": {
          "base_uri": "https://localhost:8080/"
        },
        "id": "Ehh0WFkrP0kG",
        "outputId": "9590054a-68db-41f9-b88a-944e3cba1915"
      },
      "source": [
        "y_test"
      ],
      "execution_count": null,
      "outputs": [
        {
          "output_type": "execute_result",
          "data": {
            "text/plain": [
              "<tf.Tensor: shape=(10,), dtype=int32, numpy=array([ 70,  74,  78,  82,  86,  90,  94,  98, 102, 106], dtype=int32)>"
            ]
          },
          "metadata": {
            "tags": []
          },
          "execution_count": 53
        }
      ]
    },
    {
      "cell_type": "markdown",
      "metadata": {
        "id": "HEYGXwUsP1jq"
      },
      "source": [
        "#here we have the values that predict our model"
      ]
    },
    {
      "cell_type": "code",
      "metadata": {
        "id": "LooYKLFdP7Wn"
      },
      "source": [
        "#lets create the plotting function\n",
        "#if you feel like you're going to use some functionality in the future\n",
        "#it's better to make it into a funciton\n",
        "\n",
        "def plot_prediction(train_data=X_train,\n",
        "                     train_labels=y_train,\n",
        "                     test_data=X_test,\n",
        "                     test_labels=y_test,\n",
        "                     prediction=y_pred):\n",
        "  \"\"\"\n",
        "  Plot training data,test data, predicitions to the ground truth labels\n",
        "  \"\"\"\n",
        "  plt.figure(figsize=(10,7))\n",
        "  #plt training data\n",
        "  plt.scatter(train_data,train_labels,c=\"b\",label=\"training data\")\n",
        "  #plt test data\n",
        "  plt.scatter(test_data,test_labels,c=\"g\",label=\"test data\")\n",
        "  #plot predicitons in red\n",
        "  plt.scatter(test_data, prediction,c=\"r\",label=\"predicitons\")\n",
        "  #show the legend\n",
        "  plt.legend()"
      ],
      "execution_count": null,
      "outputs": []
    },
    {
      "cell_type": "code",
      "metadata": {
        "colab": {
          "base_uri": "https://localhost:8080/",
          "height": 428
        },
        "id": "R-KbIeTaRrx4",
        "outputId": "a24f4055-4233-4817-f655-2f09903329d7"
      },
      "source": [
        "plot_prediction(train_data=X_train,\n",
        "                train_labels=y_train,\n",
        "                test_data=X_test,\n",
        "                test_labels=y_test,\n",
        "                prediction=y_pred)"
      ],
      "execution_count": null,
      "outputs": [
        {
          "output_type": "display_data",
          "data": {
            "image/png": "[encoded data removed]",
            "text/plain": [
              "<Figure size 720x504 with 1 Axes>"
            ]
          },
          "metadata": {
            "tags": [],
            "needs_background": "light"
          }
        }
      ]
    },
    {
      "cell_type": "markdown",
      "metadata": {
        "id": "17HYRD6zRt2q"
      },
      "source": [
        "###Evaluating the model's prediciton with regression evaluation metrics\n",
        "\n",
        "Depending on the problem you're wokring on there iwll be diffrenet metrics to evaluate your model's performance \n",
        "\n",
        "Since we're working on regression, two of the main metrics:\n",
        "\n",
        "**MAE(mean absolute error)-ie on average how wrong is each of my models predictions\n",
        "\n",
        "**MSE-Mean square error where we square errors. use when larger errors are more significant than smaller errors\n",
        "\n",
        "**Huber- Combination of MSE and MAE less sensitive to outliers than MSE "
      ]
    },
    {
      "cell_type": "code",
      "metadata": {
        "colab": {
          "base_uri": "https://localhost:8080/"
        },
        "id": "WofOyQR4Sss1",
        "outputId": "73793175-d383-44bd-f002-6b032d10119a"
      },
      "source": [
        "#evaluate the model for test data\n",
        "\n",
        "model.evaluate(X_test,y_test)\n",
        "#retunrs the loss value and metrics value for model in the test mode\n",
        "#remember since we are setting loss=mae the loss value and the mae metric\n",
        "#value will be the same\n"
      ],
      "execution_count": null,
      "outputs": [
        {
          "output_type": "stream",
          "text": [
            "1/1 [==============================] - 0s 191ms/step - loss: 22.7824 - mae: 22.7824\n"
          ],
          "name": "stdout"
        },
        {
          "output_type": "execute_result",
          "data": {
            "text/plain": [
              "[22.78243637084961, 22.78243637084961]"
            ]
          },
          "metadata": {
            "tags": []
          },
          "execution_count": 56
        }
      ]
    },
    {
      "cell_type": "code",
      "metadata": {
        "colab": {
          "base_uri": "https://localhost:8080/"
        },
        "id": "Cx2f8udTUMxH",
        "outputId": "aea448b7-c358-4a52-e4f7-73261d221bee"
      },
      "source": [
        "#calculate the MAE\n",
        "my_mae=tf.keras.losses.mae(y_true=y_test,y_pred=y_pred)\n",
        "my_mae"
      ],
      "execution_count": null,
      "outputs": [
        {
          "output_type": "execute_result",
          "data": {
            "text/plain": [
              "<tf.Tensor: shape=(10,), dtype=float32, numpy=\n",
              "array([37.83264 , 34.48815 , 31.143661, 27.79917 , 24.454681, 21.110191,\n",
              "       17.812561, 15.136969, 13.046033, 11.492889], dtype=float32)>"
            ]
          },
          "metadata": {
            "tags": []
          },
          "execution_count": 57
        }
      ]
    },
    {
      "cell_type": "markdown",
      "metadata": {
        "id": "NXK1S1ybVw7d"
      },
      "source": [
        "#here we are getting these said values because when converted to tensors you can see that y_pred and y_true don't have the same shape, and thus require reshaping"
      ]
    },
    {
      "cell_type": "code",
      "metadata": {
        "colab": {
          "base_uri": "https://localhost:8080/"
        },
        "id": "rOuxOf0-V7C6",
        "outputId": "1fdb67c7-76fb-4025-85f9-e067d1dcc805"
      },
      "source": [
        "tf.constant(y_pred)"
      ],
      "execution_count": null,
      "outputs": [
        {
          "output_type": "execute_result",
          "data": {
            "text/plain": [
              "<tf.Tensor: shape=(10, 1), dtype=float32, numpy=\n",
              "array([[50.16736],\n",
              "       [53.51185],\n",
              "       [56.85634],\n",
              "       [60.20083],\n",
              "       [63.54532],\n",
              "       [66.88981],\n",
              "       [70.2343 ],\n",
              "       [73.57879],\n",
              "       [76.92328],\n",
              "       [80.26778]], dtype=float32)>"
            ]
          },
          "metadata": {
            "tags": []
          },
          "execution_count": 58
        }
      ]
    },
    {
      "cell_type": "code",
      "metadata": {
        "colab": {
          "base_uri": "https://localhost:8080/"
        },
        "id": "0F3PWv54WHuR",
        "outputId": "398e343a-ac86-417f-aab7-a3d0c9bef3e4"
      },
      "source": [
        "tf.constant(y_test)"
      ],
      "execution_count": null,
      "outputs": [
        {
          "output_type": "execute_result",
          "data": {
            "text/plain": [
              "<tf.Tensor: shape=(10,), dtype=int32, numpy=array([ 70,  74,  78,  82,  86,  90,  94,  98, 102, 106], dtype=int32)>"
            ]
          },
          "metadata": {
            "tags": []
          },
          "execution_count": 59
        }
      ]
    },
    {
      "cell_type": "markdown",
      "metadata": {
        "id": "iYbSBzJvWLq8"
      },
      "source": [
        "y_test is of shape 10, while y_pred is of the shape 10,1 and thus they require reshaping"
      ]
    },
    {
      "cell_type": "code",
      "metadata": {
        "colab": {
          "base_uri": "https://localhost:8080/"
        },
        "id": "ZFJY-PdsWWP7",
        "outputId": "d50c38e1-373b-47de-91d9-b18885eeb916"
      },
      "source": [
        "tf.squeeze(y_pred)"
      ],
      "execution_count": null,
      "outputs": [
        {
          "output_type": "execute_result",
          "data": {
            "text/plain": [
              "<tf.Tensor: shape=(10,), dtype=float32, numpy=\n",
              "array([50.16736, 53.51185, 56.85634, 60.20083, 63.54532, 66.88981,\n",
              "       70.2343 , 73.57879, 76.92328, 80.26778], dtype=float32)>"
            ]
          },
          "metadata": {
            "tags": []
          },
          "execution_count": 60
        }
      ]
    },
    {
      "cell_type": "code",
      "metadata": {
        "colab": {
          "base_uri": "https://localhost:8080/"
        },
        "id": "GKz9IzooWhTG",
        "outputId": "00f5676d-2ec9-4fa2-f681-43a1327c9b9d"
      },
      "source": [
        "#calculate mae again\n",
        "my_mae=tf.keras.losses.mae(y_true=y_test,\n",
        "                           y_pred=tf.squeeze(y_pred))\n",
        "my_mae\n",
        "#here we get rthe same value from the evaluate function"
      ],
      "execution_count": null,
      "outputs": [
        {
          "output_type": "execute_result",
          "data": {
            "text/plain": [
              "<tf.Tensor: shape=(), dtype=float32, numpy=22.782436>"
            ]
          },
          "metadata": {
            "tags": []
          },
          "execution_count": 61
        }
      ]
    },
    {
      "cell_type": "code",
      "metadata": {
        "colab": {
          "base_uri": "https://localhost:8080/"
        },
        "id": "dSgDC7cAWuqm",
        "outputId": "a8e9a627-49f8-4164-cad8-28667ef40b27"
      },
      "source": [
        "#now lets calculate mse\n",
        "my_mse=tf.keras.losses.mse(y_true=y_test,\n",
        "                           y_pred=tf.squeeze(y_pred))\n",
        "my_mse\n",
        "#we got an mse of 13.070143, is larger because the errors are squared"
      ],
      "execution_count": null,
      "outputs": [
        {
          "output_type": "execute_result",
          "data": {
            "text/plain": [
              "<tf.Tensor: shape=(), dtype=float32, numpy=522.58435>"
            ]
          },
          "metadata": {
            "tags": []
          },
          "execution_count": 62
        }
      ]
    },
    {
      "cell_type": "code",
      "metadata": {
        "id": "EaJz21BiXIeV"
      },
      "source": [
        "#make some functions to reuse MAE and MSE for reuseability\n",
        "\n",
        "def mae(y_true, y_test):\n",
        "  return tf.metrics.mean_absolute_error(y_true=y_true,\n",
        "                                       y_pred=tf.squeeze(y_pred))\n",
        "  \n",
        "\n",
        "def mse(y_true, y_test):\n",
        "  return tf.metrics.mean_squared_error(y_true=y_true,\n",
        "                                       y_pred= tf.squeeze(y_pred))"
      ],
      "execution_count": null,
      "outputs": []
    },
    {
      "cell_type": "markdown",
      "metadata": {
        "id": "S31i19njYK_5"
      },
      "source": [
        "###now we mkae improvements to our model again\n",
        "\n",
        "'''\n",
        "build-fit-evaulate-repeat\n",
        "'''\n",
        "1. get more data-more ex to train on for more oportunites to learn relationships between features  and laels\n",
        "2. make your model larger increasing the hidden unit in each layer\n",
        "3. train for longer- more time to find the pattersn i nyour data"
      ]
    },
    {
      "cell_type": "markdown",
      "metadata": {
        "id": "09AvcoR9YeR7"
      },
      "source": [
        "#now build again with your instances. from the root\n",
        "1.aka 1 layer but more time 100 epochs\n",
        "2.2 layer for 100 epohc \n",
        "3. 2 layers for 500 epochs\n",
        "4.\n",
        "5."
      ]
    },
    {
      "cell_type": "code",
      "metadata": {
        "colab": {
          "base_uri": "https://localhost:8080/"
        },
        "id": "-7rUH2WTZIOG",
        "outputId": "0e7f187e-6dfb-477c-828d-07e43c1d2199"
      },
      "source": [
        "#set random seed for reproducability\n",
        "tf.random.set_seed(42)\n",
        "\n",
        "#build the model\n",
        "model_1=tf.keras.Sequential([\n",
        "                           tf.keras.layers.Dense(1)\n",
        "])\n",
        "#compile them odel\n",
        "model_1.compile(loss=[\"mae\"],\n",
        "              optimizer=tf.keras.optimizers.SGD(),\n",
        "              metrics=[\"mae\"])\n",
        "#fit the model\n",
        "model_1.fit(X_train, y_train, epochs=100)"
      ],
      "execution_count": null,
      "outputs": [
        {
          "output_type": "stream",
          "text": [
            "Epoch 1/100\n",
            "2/2 [==============================] - 0s 5ms/step - loss: 16.4124 - mae: 16.4124\n",
            "Epoch 2/100\n",
            "2/2 [==============================] - 0s 5ms/step - loss: 11.0829 - mae: 11.0829\n",
            "Epoch 3/100\n",
            "2/2 [==============================] - 0s 4ms/step - loss: 11.1242 - mae: 11.1242\n",
            "Epoch 4/100\n",
            "2/2 [==============================] - 0s 7ms/step - loss: 8.6945 - mae: 8.6945\n",
            "Epoch 5/100\n",
            "2/2 [==============================] - 0s 3ms/step - loss: 9.8003 - mae: 9.8003\n",
            "Epoch 6/100\n",
            "2/2 [==============================] - 0s 7ms/step - loss: 9.5263 - mae: 9.5263\n",
            "Epoch 7/100\n",
            "2/2 [==============================] - 0s 4ms/step - loss: 8.4102 - mae: 8.4102\n",
            "Epoch 8/100\n",
            "2/2 [==============================] - 0s 7ms/step - loss: 9.1449 - mae: 9.1449\n",
            "Epoch 9/100\n",
            "2/2 [==============================] - 0s 6ms/step - loss: 19.4932 - mae: 19.4932\n",
            "Epoch 10/100\n",
            "2/2 [==============================] - 0s 4ms/step - loss: 9.6061 - mae: 9.6061\n",
            "Epoch 11/100\n",
            "2/2 [==============================] - 0s 4ms/step - loss: 8.5992 - mae: 8.5992\n",
            "Epoch 12/100\n",
            "2/2 [==============================] - 0s 4ms/step - loss: 10.9324 - mae: 10.9324\n",
            "Epoch 13/100\n",
            "2/2 [==============================] - 0s 5ms/step - loss: 10.0574 - mae: 10.0574\n",
            "Epoch 14/100\n",
            "2/2 [==============================] - 0s 7ms/step - loss: 16.5679 - mae: 16.5679\n",
            "Epoch 15/100\n",
            "2/2 [==============================] - 0s 5ms/step - loss: 11.4537 - mae: 11.4537\n",
            "Epoch 16/100\n",
            "2/2 [==============================] - 0s 6ms/step - loss: 8.4056 - mae: 8.4056\n",
            "Epoch 17/100\n",
            "2/2 [==============================] - 0s 4ms/step - loss: 13.8417 - mae: 13.8417\n",
            "Epoch 18/100\n",
            "2/2 [==============================] - 0s 8ms/step - loss: 11.6621 - mae: 11.6621\n",
            "Epoch 19/100\n",
            "2/2 [==============================] - 0s 4ms/step - loss: 18.7623 - mae: 18.7623\n",
            "Epoch 20/100\n",
            "2/2 [==============================] - 0s 4ms/step - loss: 15.5702 - mae: 15.5702\n",
            "Epoch 21/100\n",
            "2/2 [==============================] - 0s 3ms/step - loss: 10.9959 - mae: 10.9959\n",
            "Epoch 22/100\n",
            "2/2 [==============================] - 0s 9ms/step - loss: 8.0023 - mae: 8.0023\n",
            "Epoch 23/100\n",
            "2/2 [==============================] - 0s 7ms/step - loss: 9.8593 - mae: 9.8593\n",
            "Epoch 24/100\n",
            "2/2 [==============================] - 0s 8ms/step - loss: 7.5796 - mae: 7.5796\n",
            "Epoch 25/100\n",
            "2/2 [==============================] - 0s 5ms/step - loss: 13.7226 - mae: 13.7226\n",
            "Epoch 26/100\n",
            "2/2 [==============================] - 0s 5ms/step - loss: 17.1740 - mae: 17.1740\n",
            "Epoch 27/100\n",
            "2/2 [==============================] - 0s 6ms/step - loss: 13.4233 - mae: 13.4233\n",
            "Epoch 28/100\n",
            "2/2 [==============================] - 0s 4ms/step - loss: 14.5473 - mae: 14.5473\n",
            "Epoch 29/100\n",
            "2/2 [==============================] - 0s 3ms/step - loss: 9.8753 - mae: 9.8753\n",
            "Epoch 30/100\n",
            "2/2 [==============================] - 0s 10ms/step - loss: 17.1187 - mae: 17.1187\n",
            "Epoch 31/100\n",
            "2/2 [==============================] - 0s 4ms/step - loss: 24.5949 - mae: 24.5949\n",
            "Epoch 32/100\n",
            "2/2 [==============================] - 0s 5ms/step - loss: 7.6765 - mae: 7.6765\n",
            "Epoch 33/100\n",
            "2/2 [==============================] - 0s 5ms/step - loss: 9.2971 - mae: 9.2971\n",
            "Epoch 34/100\n",
            "2/2 [==============================] - 0s 5ms/step - loss: 14.1703 - mae: 14.1703\n",
            "Epoch 35/100\n",
            "2/2 [==============================] - 0s 5ms/step - loss: 10.8635 - mae: 10.8635\n",
            "Epoch 36/100\n",
            "2/2 [==============================] - 0s 3ms/step - loss: 13.5689 - mae: 13.5689\n",
            "Epoch 37/100\n",
            "2/2 [==============================] - 0s 6ms/step - loss: 9.3448 - mae: 9.3448\n",
            "Epoch 38/100\n",
            "2/2 [==============================] - 0s 5ms/step - loss: 10.4804 - mae: 10.4804\n",
            "Epoch 39/100\n",
            "2/2 [==============================] - 0s 3ms/step - loss: 10.0178 - mae: 10.0178\n",
            "Epoch 40/100\n",
            "2/2 [==============================] - 0s 8ms/step - loss: 10.8005 - mae: 10.8005\n",
            "Epoch 41/100\n",
            "2/2 [==============================] - 0s 3ms/step - loss: 7.7789 - mae: 7.7789\n",
            "Epoch 42/100\n",
            "2/2 [==============================] - 0s 5ms/step - loss: 10.2844 - mae: 10.2844\n",
            "Epoch 43/100\n",
            "2/2 [==============================] - 0s 10ms/step - loss: 8.9628 - mae: 8.9628\n",
            "Epoch 44/100\n",
            "2/2 [==============================] - 0s 7ms/step - loss: 12.6243 - mae: 12.6243\n",
            "Epoch 45/100\n",
            "2/2 [==============================] - 0s 7ms/step - loss: 14.1236 - mae: 14.1236\n",
            "Epoch 46/100\n",
            "2/2 [==============================] - 0s 5ms/step - loss: 8.2681 - mae: 8.2681\n",
            "Epoch 47/100\n",
            "2/2 [==============================] - 0s 6ms/step - loss: 9.0126 - mae: 9.0126\n",
            "Epoch 48/100\n",
            "2/2 [==============================] - 0s 8ms/step - loss: 10.6882 - mae: 10.6882\n",
            "Epoch 49/100\n",
            "2/2 [==============================] - 0s 3ms/step - loss: 7.7431 - mae: 7.7431\n",
            "Epoch 50/100\n",
            "2/2 [==============================] - 0s 3ms/step - loss: 9.3950 - mae: 9.3950\n",
            "Epoch 51/100\n",
            "2/2 [==============================] - 0s 7ms/step - loss: 8.9267 - mae: 8.9267\n",
            "Epoch 52/100\n",
            "2/2 [==============================] - 0s 8ms/step - loss: 16.9818 - mae: 16.9818\n",
            "Epoch 53/100\n",
            "2/2 [==============================] - 0s 3ms/step - loss: 14.8677 - mae: 14.8677\n",
            "Epoch 54/100\n",
            "2/2 [==============================] - 0s 4ms/step - loss: 22.0413 - mae: 22.0413\n",
            "Epoch 55/100\n",
            "2/2 [==============================] - 0s 3ms/step - loss: 17.0640 - mae: 17.0640\n",
            "Epoch 56/100\n",
            "2/2 [==============================] - 0s 3ms/step - loss: 9.9520 - mae: 9.9520\n",
            "Epoch 57/100\n",
            "2/2 [==============================] - 0s 3ms/step - loss: 9.7522 - mae: 9.7522\n",
            "Epoch 58/100\n",
            "2/2 [==============================] - 0s 4ms/step - loss: 9.4378 - mae: 9.4378\n",
            "Epoch 59/100\n",
            "2/2 [==============================] - 0s 6ms/step - loss: 8.3373 - mae: 8.3373\n",
            "Epoch 60/100\n",
            "2/2 [==============================] - 0s 5ms/step - loss: 9.6425 - mae: 9.6425\n",
            "Epoch 61/100\n",
            "2/2 [==============================] - 0s 7ms/step - loss: 11.7590 - mae: 11.7590\n",
            "Epoch 62/100\n",
            "2/2 [==============================] - 0s 3ms/step - loss: 11.7187 - mae: 11.7187\n",
            "Epoch 63/100\n",
            "2/2 [==============================] - 0s 6ms/step - loss: 7.2316 - mae: 7.2316\n",
            "Epoch 64/100\n",
            "2/2 [==============================] - 0s 4ms/step - loss: 17.7848 - mae: 17.7848\n",
            "Epoch 65/100\n",
            "2/2 [==============================] - 0s 4ms/step - loss: 12.6255 - mae: 12.6255\n",
            "Epoch 66/100\n",
            "2/2 [==============================] - 0s 7ms/step - loss: 13.2840 - mae: 13.2840\n",
            "Epoch 67/100\n",
            "2/2 [==============================] - 0s 6ms/step - loss: 7.8471 - mae: 7.8471\n",
            "Epoch 68/100\n",
            "2/2 [==============================] - 0s 7ms/step - loss: 9.9708 - mae: 9.9708\n",
            "Epoch 69/100\n",
            "2/2 [==============================] - 0s 13ms/step - loss: 12.4903 - mae: 12.4903\n",
            "Epoch 70/100\n",
            "2/2 [==============================] - 0s 5ms/step - loss: 8.5001 - mae: 8.5001\n",
            "Epoch 71/100\n",
            "2/2 [==============================] - 0s 6ms/step - loss: 9.9996 - mae: 9.9996\n",
            "Epoch 72/100\n",
            "2/2 [==============================] - 0s 11ms/step - loss: 10.1797 - mae: 10.1797\n",
            "Epoch 73/100\n",
            "2/2 [==============================] - 0s 9ms/step - loss: 13.0024 - mae: 13.0024\n",
            "Epoch 74/100\n",
            "2/2 [==============================] - 0s 5ms/step - loss: 10.3812 - mae: 10.3812\n",
            "Epoch 75/100\n",
            "2/2 [==============================] - 0s 5ms/step - loss: 9.7621 - mae: 9.7621\n",
            "Epoch 76/100\n",
            "2/2 [==============================] - 0s 7ms/step - loss: 11.5186 - mae: 11.5186\n",
            "Epoch 77/100\n",
            "2/2 [==============================] - 0s 11ms/step - loss: 8.3070 - mae: 8.3070\n",
            "Epoch 78/100\n",
            "2/2 [==============================] - 0s 12ms/step - loss: 9.4436 - mae: 9.4436\n",
            "Epoch 79/100\n",
            "2/2 [==============================] - 0s 5ms/step - loss: 20.3897 - mae: 20.3897\n",
            "Epoch 80/100\n",
            "2/2 [==============================] - 0s 8ms/step - loss: 15.4751 - mae: 15.4751\n",
            "Epoch 81/100\n",
            "2/2 [==============================] - 0s 2ms/step - loss: 9.0208 - mae: 9.0208\n",
            "Epoch 82/100\n",
            "2/2 [==============================] - 0s 3ms/step - loss: 13.3869 - mae: 13.3869\n",
            "Epoch 83/100\n",
            "2/2 [==============================] - 0s 6ms/step - loss: 7.9649 - mae: 7.9649\n",
            "Epoch 84/100\n",
            "2/2 [==============================] - 0s 6ms/step - loss: 7.5702 - mae: 7.5702\n",
            "Epoch 85/100\n",
            "2/2 [==============================] - 0s 4ms/step - loss: 9.9706 - mae: 9.9706\n",
            "Epoch 86/100\n",
            "2/2 [==============================] - 0s 11ms/step - loss: 9.0533 - mae: 9.0533\n",
            "Epoch 87/100\n",
            "2/2 [==============================] - 0s 9ms/step - loss: 12.2670 - mae: 12.2670\n",
            "Epoch 88/100\n",
            "2/2 [==============================] - 0s 3ms/step - loss: 10.6052 - mae: 10.6052\n",
            "Epoch 89/100\n",
            "2/2 [==============================] - 0s 6ms/step - loss: 7.1986 - mae: 7.1986\n",
            "Epoch 90/100\n",
            "2/2 [==============================] - 0s 8ms/step - loss: 13.0379 - mae: 13.0379\n",
            "Epoch 91/100\n",
            "2/2 [==============================] - 0s 4ms/step - loss: 7.1968 - mae: 7.1968\n",
            "Epoch 92/100\n",
            "2/2 [==============================] - 0s 5ms/step - loss: 7.5386 - mae: 7.5386\n",
            "Epoch 93/100\n",
            "2/2 [==============================] - 0s 5ms/step - loss: 7.0932 - mae: 7.0932\n",
            "Epoch 94/100\n",
            "2/2 [==============================] - 0s 6ms/step - loss: 12.8860 - mae: 12.8860\n",
            "Epoch 95/100\n",
            "2/2 [==============================] - 0s 5ms/step - loss: 9.9620 - mae: 9.9620\n",
            "Epoch 96/100\n",
            "2/2 [==============================] - 0s 4ms/step - loss: 8.7739 - mae: 8.7739\n",
            "Epoch 97/100\n",
            "2/2 [==============================] - 0s 4ms/step - loss: 13.0861 - mae: 13.0861\n",
            "Epoch 98/100\n",
            "2/2 [==============================] - 0s 7ms/step - loss: 8.3848 - mae: 8.3848\n",
            "Epoch 99/100\n",
            "2/2 [==============================] - 0s 4ms/step - loss: 9.7828 - mae: 9.7828\n",
            "Epoch 100/100\n",
            "2/2 [==============================] - 0s 4ms/step - loss: 8.5252 - mae: 8.5252\n"
          ],
          "name": "stdout"
        },
        {
          "output_type": "execute_result",
          "data": {
            "text/plain": [
              "<tensorflow.python.keras.callbacks.History at 0x7f3c4ba9e390>"
            ]
          },
          "metadata": {
            "tags": []
          },
          "execution_count": 64
        }
      ]
    },
    {
      "cell_type": "code",
      "metadata": {
        "colab": {
          "base_uri": "https://localhost:8080/",
          "height": 466
        },
        "id": "ltMfSqycZ5mX",
        "outputId": "b91654de-1609-454b-bd2e-9954849f97c3"
      },
      "source": [
        "#now we visualize the data for model_1\n",
        "y_pred_1=model_1.predict(X_test)\n",
        "plot_prediction(prediction=y_pred_1)"
      ],
      "execution_count": null,
      "outputs": [
        {
          "output_type": "stream",
          "text": [
            "WARNING:tensorflow:7 out of the last 7 calls to <function Model.make_predict_function.<locals>.predict_function at 0x7f3c50ca4200> triggered tf.function retracing. Tracing is expensive and the excessive number of tracings could be due to (1) creating @tf.function repeatedly in a loop, (2) passing tensors with different shapes, (3) passing Python objects instead of tensors. For (1), please define your @tf.function outside of the loop. For (2), @tf.function has experimental_relax_shapes=True option that relaxes argument shapes that can avoid unnecessary retracing. For (3), please refer to https://www.tensorflow.org/guide/function#controlling_retracing and https://www.tensorflow.org/api_docs/python/tf/function for  more details.\n"
          ],
          "name": "stdout"
        },
        {
          "output_type": "display_data",
          "data": {
            "image/png": "[encoded data removed]",
            "text/plain": [
              "<Figure size 720x504 with 1 Axes>"
            ]
          },
          "metadata": {
            "tags": [],
            "needs_background": "light"
          }
        }
      ]
    },
    {
      "cell_type": "code",
      "metadata": {
        "colab": {
          "base_uri": "https://localhost:8080/"
        },
        "id": "BKD6b9yCabCz",
        "outputId": "79227e6c-05c7-4c9e-c1f0-77f07c305201"
      },
      "source": [
        "#calculate model_1 evaluate\n",
        "mae_1=mae(y_test, y_pred_1)\n",
        "mse_1=mse(y_test, y_pred_1)\n",
        "mae_1,mse_1"
      ],
      "execution_count": null,
      "outputs": [
        {
          "output_type": "execute_result",
          "data": {
            "text/plain": [
              "(<tf.Tensor: shape=(), dtype=float32, numpy=22.782436>,\n",
              " <tf.Tensor: shape=(), dtype=float32, numpy=522.58435>)"
            ]
          },
          "metadata": {
            "tags": []
          },
          "execution_count": 66
        }
      ]
    },
    {
      "cell_type": "markdown",
      "metadata": {
        "id": "gKOpMmn_a5x0"
      },
      "source": [
        "#Build model_2"
      ]
    },
    {
      "cell_type": "code",
      "metadata": {
        "colab": {
          "base_uri": "https://localhost:8080/"
        },
        "id": "X-mfu2OZchOw",
        "outputId": "ceca427a-deaa-466a-8d8a-9a39190eb1c8"
      },
      "source": [
        "#set the seed\n",
        "tf.random.set_seed(42)\n",
        "#build the model\n",
        "model_2=tf.keras.Sequential([\n",
        "                             tf.keras.layers.Dense(10),\n",
        "                             tf.keras.layers.Dense(1)\n",
        "                           \n",
        "])\n",
        "#compile the model\n",
        "model_2.compile(loss=tf.keras.losses.mse,\n",
        "                optimizer=tf.keras.optimizers.Adam(lr=0.01),\n",
        "                metrics=[\"mse\"])\n",
        "#fit the model\n",
        "model_2.fit(X_train,y_train,epochs=300)"
      ],
      "execution_count": null,
      "outputs": [
        {
          "output_type": "stream",
          "text": [
            "Epoch 1/300\n",
            "2/2 [==============================] - 0s 6ms/step - loss: 842.4100 - mse: 842.4100\n",
            "Epoch 2/300\n",
            "2/2 [==============================] - 0s 6ms/step - loss: 506.6599 - mse: 506.6599\n",
            "Epoch 3/300\n",
            "2/2 [==============================] - 0s 6ms/step - loss: 258.9877 - mse: 258.9877\n",
            "Epoch 4/300\n",
            "2/2 [==============================] - 0s 4ms/step - loss: 119.2437 - mse: 119.2437\n",
            "Epoch 5/300\n",
            "2/2 [==============================] - 0s 3ms/step - loss: 78.5779 - mse: 78.5779\n",
            "Epoch 6/300\n",
            "2/2 [==============================] - 0s 7ms/step - loss: 108.8009 - mse: 108.8009\n",
            "Epoch 7/300\n",
            "2/2 [==============================] - 0s 5ms/step - loss: 155.9883 - mse: 155.9883\n",
            "Epoch 8/300\n",
            "2/2 [==============================] - 0s 4ms/step - loss: 173.8792 - mse: 173.8792\n",
            "Epoch 9/300\n",
            "2/2 [==============================] - 0s 8ms/step - loss: 169.7999 - mse: 169.7999\n",
            "Epoch 10/300\n",
            "2/2 [==============================] - 0s 4ms/step - loss: 133.9067 - mse: 133.9067\n",
            "Epoch 11/300\n",
            "2/2 [==============================] - 0s 4ms/step - loss: 95.8457 - mse: 95.8457\n",
            "Epoch 12/300\n",
            "2/2 [==============================] - 0s 4ms/step - loss: 78.6097 - mse: 78.6097\n",
            "Epoch 13/300\n",
            "2/2 [==============================] - 0s 3ms/step - loss: 73.5657 - mse: 73.5657\n",
            "Epoch 14/300\n",
            "2/2 [==============================] - 0s 4ms/step - loss: 76.7030 - mse: 76.7030\n",
            "Epoch 15/300\n",
            "2/2 [==============================] - 0s 4ms/step - loss: 81.7716 - mse: 81.7716\n",
            "Epoch 16/300\n",
            "2/2 [==============================] - 0s 4ms/step - loss: 86.9803 - mse: 86.9803\n",
            "Epoch 17/300\n",
            "2/2 [==============================] - 0s 4ms/step - loss: 76.5426 - mse: 76.5426\n",
            "Epoch 18/300\n",
            "2/2 [==============================] - 0s 3ms/step - loss: 81.7375 - mse: 81.7375\n",
            "Epoch 19/300\n",
            "2/2 [==============================] - 0s 3ms/step - loss: 72.6653 - mse: 72.6653\n",
            "Epoch 20/300\n",
            "2/2 [==============================] - 0s 4ms/step - loss: 64.6713 - mse: 64.6713\n",
            "Epoch 21/300\n",
            "2/2 [==============================] - 0s 3ms/step - loss: 62.6615 - mse: 62.6615\n",
            "Epoch 22/300\n",
            "2/2 [==============================] - 0s 3ms/step - loss: 60.4332 - mse: 60.4332\n",
            "Epoch 23/300\n",
            "2/2 [==============================] - 0s 4ms/step - loss: 63.2835 - mse: 63.2835\n",
            "Epoch 24/300\n",
            "2/2 [==============================] - 0s 5ms/step - loss: 62.0377 - mse: 62.0377\n",
            "Epoch 25/300\n",
            "2/2 [==============================] - 0s 5ms/step - loss: 61.3883 - mse: 61.3883\n",
            "Epoch 26/300\n",
            "2/2 [==============================] - 0s 5ms/step - loss: 58.4126 - mse: 58.4126\n",
            "Epoch 27/300\n",
            "2/2 [==============================] - 0s 4ms/step - loss: 56.7794 - mse: 56.7794\n",
            "Epoch 28/300\n",
            "2/2 [==============================] - 0s 5ms/step - loss: 54.8487 - mse: 54.8487\n",
            "Epoch 29/300\n",
            "2/2 [==============================] - 0s 5ms/step - loss: 56.7084 - mse: 56.7084\n",
            "Epoch 30/300\n",
            "2/2 [==============================] - 0s 9ms/step - loss: 56.6779 - mse: 56.6779\n",
            "Epoch 31/300\n",
            "2/2 [==============================] - 0s 5ms/step - loss: 54.0551 - mse: 54.0551\n",
            "Epoch 32/300\n",
            "2/2 [==============================] - 0s 4ms/step - loss: 54.6255 - mse: 54.6255\n",
            "Epoch 33/300\n",
            "2/2 [==============================] - 0s 4ms/step - loss: 51.9445 - mse: 51.9445\n",
            "Epoch 34/300\n",
            "2/2 [==============================] - 0s 3ms/step - loss: 49.2630 - mse: 49.2630\n",
            "Epoch 35/300\n",
            "2/2 [==============================] - 0s 3ms/step - loss: 50.5276 - mse: 50.5276\n",
            "Epoch 36/300\n",
            "2/2 [==============================] - 0s 4ms/step - loss: 46.0017 - mse: 46.0017\n",
            "Epoch 37/300\n",
            "2/2 [==============================] - 0s 5ms/step - loss: 45.2080 - mse: 45.2080\n",
            "Epoch 38/300\n",
            "2/2 [==============================] - 0s 3ms/step - loss: 45.5128 - mse: 45.5128\n",
            "Epoch 39/300\n",
            "2/2 [==============================] - 0s 4ms/step - loss: 44.5017 - mse: 44.5017\n",
            "Epoch 40/300\n",
            "2/2 [==============================] - 0s 5ms/step - loss: 43.1152 - mse: 43.1152\n",
            "Epoch 41/300\n",
            "2/2 [==============================] - 0s 7ms/step - loss: 40.3475 - mse: 40.3475\n",
            "Epoch 42/300\n",
            "2/2 [==============================] - 0s 9ms/step - loss: 40.8720 - mse: 40.8720\n",
            "Epoch 43/300\n",
            "2/2 [==============================] - 0s 7ms/step - loss: 41.1080 - mse: 41.1080\n",
            "Epoch 44/300\n",
            "2/2 [==============================] - 0s 4ms/step - loss: 39.4688 - mse: 39.4688\n",
            "Epoch 45/300\n",
            "2/2 [==============================] - 0s 4ms/step - loss: 37.9397 - mse: 37.9397\n",
            "Epoch 46/300\n",
            "2/2 [==============================] - 0s 7ms/step - loss: 37.2071 - mse: 37.2071\n",
            "Epoch 47/300\n",
            "2/2 [==============================] - 0s 7ms/step - loss: 36.2001 - mse: 36.2001\n",
            "Epoch 48/300\n",
            "2/2 [==============================] - 0s 5ms/step - loss: 34.6165 - mse: 34.6165\n",
            "Epoch 49/300\n",
            "2/2 [==============================] - 0s 6ms/step - loss: 35.2308 - mse: 35.2308\n",
            "Epoch 50/300\n",
            "2/2 [==============================] - 0s 7ms/step - loss: 32.5626 - mse: 32.5626\n",
            "Epoch 51/300\n",
            "2/2 [==============================] - 0s 4ms/step - loss: 32.8854 - mse: 32.8854\n",
            "Epoch 52/300\n",
            "2/2 [==============================] - 0s 5ms/step - loss: 32.8615 - mse: 32.8615\n",
            "Epoch 53/300\n",
            "2/2 [==============================] - 0s 4ms/step - loss: 32.3453 - mse: 32.3453\n",
            "Epoch 54/300\n",
            "2/2 [==============================] - 0s 10ms/step - loss: 31.0122 - mse: 31.0122\n",
            "Epoch 55/300\n",
            "2/2 [==============================] - 0s 4ms/step - loss: 29.5729 - mse: 29.5729\n",
            "Epoch 56/300\n",
            "2/2 [==============================] - 0s 7ms/step - loss: 28.3633 - mse: 28.3633\n",
            "Epoch 57/300\n",
            "2/2 [==============================] - 0s 8ms/step - loss: 27.4744 - mse: 27.4744\n",
            "Epoch 58/300\n",
            "2/2 [==============================] - 0s 10ms/step - loss: 27.9009 - mse: 27.9009\n",
            "Epoch 59/300\n",
            "2/2 [==============================] - 0s 6ms/step - loss: 25.9824 - mse: 25.9824\n",
            "Epoch 60/300\n",
            "2/2 [==============================] - 0s 3ms/step - loss: 25.7853 - mse: 25.7853\n",
            "Epoch 61/300\n",
            "2/2 [==============================] - 0s 4ms/step - loss: 24.7916 - mse: 24.7916\n",
            "Epoch 62/300\n",
            "2/2 [==============================] - 0s 4ms/step - loss: 24.1435 - mse: 24.1435\n",
            "Epoch 63/300\n",
            "2/2 [==============================] - 0s 6ms/step - loss: 23.9601 - mse: 23.9601\n",
            "Epoch 64/300\n",
            "2/2 [==============================] - 0s 6ms/step - loss: 22.5739 - mse: 22.5739\n",
            "Epoch 65/300\n",
            "2/2 [==============================] - 0s 3ms/step - loss: 22.4823 - mse: 22.4823\n",
            "Epoch 66/300\n",
            "2/2 [==============================] - 0s 3ms/step - loss: 21.2950 - mse: 21.2950\n",
            "Epoch 67/300\n",
            "2/2 [==============================] - 0s 4ms/step - loss: 21.1057 - mse: 21.1057\n",
            "Epoch 68/300\n",
            "2/2 [==============================] - 0s 5ms/step - loss: 20.7925 - mse: 20.7925\n",
            "Epoch 69/300\n",
            "2/2 [==============================] - 0s 5ms/step - loss: 19.3868 - mse: 19.3868\n",
            "Epoch 70/300\n",
            "2/2 [==============================] - 0s 3ms/step - loss: 18.2578 - mse: 18.2578\n",
            "Epoch 71/300\n",
            "2/2 [==============================] - 0s 3ms/step - loss: 17.6285 - mse: 17.6285\n",
            "Epoch 72/300\n",
            "2/2 [==============================] - 0s 4ms/step - loss: 17.3888 - mse: 17.3888\n",
            "Epoch 73/300\n",
            "2/2 [==============================] - 0s 4ms/step - loss: 16.8704 - mse: 16.8704\n",
            "Epoch 74/300\n",
            "2/2 [==============================] - 0s 5ms/step - loss: 16.4236 - mse: 16.4236\n",
            "Epoch 75/300\n",
            "2/2 [==============================] - 0s 4ms/step - loss: 15.9050 - mse: 15.9050\n",
            "Epoch 76/300\n",
            "2/2 [==============================] - 0s 6ms/step - loss: 15.1695 - mse: 15.1695\n",
            "Epoch 77/300\n",
            "2/2 [==============================] - 0s 3ms/step - loss: 14.5385 - mse: 14.5385\n",
            "Epoch 78/300\n",
            "2/2 [==============================] - 0s 7ms/step - loss: 14.4275 - mse: 14.4275\n",
            "Epoch 79/300\n",
            "2/2 [==============================] - 0s 6ms/step - loss: 13.6614 - mse: 13.6614\n",
            "Epoch 80/300\n",
            "2/2 [==============================] - 0s 5ms/step - loss: 12.8410 - mse: 12.8410\n",
            "Epoch 81/300\n",
            "2/2 [==============================] - 0s 3ms/step - loss: 12.3372 - mse: 12.3372\n",
            "Epoch 82/300\n",
            "2/2 [==============================] - 0s 7ms/step - loss: 11.7755 - mse: 11.7755\n",
            "Epoch 83/300\n",
            "2/2 [==============================] - 0s 5ms/step - loss: 11.4117 - mse: 11.4117\n",
            "Epoch 84/300\n",
            "2/2 [==============================] - 0s 5ms/step - loss: 10.8305 - mse: 10.8305\n",
            "Epoch 85/300\n",
            "2/2 [==============================] - 0s 5ms/step - loss: 10.5741 - mse: 10.5741\n",
            "Epoch 86/300\n",
            "2/2 [==============================] - 0s 3ms/step - loss: 10.3227 - mse: 10.3227\n",
            "Epoch 87/300\n",
            "2/2 [==============================] - 0s 6ms/step - loss: 9.6111 - mse: 9.6111\n",
            "Epoch 88/300\n",
            "2/2 [==============================] - 0s 5ms/step - loss: 9.1261 - mse: 9.1261\n",
            "Epoch 89/300\n",
            "2/2 [==============================] - 0s 7ms/step - loss: 8.8256 - mse: 8.8256\n",
            "Epoch 90/300\n",
            "2/2 [==============================] - 0s 7ms/step - loss: 8.3622 - mse: 8.3622\n",
            "Epoch 91/300\n",
            "2/2 [==============================] - 0s 5ms/step - loss: 7.8466 - mse: 7.8466\n",
            "Epoch 92/300\n",
            "2/2 [==============================] - 0s 4ms/step - loss: 7.5705 - mse: 7.5705\n",
            "Epoch 93/300\n",
            "2/2 [==============================] - 0s 5ms/step - loss: 7.3461 - mse: 7.3461\n",
            "Epoch 94/300\n",
            "2/2 [==============================] - 0s 3ms/step - loss: 6.9460 - mse: 6.9460\n",
            "Epoch 95/300\n",
            "2/2 [==============================] - 0s 8ms/step - loss: 6.5712 - mse: 6.5712\n",
            "Epoch 96/300\n",
            "2/2 [==============================] - 0s 10ms/step - loss: 6.1309 - mse: 6.1309\n",
            "Epoch 97/300\n",
            "2/2 [==============================] - 0s 6ms/step - loss: 5.8345 - mse: 5.8345\n",
            "Epoch 98/300\n",
            "2/2 [==============================] - 0s 4ms/step - loss: 5.5428 - mse: 5.5428\n",
            "Epoch 99/300\n",
            "2/2 [==============================] - 0s 3ms/step - loss: 5.3617 - mse: 5.3617\n",
            "Epoch 100/300\n",
            "2/2 [==============================] - 0s 7ms/step - loss: 5.0356 - mse: 5.0356\n",
            "Epoch 101/300\n",
            "2/2 [==============================] - 0s 6ms/step - loss: 4.7897 - mse: 4.7897\n",
            "Epoch 102/300\n",
            "2/2 [==============================] - 0s 4ms/step - loss: 4.3917 - mse: 4.3917\n",
            "Epoch 103/300\n",
            "2/2 [==============================] - 0s 4ms/step - loss: 4.3746 - mse: 4.3746\n",
            "Epoch 104/300\n",
            "2/2 [==============================] - 0s 6ms/step - loss: 4.0299 - mse: 4.0299\n",
            "Epoch 105/300\n",
            "2/2 [==============================] - 0s 6ms/step - loss: 3.8223 - mse: 3.8223\n",
            "Epoch 106/300\n",
            "2/2 [==============================] - 0s 4ms/step - loss: 3.6503 - mse: 3.6503\n",
            "Epoch 107/300\n",
            "2/2 [==============================] - 0s 6ms/step - loss: 3.4497 - mse: 3.4497\n",
            "Epoch 108/300\n",
            "2/2 [==============================] - 0s 5ms/step - loss: 3.2876 - mse: 3.2876\n",
            "Epoch 109/300\n",
            "2/2 [==============================] - 0s 5ms/step - loss: 3.0132 - mse: 3.0132\n",
            "Epoch 110/300\n",
            "2/2 [==============================] - 0s 4ms/step - loss: 2.8292 - mse: 2.8292\n",
            "Epoch 111/300\n",
            "2/2 [==============================] - 0s 6ms/step - loss: 2.5631 - mse: 2.5631\n",
            "Epoch 112/300\n",
            "2/2 [==============================] - 0s 6ms/step - loss: 2.5821 - mse: 2.5821\n",
            "Epoch 113/300\n",
            "2/2 [==============================] - 0s 4ms/step - loss: 2.4517 - mse: 2.4517\n",
            "Epoch 114/300\n",
            "2/2 [==============================] - 0s 6ms/step - loss: 2.2265 - mse: 2.2265\n",
            "Epoch 115/300\n",
            "2/2 [==============================] - 0s 5ms/step - loss: 2.0657 - mse: 2.0657\n",
            "Epoch 116/300\n",
            "2/2 [==============================] - 0s 3ms/step - loss: 1.9169 - mse: 1.9169\n",
            "Epoch 117/300\n",
            "2/2 [==============================] - 0s 5ms/step - loss: 1.8044 - mse: 1.8044\n",
            "Epoch 118/300\n",
            "2/2 [==============================] - 0s 7ms/step - loss: 1.6570 - mse: 1.6570\n",
            "Epoch 119/300\n",
            "2/2 [==============================] - 0s 3ms/step - loss: 1.6731 - mse: 1.6731\n",
            "Epoch 120/300\n",
            "2/2 [==============================] - 0s 3ms/step - loss: 1.4778 - mse: 1.4778\n",
            "Epoch 121/300\n",
            "2/2 [==============================] - 0s 7ms/step - loss: 1.4264 - mse: 1.4264\n",
            "Epoch 122/300\n",
            "2/2 [==============================] - 0s 5ms/step - loss: 1.3209 - mse: 1.3209\n",
            "Epoch 123/300\n",
            "2/2 [==============================] - 0s 8ms/step - loss: 1.2571 - mse: 1.2571\n",
            "Epoch 124/300\n",
            "2/2 [==============================] - 0s 8ms/step - loss: 1.1463 - mse: 1.1463\n",
            "Epoch 125/300\n",
            "2/2 [==============================] - 0s 5ms/step - loss: 1.0149 - mse: 1.0149\n",
            "Epoch 126/300\n",
            "2/2 [==============================] - 0s 7ms/step - loss: 0.9619 - mse: 0.9619\n",
            "Epoch 127/300\n",
            "2/2 [==============================] - 0s 3ms/step - loss: 0.9612 - mse: 0.9612\n",
            "Epoch 128/300\n",
            "2/2 [==============================] - 0s 4ms/step - loss: 0.8633 - mse: 0.8633\n",
            "Epoch 129/300\n",
            "2/2 [==============================] - 0s 8ms/step - loss: 0.7919 - mse: 0.7919\n",
            "Epoch 130/300\n",
            "2/2 [==============================] - 0s 6ms/step - loss: 0.7356 - mse: 0.7356\n",
            "Epoch 131/300\n",
            "2/2 [==============================] - 0s 8ms/step - loss: 0.7430 - mse: 0.7430\n",
            "Epoch 132/300\n",
            "2/2 [==============================] - 0s 4ms/step - loss: 0.6810 - mse: 0.6810\n",
            "Epoch 133/300\n",
            "2/2 [==============================] - 0s 5ms/step - loss: 0.6245 - mse: 0.6245\n",
            "Epoch 134/300\n",
            "2/2 [==============================] - 0s 5ms/step - loss: 0.5212 - mse: 0.5212\n",
            "Epoch 135/300\n",
            "2/2 [==============================] - 0s 14ms/step - loss: 0.4811 - mse: 0.4811\n",
            "Epoch 136/300\n",
            "2/2 [==============================] - 0s 4ms/step - loss: 0.4645 - mse: 0.4645\n",
            "Epoch 137/300\n",
            "2/2 [==============================] - 0s 10ms/step - loss: 0.4244 - mse: 0.4244\n",
            "Epoch 138/300\n",
            "2/2 [==============================] - 0s 8ms/step - loss: 0.3871 - mse: 0.3871\n",
            "Epoch 139/300\n",
            "2/2 [==============================] - 0s 14ms/step - loss: 0.3601 - mse: 0.3601\n",
            "Epoch 140/300\n",
            "2/2 [==============================] - 0s 4ms/step - loss: 0.3264 - mse: 0.3264\n",
            "Epoch 141/300\n",
            "2/2 [==============================] - 0s 3ms/step - loss: 0.3068 - mse: 0.3068\n",
            "Epoch 142/300\n",
            "2/2 [==============================] - 0s 12ms/step - loss: 0.2759 - mse: 0.2759\n",
            "Epoch 143/300\n",
            "2/2 [==============================] - 0s 3ms/step - loss: 0.2476 - mse: 0.2476\n",
            "Epoch 144/300\n",
            "2/2 [==============================] - 0s 10ms/step - loss: 0.2481 - mse: 0.2481\n",
            "Epoch 145/300\n",
            "2/2 [==============================] - 0s 12ms/step - loss: 0.2108 - mse: 0.2108\n",
            "Epoch 146/300\n",
            "2/2 [==============================] - 0s 4ms/step - loss: 0.1803 - mse: 0.1803\n",
            "Epoch 147/300\n",
            "2/2 [==============================] - 0s 6ms/step - loss: 0.1807 - mse: 0.1807\n",
            "Epoch 148/300\n",
            "2/2 [==============================] - 0s 6ms/step - loss: 0.1590 - mse: 0.1590\n",
            "Epoch 149/300\n",
            "2/2 [==============================] - 0s 7ms/step - loss: 0.1413 - mse: 0.1413\n",
            "Epoch 150/300\n",
            "2/2 [==============================] - 0s 4ms/step - loss: 0.1343 - mse: 0.1343\n",
            "Epoch 151/300\n",
            "2/2 [==============================] - 0s 7ms/step - loss: 0.1176 - mse: 0.1176\n",
            "Epoch 152/300\n",
            "2/2 [==============================] - 0s 7ms/step - loss: 0.1101 - mse: 0.1101\n",
            "Epoch 153/300\n",
            "2/2 [==============================] - 0s 4ms/step - loss: 0.0950 - mse: 0.0950\n",
            "Epoch 154/300\n",
            "2/2 [==============================] - 0s 4ms/step - loss: 0.0878 - mse: 0.0878\n",
            "Epoch 155/300\n",
            "2/2 [==============================] - 0s 6ms/step - loss: 0.0816 - mse: 0.0816\n",
            "Epoch 156/300\n",
            "2/2 [==============================] - 0s 9ms/step - loss: 0.0751 - mse: 0.0751\n",
            "Epoch 157/300\n",
            "2/2 [==============================] - 0s 10ms/step - loss: 0.0656 - mse: 0.0656\n",
            "Epoch 158/300\n",
            "2/2 [==============================] - 0s 14ms/step - loss: 0.0585 - mse: 0.0585\n",
            "Epoch 159/300\n",
            "2/2 [==============================] - 0s 8ms/step - loss: 0.0582 - mse: 0.0582\n",
            "Epoch 160/300\n",
            "2/2 [==============================] - 0s 7ms/step - loss: 0.0499 - mse: 0.0499\n",
            "Epoch 161/300\n",
            "2/2 [==============================] - 0s 3ms/step - loss: 0.0431 - mse: 0.0431\n",
            "Epoch 162/300\n",
            "2/2 [==============================] - 0s 5ms/step - loss: 0.0403 - mse: 0.0403\n",
            "Epoch 163/300\n",
            "2/2 [==============================] - 0s 8ms/step - loss: 0.0361 - mse: 0.0361\n",
            "Epoch 164/300\n",
            "2/2 [==============================] - 0s 6ms/step - loss: 0.0313 - mse: 0.0313\n",
            "Epoch 165/300\n",
            "2/2 [==============================] - 0s 8ms/step - loss: 0.0278 - mse: 0.0278\n",
            "Epoch 166/300\n",
            "2/2 [==============================] - 0s 5ms/step - loss: 0.0262 - mse: 0.0262\n",
            "Epoch 167/300\n",
            "2/2 [==============================] - 0s 3ms/step - loss: 0.0225 - mse: 0.0225\n",
            "Epoch 168/300\n",
            "2/2 [==============================] - 0s 4ms/step - loss: 0.0204 - mse: 0.0204\n",
            "Epoch 169/300\n",
            "2/2 [==============================] - 0s 4ms/step - loss: 0.0183 - mse: 0.0183\n",
            "Epoch 170/300\n",
            "2/2 [==============================] - 0s 8ms/step - loss: 0.0165 - mse: 0.0165\n",
            "Epoch 171/300\n",
            "2/2 [==============================] - 0s 3ms/step - loss: 0.0144 - mse: 0.0144\n",
            "Epoch 172/300\n",
            "2/2 [==============================] - 0s 3ms/step - loss: 0.0134 - mse: 0.0134\n",
            "Epoch 173/300\n",
            "2/2 [==============================] - 0s 3ms/step - loss: 0.0116 - mse: 0.0116\n",
            "Epoch 174/300\n",
            "2/2 [==============================] - 0s 3ms/step - loss: 0.0106 - mse: 0.0106\n",
            "Epoch 175/300\n",
            "2/2 [==============================] - 0s 4ms/step - loss: 0.0095 - mse: 0.0095\n",
            "Epoch 176/300\n",
            "2/2 [==============================] - 0s 3ms/step - loss: 0.0083 - mse: 0.0083\n",
            "Epoch 177/300\n",
            "2/2 [==============================] - 0s 4ms/step - loss: 0.0074 - mse: 0.0074\n",
            "Epoch 178/300\n",
            "2/2 [==============================] - 0s 3ms/step - loss: 0.0065 - mse: 0.0065\n",
            "Epoch 179/300\n",
            "2/2 [==============================] - 0s 4ms/step - loss: 0.0056 - mse: 0.0056\n",
            "Epoch 180/300\n",
            "2/2 [==============================] - 0s 3ms/step - loss: 0.0053 - mse: 0.0053\n",
            "Epoch 181/300\n",
            "2/2 [==============================] - 0s 4ms/step - loss: 0.0048 - mse: 0.0048\n",
            "Epoch 182/300\n",
            "2/2 [==============================] - 0s 4ms/step - loss: 0.0040 - mse: 0.0040\n",
            "Epoch 183/300\n",
            "2/2 [==============================] - 0s 4ms/step - loss: 0.0038 - mse: 0.0038\n",
            "Epoch 184/300\n",
            "2/2 [==============================] - 0s 4ms/step - loss: 0.0032 - mse: 0.0032\n",
            "Epoch 185/300\n",
            "2/2 [==============================] - 0s 3ms/step - loss: 0.0030 - mse: 0.0030\n",
            "Epoch 186/300\n",
            "2/2 [==============================] - 0s 4ms/step - loss: 0.0024 - mse: 0.0024\n",
            "Epoch 187/300\n",
            "2/2 [==============================] - 0s 4ms/step - loss: 0.0023 - mse: 0.0023\n",
            "Epoch 188/300\n",
            "2/2 [==============================] - 0s 3ms/step - loss: 0.0019 - mse: 0.0019\n",
            "Epoch 189/300\n",
            "2/2 [==============================] - 0s 9ms/step - loss: 0.0018 - mse: 0.0018\n",
            "Epoch 190/300\n",
            "2/2 [==============================] - 0s 4ms/step - loss: 0.0015 - mse: 0.0015\n",
            "Epoch 191/300\n",
            "2/2 [==============================] - 0s 4ms/step - loss: 0.0013 - mse: 0.0013\n",
            "Epoch 192/300\n",
            "2/2 [==============================] - 0s 4ms/step - loss: 0.0012 - mse: 0.0012\n",
            "Epoch 193/300\n",
            "2/2 [==============================] - 0s 4ms/step - loss: 0.0010 - mse: 0.0010    \n",
            "Epoch 194/300\n",
            "2/2 [==============================] - 0s 13ms/step - loss: 9.0119e-04 - mse: 9.0119e-04\n",
            "Epoch 195/300\n",
            "2/2 [==============================] - 0s 21ms/step - loss: 7.9692e-04 - mse: 7.9692e-04\n",
            "Epoch 196/300\n",
            "2/2 [==============================] - 0s 9ms/step - loss: 6.6458e-04 - mse: 6.6458e-04\n",
            "Epoch 197/300\n",
            "2/2 [==============================] - 0s 8ms/step - loss: 6.1247e-04 - mse: 6.1247e-04\n",
            "Epoch 198/300\n",
            "2/2 [==============================] - 0s 9ms/step - loss: 5.6252e-04 - mse: 5.6252e-04\n",
            "Epoch 199/300\n",
            "2/2 [==============================] - 0s 6ms/step - loss: 4.6459e-04 - mse: 4.6459e-04\n",
            "Epoch 200/300\n",
            "2/2 [==============================] - 0s 10ms/step - loss: 4.0508e-04 - mse: 4.0508e-04\n",
            "Epoch 201/300\n",
            "2/2 [==============================] - 0s 8ms/step - loss: 3.9178e-04 - mse: 3.9178e-04\n",
            "Epoch 202/300\n",
            "2/2 [==============================] - 0s 16ms/step - loss: 3.2223e-04 - mse: 3.2223e-04\n",
            "Epoch 203/300\n",
            "2/2 [==============================] - 0s 9ms/step - loss: 2.6193e-04 - mse: 2.6193e-04\n",
            "Epoch 204/300\n",
            "2/2 [==============================] - 0s 6ms/step - loss: 2.3396e-04 - mse: 2.3396e-04\n",
            "Epoch 205/300\n",
            "2/2 [==============================] - 0s 4ms/step - loss: 2.1993e-04 - mse: 2.1993e-04\n",
            "Epoch 206/300\n",
            "2/2 [==============================] - 0s 4ms/step - loss: 1.9135e-04 - mse: 1.9135e-04\n",
            "Epoch 207/300\n",
            "2/2 [==============================] - 0s 9ms/step - loss: 1.5568e-04 - mse: 1.5568e-04\n",
            "Epoch 208/300\n",
            "2/2 [==============================] - 0s 3ms/step - loss: 1.3246e-04 - mse: 1.3246e-04\n",
            "Epoch 209/300\n",
            "2/2 [==============================] - 0s 5ms/step - loss: 1.3051e-04 - mse: 1.3051e-04\n",
            "Epoch 210/300\n",
            "2/2 [==============================] - 0s 5ms/step - loss: 1.0226e-04 - mse: 1.0226e-04\n",
            "Epoch 211/300\n",
            "2/2 [==============================] - 0s 5ms/step - loss: 8.3394e-05 - mse: 8.3394e-05\n",
            "Epoch 212/300\n",
            "2/2 [==============================] - 0s 4ms/step - loss: 7.7259e-05 - mse: 7.7259e-05\n",
            "Epoch 213/300\n",
            "2/2 [==============================] - 0s 7ms/step - loss: 6.9058e-05 - mse: 6.9058e-05\n",
            "Epoch 214/300\n",
            "2/2 [==============================] - 0s 4ms/step - loss: 5.6314e-05 - mse: 5.6314e-05\n",
            "Epoch 215/300\n",
            "2/2 [==============================] - 0s 7ms/step - loss: 4.8881e-05 - mse: 4.8881e-05\n",
            "Epoch 216/300\n",
            "2/2 [==============================] - 0s 6ms/step - loss: 4.7076e-05 - mse: 4.7076e-05\n",
            "Epoch 217/300\n",
            "2/2 [==============================] - 0s 16ms/step - loss: 3.6616e-05 - mse: 3.6616e-05\n",
            "Epoch 218/300\n",
            "2/2 [==============================] - 0s 4ms/step - loss: 3.0207e-05 - mse: 3.0207e-05\n",
            "Epoch 219/300\n",
            "2/2 [==============================] - 0s 10ms/step - loss: 2.8761e-05 - mse: 2.8761e-05\n",
            "Epoch 220/300\n",
            "2/2 [==============================] - 0s 3ms/step - loss: 2.6217e-05 - mse: 2.6217e-05\n",
            "Epoch 221/300\n",
            "2/2 [==============================] - 0s 3ms/step - loss: 1.9906e-05 - mse: 1.9906e-05\n",
            "Epoch 222/300\n",
            "2/2 [==============================] - 0s 4ms/step - loss: 1.8972e-05 - mse: 1.8972e-05\n",
            "Epoch 223/300\n",
            "2/2 [==============================] - 0s 4ms/step - loss: 1.7285e-05 - mse: 1.7285e-05\n",
            "Epoch 224/300\n",
            "2/2 [==============================] - 0s 11ms/step - loss: 1.2694e-05 - mse: 1.2694e-05\n",
            "Epoch 225/300\n",
            "2/2 [==============================] - 0s 4ms/step - loss: 1.1647e-05 - mse: 1.1647e-05\n",
            "Epoch 226/300\n",
            "2/2 [==============================] - 0s 3ms/step - loss: 1.2281e-05 - mse: 1.2281e-05\n",
            "Epoch 227/300\n",
            "2/2 [==============================] - 0s 3ms/step - loss: 8.8954e-06 - mse: 8.8954e-06\n",
            "Epoch 228/300\n",
            "2/2 [==============================] - 0s 4ms/step - loss: 6.4074e-06 - mse: 6.4074e-06\n",
            "Epoch 229/300\n",
            "2/2 [==============================] - 0s 4ms/step - loss: 6.6527e-06 - mse: 6.6527e-06\n",
            "Epoch 230/300\n",
            "2/2 [==============================] - 0s 4ms/step - loss: 5.6879e-06 - mse: 5.6879e-06\n",
            "Epoch 231/300\n",
            "2/2 [==============================] - 0s 6ms/step - loss: 3.8578e-06 - mse: 3.8578e-06\n",
            "Epoch 232/300\n",
            "2/2 [==============================] - 0s 4ms/step - loss: 3.4150e-06 - mse: 3.4150e-06\n",
            "Epoch 233/300\n",
            "2/2 [==============================] - 0s 4ms/step - loss: 2.9753e-06 - mse: 2.9753e-06\n",
            "Epoch 234/300\n",
            "2/2 [==============================] - 0s 3ms/step - loss: 2.3596e-06 - mse: 2.3596e-06\n",
            "Epoch 235/300\n",
            "2/2 [==============================] - 0s 4ms/step - loss: 2.0054e-06 - mse: 2.0054e-06\n",
            "Epoch 236/300\n",
            "2/2 [==============================] - 0s 4ms/step - loss: 1.9636e-06 - mse: 1.9636e-06\n",
            "Epoch 237/300\n",
            "2/2 [==============================] - 0s 3ms/step - loss: 1.4039e-06 - mse: 1.4039e-06\n",
            "Epoch 238/300\n",
            "2/2 [==============================] - 0s 3ms/step - loss: 1.1943e-06 - mse: 1.1943e-06\n",
            "Epoch 239/300\n",
            "2/2 [==============================] - 0s 4ms/step - loss: 1.1052e-06 - mse: 1.1052e-06\n",
            "Epoch 240/300\n",
            "2/2 [==============================] - 0s 3ms/step - loss: 9.1300e-07 - mse: 9.1300e-07\n",
            "Epoch 241/300\n",
            "2/2 [==============================] - 0s 6ms/step - loss: 6.8867e-07 - mse: 6.8867e-07\n",
            "Epoch 242/300\n",
            "2/2 [==============================] - 0s 4ms/step - loss: 5.8817e-07 - mse: 5.8817e-07\n",
            "Epoch 243/300\n",
            "2/2 [==============================] - 0s 4ms/step - loss: 4.7631e-07 - mse: 4.7631e-07\n",
            "Epoch 244/300\n",
            "2/2 [==============================] - 0s 5ms/step - loss: 4.0359e-07 - mse: 4.0359e-07\n",
            "Epoch 245/300\n",
            "2/2 [==============================] - 0s 3ms/step - loss: 3.2771e-07 - mse: 3.2771e-07\n",
            "Epoch 246/300\n",
            "2/2 [==============================] - 0s 4ms/step - loss: 2.8596e-07 - mse: 2.8596e-07\n",
            "Epoch 247/300\n",
            "2/2 [==============================] - 0s 4ms/step - loss: 2.2993e-07 - mse: 2.2993e-07\n",
            "Epoch 248/300\n",
            "2/2 [==============================] - 0s 4ms/step - loss: 1.8650e-07 - mse: 1.8650e-07\n",
            "Epoch 249/300\n",
            "2/2 [==============================] - 0s 3ms/step - loss: 1.7018e-07 - mse: 1.7018e-07\n",
            "Epoch 250/300\n",
            "2/2 [==============================] - 0s 5ms/step - loss: 1.4504e-07 - mse: 1.4504e-07\n",
            "Epoch 251/300\n",
            "2/2 [==============================] - 0s 3ms/step - loss: 1.1226e-07 - mse: 1.1226e-07\n",
            "Epoch 252/300\n",
            "2/2 [==============================] - 0s 4ms/step - loss: 8.6737e-08 - mse: 8.6737e-08\n",
            "Epoch 253/300\n",
            "2/2 [==============================] - 0s 3ms/step - loss: 7.2192e-08 - mse: 7.2192e-08\n",
            "Epoch 254/300\n",
            "2/2 [==============================] - 0s 3ms/step - loss: 6.1594e-08 - mse: 6.1594e-08\n",
            "Epoch 255/300\n",
            "2/2 [==============================] - 0s 4ms/step - loss: 4.8090e-08 - mse: 4.8090e-08\n",
            "Epoch 256/300\n",
            "2/2 [==============================] - 0s 4ms/step - loss: 3.9689e-08 - mse: 3.9689e-08\n",
            "Epoch 257/300\n",
            "2/2 [==============================] - 0s 4ms/step - loss: 3.2552e-08 - mse: 3.2552e-08\n",
            "Epoch 258/300\n",
            "2/2 [==============================] - 0s 3ms/step - loss: 2.7946e-08 - mse: 2.7946e-08\n",
            "Epoch 259/300\n",
            "2/2 [==============================] - 0s 6ms/step - loss: 2.3887e-08 - mse: 2.3887e-08\n",
            "Epoch 260/300\n",
            "2/2 [==============================] - 0s 3ms/step - loss: 1.8384e-08 - mse: 1.8384e-08\n",
            "Epoch 261/300\n",
            "2/2 [==============================] - 0s 4ms/step - loss: 1.4755e-08 - mse: 1.4755e-08\n",
            "Epoch 262/300\n",
            "2/2 [==============================] - 0s 4ms/step - loss: 1.3615e-08 - mse: 1.3615e-08\n",
            "Epoch 263/300\n",
            "2/2 [==============================] - 0s 4ms/step - loss: 9.8250e-09 - mse: 9.8250e-09\n",
            "Epoch 264/300\n",
            "2/2 [==============================] - 0s 3ms/step - loss: 8.6485e-09 - mse: 8.6485e-09\n",
            "Epoch 265/300\n",
            "2/2 [==============================] - 0s 3ms/step - loss: 8.6112e-09 - mse: 8.6112e-09\n",
            "Epoch 266/300\n",
            "2/2 [==============================] - 0s 4ms/step - loss: 6.4043e-09 - mse: 6.4043e-09\n",
            "Epoch 267/300\n",
            "2/2 [==============================] - 0s 4ms/step - loss: 3.9560e-09 - mse: 3.9560e-09\n",
            "Epoch 268/300\n",
            "2/2 [==============================] - 0s 4ms/step - loss: 3.7241e-09 - mse: 3.7241e-09\n",
            "Epoch 269/300\n",
            "2/2 [==============================] - 0s 4ms/step - loss: 3.1730e-09 - mse: 3.1730e-09\n",
            "Epoch 270/300\n",
            "2/2 [==============================] - 0s 3ms/step - loss: 1.8582e-09 - mse: 1.8582e-09\n",
            "Epoch 271/300\n",
            "2/2 [==============================] - 0s 8ms/step - loss: 1.8304e-09 - mse: 1.8304e-09\n",
            "Epoch 272/300\n",
            "2/2 [==============================] - 0s 3ms/step - loss: 1.6939e-09 - mse: 1.6939e-09\n",
            "Epoch 273/300\n",
            "2/2 [==============================] - 0s 8ms/step - loss: 1.0601e-09 - mse: 1.0601e-09\n",
            "Epoch 274/300\n",
            "2/2 [==============================] - 0s 3ms/step - loss: 9.2288e-10 - mse: 9.2288e-10\n",
            "Epoch 275/300\n",
            "2/2 [==============================] - 0s 4ms/step - loss: 8.4655e-10 - mse: 8.4655e-10\n",
            "Epoch 276/300\n",
            "2/2 [==============================] - 0s 4ms/step - loss: 6.8173e-10 - mse: 6.8173e-10\n",
            "Epoch 277/300\n",
            "2/2 [==============================] - 0s 4ms/step - loss: 3.8318e-10 - mse: 3.8318e-10\n",
            "Epoch 278/300\n",
            "2/2 [==============================] - 0s 4ms/step - loss: 5.0980e-10 - mse: 5.0980e-10\n",
            "Epoch 279/300\n",
            "2/2 [==============================] - 0s 3ms/step - loss: 4.7811e-10 - mse: 4.7811e-10\n",
            "Epoch 280/300\n",
            "2/2 [==============================] - 0s 6ms/step - loss: 1.8540e-10 - mse: 1.8540e-10\n",
            "Epoch 281/300\n",
            "2/2 [==============================] - 0s 4ms/step - loss: 2.2450e-10 - mse: 2.2450e-10\n",
            "Epoch 282/300\n",
            "2/2 [==============================] - 0s 4ms/step - loss: 2.2898e-10 - mse: 2.2898e-10\n",
            "Epoch 283/300\n",
            "2/2 [==============================] - 0s 4ms/step - loss: 1.6208e-10 - mse: 1.6208e-10\n",
            "Epoch 284/300\n",
            "2/2 [==============================] - 0s 3ms/step - loss: 6.6123e-11 - mse: 6.6123e-11\n",
            "Epoch 285/300\n",
            "2/2 [==============================] - 0s 4ms/step - loss: 5.1048e-11 - mse: 5.1048e-11\n",
            "Epoch 286/300\n",
            "2/2 [==============================] - 0s 3ms/step - loss: 5.9453e-11 - mse: 5.9453e-11\n",
            "Epoch 287/300\n",
            "2/2 [==============================] - 0s 4ms/step - loss: 6.1023e-11 - mse: 6.1023e-11\n",
            "Epoch 288/300\n",
            "2/2 [==============================] - 0s 4ms/step - loss: 4.1557e-11 - mse: 4.1557e-11\n",
            "Epoch 289/300\n",
            "2/2 [==============================] - 0s 4ms/step - loss: 4.6266e-11 - mse: 4.6266e-11\n",
            "Epoch 290/300\n",
            "2/2 [==============================] - 0s 4ms/step - loss: 4.3796e-11 - mse: 4.3796e-11\n",
            "Epoch 291/300\n",
            "2/2 [==============================] - 0s 4ms/step - loss: 5.5682e-11 - mse: 5.5682e-11\n",
            "Epoch 292/300\n",
            "2/2 [==============================] - 0s 4ms/step - loss: 5.8814e-11 - mse: 5.8814e-11\n",
            "Epoch 293/300\n",
            "2/2 [==============================] - 0s 5ms/step - loss: 4.7129e-11 - mse: 4.7129e-11\n",
            "Epoch 294/300\n",
            "2/2 [==============================] - 0s 4ms/step - loss: 4.1141e-11 - mse: 4.1141e-11\n",
            "Epoch 295/300\n",
            "2/2 [==============================] - 0s 3ms/step - loss: 4.0631e-11 - mse: 4.0631e-11\n",
            "Epoch 296/300\n",
            "2/2 [==============================] - 0s 3ms/step - loss: 3.7500e-11 - mse: 3.7500e-11\n",
            "Epoch 297/300\n",
            "2/2 [==============================] - 0s 4ms/step - loss: 3.8559e-11 - mse: 3.8559e-11\n",
            "Epoch 298/300\n",
            "2/2 [==============================] - 0s 4ms/step - loss: 3.9034e-11 - mse: 3.9034e-11\n",
            "Epoch 299/300\n",
            "2/2 [==============================] - 0s 7ms/step - loss: 3.9310e-11 - mse: 3.9310e-11\n",
            "Epoch 300/300\n",
            "2/2 [==============================] - 0s 4ms/step - loss: 4.2505e-11 - mse: 4.2505e-11\n"
          ],
          "name": "stdout"
        },
        {
          "output_type": "execute_result",
          "data": {
            "text/plain": [
              "<tensorflow.python.keras.callbacks.History at 0x7f3c50b01e90>"
            ]
          },
          "metadata": {
            "tags": []
          },
          "execution_count": 67
        }
      ]
    },
    {
      "cell_type": "code",
      "metadata": {
        "colab": {
          "base_uri": "https://localhost:8080/",
          "height": 503
        },
        "id": "tC7UpFXkcrDX",
        "outputId": "24990351-0016-42eb-c733-aa78bba2cfc0"
      },
      "source": [
        "#now plot the model\n",
        "y_pred_2=model_2.predict(X_test)\n",
        "plot_prediction(prediction=y_pred_2)\n",
        "model_2.predict([300.])\n"
      ],
      "execution_count": null,
      "outputs": [
        {
          "output_type": "stream",
          "text": [
            "WARNING:tensorflow:8 out of the last 8 calls to <function Model.make_predict_function.<locals>.predict_function at 0x7f3c509fb320> triggered tf.function retracing. Tracing is expensive and the excessive number of tracings could be due to (1) creating @tf.function repeatedly in a loop, (2) passing tensors with different shapes, (3) passing Python objects instead of tensors. For (1), please define your @tf.function outside of the loop. For (2), @tf.function has experimental_relax_shapes=True option that relaxes argument shapes that can avoid unnecessary retracing. For (3), please refer to https://www.tensorflow.org/guide/function#controlling_retracing and https://www.tensorflow.org/api_docs/python/tf/function for  more details.\n",
            "WARNING:tensorflow:9 out of the last 9 calls to <function Model.make_predict_function.<locals>.predict_function at 0x7f3c509fb320> triggered tf.function retracing. Tracing is expensive and the excessive number of tracings could be due to (1) creating @tf.function repeatedly in a loop, (2) passing tensors with different shapes, (3) passing Python objects instead of tensors. For (1), please define your @tf.function outside of the loop. For (2), @tf.function has experimental_relax_shapes=True option that relaxes argument shapes that can avoid unnecessary retracing. For (3), please refer to https://www.tensorflow.org/guide/function#controlling_retracing and https://www.tensorflow.org/api_docs/python/tf/function for  more details.\n"
          ],
          "name": "stdout"
        },
        {
          "output_type": "execute_result",
          "data": {
            "text/plain": [
              "array([[309.99994]], dtype=float32)"
            ]
          },
          "metadata": {
            "tags": []
          },
          "execution_count": 68
        },
        {
          "output_type": "display_data",
          "data": {
            "image/png": "[encoded data removed]",
            "text/plain": [
              "<Figure size 720x504 with 1 Axes>"
            ]
          },
          "metadata": {
            "tags": [],
            "needs_background": "light"
          }
        }
      ]
    },
    {
      "cell_type": "code",
      "metadata": {
        "colab": {
          "base_uri": "https://localhost:8080/"
        },
        "id": "7LyrZYG8d1rU",
        "outputId": "f47cede0-7cfd-4e28-935e-5ff26b87feb8"
      },
      "source": [
        "mae_2=mae(y_test,y_pred_2)\n",
        "mse_2=mse(y_test,y_pred_2)\n",
        "mae_2,mse_2"
      ],
      "execution_count": null,
      "outputs": [
        {
          "output_type": "execute_result",
          "data": {
            "text/plain": [
              "(<tf.Tensor: shape=(), dtype=float32, numpy=22.782436>,\n",
              " <tf.Tensor: shape=(), dtype=float32, numpy=522.58435>)"
            ]
          },
          "metadata": {
            "tags": []
          },
          "execution_count": 69
        }
      ]
    },
    {
      "cell_type": "code",
      "metadata": {
        "id": "6BBc36J8eTTB",
        "colab": {
          "base_uri": "https://localhost:8080/",
          "height": 112
        },
        "outputId": "79ba24d4-bc27-411a-d350-234e12dc1371"
      },
      "source": [
        "#comparing results of experminent using Panda\n",
        "\n",
        "import pandas as pd\n",
        "\n",
        "model_result=[[\"model\",mae_1.numpy(),mse_1.numpy()],\n",
        "              [\"model_2\",mae_2.numpy(),mse_2.numpy()]]\n",
        "\n",
        "all_reuslts=pd.DataFrame(model_result, columns=[\"model\",\"mae\",\"mse\"])\n",
        "all_reuslts"
      ],
      "execution_count": null,
      "outputs": [
        {
          "output_type": "execute_result",
          "data": {
            "text/html": [
              "<div>\n",
              "<style scoped>\n",
              "    .dataframe tbody tr th:only-of-type {\n",
              "        vertical-align: middle;\n",
              "    }\n",
              "\n",
              "    .dataframe tbody tr th {\n",
              "        vertical-align: top;\n",
              "    }\n",
              "\n",
              "    .dataframe thead th {\n",
              "        text-align: right;\n",
              "    }\n",
              "</style>\n",
              "<table border=\"1\" class=\"dataframe\">\n",
              "  <thead>\n",
              "    <tr style=\"text-align: right;\">\n",
              "      <th></th>\n",
              "      <th>model</th>\n",
              "      <th>mae</th>\n",
              "      <th>mse</th>\n",
              "    </tr>\n",
              "  </thead>\n",
              "  <tbody>\n",
              "    <tr>\n",
              "      <th>0</th>\n",
              "      <td>model</td>\n",
              "      <td>22.782436</td>\n",
              "      <td>522.584351</td>\n",
              "    </tr>\n",
              "    <tr>\n",
              "      <th>1</th>\n",
              "      <td>model_2</td>\n",
              "      <td>22.782436</td>\n",
              "      <td>522.584351</td>\n",
              "    </tr>\n",
              "  </tbody>\n",
              "</table>\n",
              "</div>"
            ],
            "text/plain": [
              "     model        mae         mse\n",
              "0    model  22.782436  522.584351\n",
              "1  model_2  22.782436  522.584351"
            ]
          },
          "metadata": {
            "tags": []
          },
          "execution_count": 70
        }
      ]
    },
    {
      "cell_type": "code",
      "metadata": {
        "colab": {
          "base_uri": "https://localhost:8080/"
        },
        "id": "TowAg-262nlr",
        "outputId": "d7c227b3-88b5-460e-bd25-c8165db5d752"
      },
      "source": [
        "model_1.summary(),model_2.summary()"
      ],
      "execution_count": null,
      "outputs": [
        {
          "output_type": "stream",
          "text": [
            "Model: \"sequential_6\"\n",
            "_________________________________________________________________\n",
            "Layer (type)                 Output Shape              Param #   \n",
            "=================================================================\n",
            "dense_9 (Dense)              (None, 1)                 2         \n",
            "=================================================================\n",
            "Total params: 2\n",
            "Trainable params: 2\n",
            "Non-trainable params: 0\n",
            "_________________________________________________________________\n",
            "Model: \"sequential_7\"\n",
            "_________________________________________________________________\n",
            "Layer (type)                 Output Shape              Param #   \n",
            "=================================================================\n",
            "dense_10 (Dense)             (None, 10)                20        \n",
            "_________________________________________________________________\n",
            "dense_11 (Dense)             (None, 1)                 11        \n",
            "=================================================================\n",
            "Total params: 31\n",
            "Trainable params: 31\n",
            "Non-trainable params: 0\n",
            "_________________________________________________________________\n"
          ],
          "name": "stdout"
        },
        {
          "output_type": "execute_result",
          "data": {
            "text/plain": [
              "(None, None)"
            ]
          },
          "metadata": {
            "tags": []
          },
          "execution_count": 71
        }
      ]
    },
    {
      "cell_type": "markdown",
      "metadata": {
        "id": "cZngn7GJ3gId"
      },
      "source": [
        "#do your best to minimize the time between the experiment"
      ]
    },
    {
      "cell_type": "markdown",
      "metadata": {
        "id": "sTS8pg__3lrI"
      },
      "source": [
        "#tracking your experiment \n",
        "\n",
        "being able to track your experiment reudces time between experiment and deriving results\n",
        "\n",
        "#tensor board\n",
        "a component of tf library to help modeling experiments\n",
        "#weights and bias\n",
        "a tool for tracking all kinds of machine learning experiments (which plug starihgt into tensor board)"
      ]
    },
    {
      "cell_type": "markdown",
      "metadata": {
        "id": "liONSUem4KIP"
      },
      "source": [
        "# saving our model for application integration\n",
        "\n",
        "two main formats of storing model\n",
        "1. savemodel format\n",
        "2. hdf5 format"
      ]
    },
    {
      "cell_type": "code",
      "metadata": {
        "colab": {
          "base_uri": "https://localhost:8080/"
        },
        "id": "yMPaaUFn8sPz",
        "outputId": "68bd89a8-9986-4718-b33d-ffacb49c7aac"
      },
      "source": [
        "#save using savemodel format\n",
        "\n",
        "model_2.save(\"model_2_savemodel_format\")\n"
      ],
      "execution_count": null,
      "outputs": [
        {
          "output_type": "stream",
          "text": [
            "INFO:tensorflow:Assets written to: model_2_savemodel_format/assets\n"
          ],
          "name": "stdout"
        }
      ]
    },
    {
      "cell_type": "code",
      "metadata": {
        "id": "51wy-Zb084K2"
      },
      "source": [
        "#the saved_model.pb is a protobuff file \n",
        "#now hierarchal data format\n",
        "#hdf5 is for large data storage\n",
        "\n",
        "model_2.save(\"model_2_hdf5_format.h5\")"
      ],
      "execution_count": null,
      "outputs": []
    },
    {
      "cell_type": "code",
      "metadata": {
        "colab": {
          "base_uri": "https://localhost:8080/"
        },
        "id": "l8TZlYpD9qrz",
        "outputId": "4b3c5592-c6e8-4879-aa68-d1fbe1a5e6b4"
      },
      "source": [
        "#now loading the model back\n",
        "loaded_savedmodel_format=tf.keras.models.load_model(\"/content/model_2_savemodel_format\")\n",
        "loaded_savedmodel_format.summary()"
      ],
      "execution_count": null,
      "outputs": [
        {
          "output_type": "stream",
          "text": [
            "Model: \"sequential_7\"\n",
            "_________________________________________________________________\n",
            "Layer (type)                 Output Shape              Param #   \n",
            "=================================================================\n",
            "dense_10 (Dense)             (None, 10)                20        \n",
            "_________________________________________________________________\n",
            "dense_11 (Dense)             (None, 1)                 11        \n",
            "=================================================================\n",
            "Total params: 31\n",
            "Trainable params: 31\n",
            "Non-trainable params: 0\n",
            "_________________________________________________________________\n"
          ],
          "name": "stdout"
        }
      ]
    },
    {
      "cell_type": "code",
      "metadata": {
        "colab": {
          "base_uri": "https://localhost:8080/"
        },
        "id": "mZglTK2K-anf",
        "outputId": "48d9df5b-64c6-4ac2-ade8-3812199c7eb2"
      },
      "source": [
        "#you can remove the content/ and it'd still work\n",
        "#now to confirm if it is actually the same as model_2 \n",
        "#you compare using the same comparison of predicitons as well as mae\n",
        "\n",
        "#now hdf5 formal\n",
        "loaded_h5_fomat=tf.keras.models.load_model(\"/content/model_2_savemodel_format\")\n",
        "loaded_h5_fomat.summary()"
      ],
      "execution_count": null,
      "outputs": [
        {
          "output_type": "stream",
          "text": [
            "Model: \"sequential_7\"\n",
            "_________________________________________________________________\n",
            "Layer (type)                 Output Shape              Param #   \n",
            "=================================================================\n",
            "dense_10 (Dense)             (None, 10)                20        \n",
            "_________________________________________________________________\n",
            "dense_11 (Dense)             (None, 1)                 11        \n",
            "=================================================================\n",
            "Total params: 31\n",
            "Trainable params: 31\n",
            "Non-trainable params: 0\n",
            "_________________________________________________________________\n"
          ],
          "name": "stdout"
        }
      ]
    },
    {
      "cell_type": "code",
      "metadata": {
        "colab": {
          "base_uri": "https://localhost:8080/"
        },
        "id": "4Lapi2zP_ZD1",
        "outputId": "79bd00a2-1d9e-4902-ae88-e089ef8f30f4"
      },
      "source": [
        "model_2_newpred=model_2.predict(X_test)\n",
        "loaded_h5_fomat_pred=loaded_h5_fomat.predict(X_test)\n",
        "model_2_newpred==loaded_h5_fomat_pred\n",
        " "
      ],
      "execution_count": null,
      "outputs": [
        {
          "output_type": "stream",
          "text": [
            "WARNING:tensorflow:10 out of the last 11 calls to <function Model.make_predict_function.<locals>.predict_function at 0x7f3c5061b4d0> triggered tf.function retracing. Tracing is expensive and the excessive number of tracings could be due to (1) creating @tf.function repeatedly in a loop, (2) passing tensors with different shapes, (3) passing Python objects instead of tensors. For (1), please define your @tf.function outside of the loop. For (2), @tf.function has experimental_relax_shapes=True option that relaxes argument shapes that can avoid unnecessary retracing. For (3), please refer to https://www.tensorflow.org/guide/function#controlling_retracing and https://www.tensorflow.org/api_docs/python/tf/function for  more details.\n"
          ],
          "name": "stdout"
        },
        {
          "output_type": "execute_result",
          "data": {
            "text/plain": [
              "array([[ True],\n",
              "       [ True],\n",
              "       [ True],\n",
              "       [ True],\n",
              "       [ True],\n",
              "       [ True],\n",
              "       [ True],\n",
              "       [ True],\n",
              "       [ True],\n",
              "       [ True]])"
            ]
          },
          "metadata": {
            "tags": []
          },
          "execution_count": 76
        }
      ]
    },
    {
      "cell_type": "code",
      "metadata": {
        "id": "ySOzl7ba_6x4"
      },
      "source": [
        "#to download  the file you can just go to files menu and down files form there\n",
        "#or use code \n",
        "#save it to google drive by connecting google drive and copying it there"
      ],
      "execution_count": null,
      "outputs": []
    },
    {
      "cell_type": "code",
      "metadata": {
        "colab": {
          "base_uri": "https://localhost:8080/",
          "height": 17
        },
        "id": "YtwUnq-29of7",
        "outputId": "b907f0ec-e7fd-46be-c44d-82764f0b0a1f"
      },
      "source": [
        "#code to download files from colab\n",
        "from google.colab import files\n",
        "files.download(\"/content/model_2_hdf5_format.h5\") #path here "
      ],
      "execution_count": null,
      "outputs": [
        {
          "output_type": "display_data",
          "data": {
            "application/javascript": [
              "\n",
              "    async function download(id, filename, size) {\n",
              "      if (!google.colab.kernel.accessAllowed) {\n",
              "        return;\n",
              "      }\n",
              "      const div = document.createElement('div');\n",
              "      const label = document.createElement('label');\n",
              "      label.textContent = `Downloading \"${filename}\": `;\n",
              "      div.appendChild(label);\n",
              "      const progress = document.createElement('progress');\n",
              "      progress.max = size;\n",
              "      div.appendChild(progress);\n",
              "      document.body.appendChild(div);\n",
              "\n",
              "      const buffers = [];\n",
              "      let downloaded = 0;\n",
              "\n",
              "      const channel = await google.colab.kernel.comms.open(id);\n",
              "      // Send a message to notify the kernel that we're ready.\n",
              "      channel.send({})\n",
              "\n",
              "      for await (const message of channel.messages) {\n",
              "        // Send a message to notify the kernel that we're ready.\n",
              "        channel.send({})\n",
              "        if (message.buffers) {\n",
              "          for (const buffer of message.buffers) {\n",
              "            buffers.push(buffer);\n",
              "            downloaded += buffer.byteLength;\n",
              "            progress.value = downloaded;\n",
              "          }\n",
              "        }\n",
              "      }\n",
              "      const blob = new Blob(buffers, {type: 'application/binary'});\n",
              "      const a = document.createElement('a');\n",
              "      a.href = window.URL.createObjectURL(blob);\n",
              "      a.download = filename;\n",
              "      div.appendChild(a);\n",
              "      a.click();\n",
              "      div.remove();\n",
              "    }\n",
              "  "
            ],
            "text/plain": [
              "<IPython.core.display.Javascript object>"
            ]
          },
          "metadata": {
            "tags": []
          }
        },
        {
          "output_type": "display_data",
          "data": {
            "application/javascript": [
              "download(\"download_4d84880f-ff95-4160-9858-29d3df8678e3\", \"model_2_hdf5_format.h5\", 25536)"
            ],
            "text/plain": [
              "<IPython.core.display.Javascript object>"
            ]
          },
          "metadata": {
            "tags": []
          }
        }
      ]
    },
    {
      "cell_type": "code",
      "metadata": {
        "id": "YqOm1a8u-DQK"
      },
      "source": [
        ""
      ],
      "execution_count": null,
      "outputs": []
    },
    {
      "cell_type": "code",
      "metadata": {
        "colab": {
          "base_uri": "https://localhost:8080/",
          "height": 613
        },
        "id": "K3H8TZxI-O6e",
        "outputId": "e4b755f2-ce44-4f51-9481-2adc1762577a"
      },
      "source": [
        "from google.colab import drive\n",
        "drive.mount('/content/drive')\n",
        "\n",
        "#to access cp \"path to file\" \"path to drive\"\n",
        "#to see ls \"path in drive\""
      ],
      "execution_count": null,
      "outputs": [
        {
          "output_type": "error",
          "ename": "KeyboardInterrupt",
          "evalue": "ignored",
          "traceback": [
            "\u001b[0;31m---------------------------------------------------------------------------\u001b[0m",
            "\u001b[0;31mKeyboardInterrupt\u001b[0m                         Traceback (most recent call last)",
            "\u001b[0;32m/usr/local/lib/python3.7/dist-packages/ipykernel/kernelbase.py\u001b[0m in \u001b[0;36m_input_request\u001b[0;34m(self, prompt, ident, parent, password)\u001b[0m\n\u001b[1;32m    728\u001b[0m             \u001b[0;32mtry\u001b[0m\u001b[0;34m:\u001b[0m\u001b[0;34m\u001b[0m\u001b[0;34m\u001b[0m\u001b[0m\n\u001b[0;32m--> 729\u001b[0;31m                 \u001b[0mident\u001b[0m\u001b[0;34m,\u001b[0m \u001b[0mreply\u001b[0m \u001b[0;34m=\u001b[0m \u001b[0mself\u001b[0m\u001b[0;34m.\u001b[0m\u001b[0msession\u001b[0m\u001b[0;34m.\u001b[0m\u001b[0mrecv\u001b[0m\u001b[0;34m(\u001b[0m\u001b[0mself\u001b[0m\u001b[0;34m.\u001b[0m\u001b[0mstdin_socket\u001b[0m\u001b[0;34m,\u001b[0m \u001b[0;36m0\u001b[0m\u001b[0;34m)\u001b[0m\u001b[0;34m\u001b[0m\u001b[0;34m\u001b[0m\u001b[0m\n\u001b[0m\u001b[1;32m    730\u001b[0m             \u001b[0;32mexcept\u001b[0m \u001b[0mException\u001b[0m\u001b[0;34m:\u001b[0m\u001b[0;34m\u001b[0m\u001b[0;34m\u001b[0m\u001b[0m\n",
            "\u001b[0;32m/usr/local/lib/python3.7/dist-packages/jupyter_client/session.py\u001b[0m in \u001b[0;36mrecv\u001b[0;34m(self, socket, mode, content, copy)\u001b[0m\n\u001b[1;32m    802\u001b[0m         \u001b[0;32mtry\u001b[0m\u001b[0;34m:\u001b[0m\u001b[0;34m\u001b[0m\u001b[0;34m\u001b[0m\u001b[0m\n\u001b[0;32m--> 803\u001b[0;31m             \u001b[0mmsg_list\u001b[0m \u001b[0;34m=\u001b[0m \u001b[0msocket\u001b[0m\u001b[0;34m.\u001b[0m\u001b[0mrecv_multipart\u001b[0m\u001b[0;34m(\u001b[0m\u001b[0mmode\u001b[0m\u001b[0;34m,\u001b[0m \u001b[0mcopy\u001b[0m\u001b[0;34m=\u001b[0m\u001b[0mcopy\u001b[0m\u001b[0;34m)\u001b[0m\u001b[0;34m\u001b[0m\u001b[0;34m\u001b[0m\u001b[0m\n\u001b[0m\u001b[1;32m    804\u001b[0m         \u001b[0;32mexcept\u001b[0m \u001b[0mzmq\u001b[0m\u001b[0;34m.\u001b[0m\u001b[0mZMQError\u001b[0m \u001b[0;32mas\u001b[0m \u001b[0me\u001b[0m\u001b[0;34m:\u001b[0m\u001b[0;34m\u001b[0m\u001b[0;34m\u001b[0m\u001b[0m\n",
            "\u001b[0;32m/usr/local/lib/python3.7/dist-packages/zmq/sugar/socket.py\u001b[0m in \u001b[0;36mrecv_multipart\u001b[0;34m(self, flags, copy, track)\u001b[0m\n\u001b[1;32m    582\u001b[0m         \"\"\"\n\u001b[0;32m--> 583\u001b[0;31m         \u001b[0mparts\u001b[0m \u001b[0;34m=\u001b[0m \u001b[0;34m[\u001b[0m\u001b[0mself\u001b[0m\u001b[0;34m.\u001b[0m\u001b[0mrecv\u001b[0m\u001b[0;34m(\u001b[0m\u001b[0mflags\u001b[0m\u001b[0;34m,\u001b[0m \u001b[0mcopy\u001b[0m\u001b[0;34m=\u001b[0m\u001b[0mcopy\u001b[0m\u001b[0;34m,\u001b[0m \u001b[0mtrack\u001b[0m\u001b[0;34m=\u001b[0m\u001b[0mtrack\u001b[0m\u001b[0;34m)\u001b[0m\u001b[0;34m]\u001b[0m\u001b[0;34m\u001b[0m\u001b[0;34m\u001b[0m\u001b[0m\n\u001b[0m\u001b[1;32m    584\u001b[0m         \u001b[0;31m# have first part already, only loop while more to receive\u001b[0m\u001b[0;34m\u001b[0m\u001b[0;34m\u001b[0m\u001b[0;34m\u001b[0m\u001b[0m\n",
            "\u001b[0;32mzmq/backend/cython/socket.pyx\u001b[0m in \u001b[0;36mzmq.backend.cython.socket.Socket.recv\u001b[0;34m()\u001b[0m\n",
            "\u001b[0;32mzmq/backend/cython/socket.pyx\u001b[0m in \u001b[0;36mzmq.backend.cython.socket.Socket.recv\u001b[0;34m()\u001b[0m\n",
            "\u001b[0;32mzmq/backend/cython/socket.pyx\u001b[0m in \u001b[0;36mzmq.backend.cython.socket._recv_copy\u001b[0;34m()\u001b[0m\n",
            "\u001b[0;32m/usr/local/lib/python3.7/dist-packages/zmq/backend/cython/checkrc.pxd\u001b[0m in \u001b[0;36mzmq.backend.cython.checkrc._check_rc\u001b[0;34m()\u001b[0m\n",
            "\u001b[0;31mKeyboardInterrupt\u001b[0m: ",
            "\nDuring handling of the above exception, another exception occurred:\n",
            "\u001b[0;31mKeyboardInterrupt\u001b[0m                         Traceback (most recent call last)",
            "\u001b[0;32m<ipython-input-79-d5df0069828e>\u001b[0m in \u001b[0;36m<module>\u001b[0;34m()\u001b[0m\n\u001b[1;32m      1\u001b[0m \u001b[0;32mfrom\u001b[0m \u001b[0mgoogle\u001b[0m\u001b[0;34m.\u001b[0m\u001b[0mcolab\u001b[0m \u001b[0;32mimport\u001b[0m \u001b[0mdrive\u001b[0m\u001b[0;34m\u001b[0m\u001b[0;34m\u001b[0m\u001b[0m\n\u001b[0;32m----> 2\u001b[0;31m \u001b[0mdrive\u001b[0m\u001b[0;34m.\u001b[0m\u001b[0mmount\u001b[0m\u001b[0;34m(\u001b[0m\u001b[0;34m'/content/drive'\u001b[0m\u001b[0;34m)\u001b[0m\u001b[0;34m\u001b[0m\u001b[0;34m\u001b[0m\u001b[0m\n\u001b[0m",
            "\u001b[0;32m/usr/local/lib/python3.7/dist-packages/google/colab/drive.py\u001b[0m in \u001b[0;36mmount\u001b[0;34m(mountpoint, force_remount, timeout_ms, use_metadata_server)\u001b[0m\n\u001b[1;32m    258\u001b[0m       \u001b[0;32mwith\u001b[0m \u001b[0m_output\u001b[0m\u001b[0;34m.\u001b[0m\u001b[0muse_tags\u001b[0m\u001b[0;34m(\u001b[0m\u001b[0;34m'dfs-auth-dance'\u001b[0m\u001b[0;34m)\u001b[0m\u001b[0;34m:\u001b[0m\u001b[0;34m\u001b[0m\u001b[0;34m\u001b[0m\u001b[0m\n\u001b[1;32m    259\u001b[0m         \u001b[0;32mwith\u001b[0m \u001b[0mopen\u001b[0m\u001b[0;34m(\u001b[0m\u001b[0mfifo\u001b[0m\u001b[0;34m,\u001b[0m \u001b[0;34m'w'\u001b[0m\u001b[0;34m)\u001b[0m \u001b[0;32mas\u001b[0m \u001b[0mfifo_file\u001b[0m\u001b[0;34m:\u001b[0m\u001b[0;34m\u001b[0m\u001b[0;34m\u001b[0m\u001b[0m\n\u001b[0;32m--> 260\u001b[0;31m           \u001b[0mfifo_file\u001b[0m\u001b[0;34m.\u001b[0m\u001b[0mwrite\u001b[0m\u001b[0;34m(\u001b[0m\u001b[0mget_code\u001b[0m\u001b[0;34m(\u001b[0m\u001b[0mauth_prompt\u001b[0m\u001b[0;34m)\u001b[0m \u001b[0;34m+\u001b[0m \u001b[0;34m'\\n'\u001b[0m\u001b[0;34m)\u001b[0m\u001b[0;34m\u001b[0m\u001b[0;34m\u001b[0m\u001b[0m\n\u001b[0m\u001b[1;32m    261\u001b[0m       \u001b[0mwrote_to_fifo\u001b[0m \u001b[0;34m=\u001b[0m \u001b[0;32mTrue\u001b[0m\u001b[0;34m\u001b[0m\u001b[0;34m\u001b[0m\u001b[0m\n\u001b[1;32m    262\u001b[0m     \u001b[0;32melif\u001b[0m \u001b[0mcase\u001b[0m \u001b[0;34m==\u001b[0m \u001b[0;36m5\u001b[0m\u001b[0;34m:\u001b[0m\u001b[0;34m\u001b[0m\u001b[0;34m\u001b[0m\u001b[0m\n",
            "\u001b[0;32m/usr/local/lib/python3.7/dist-packages/ipykernel/kernelbase.py\u001b[0m in \u001b[0;36mraw_input\u001b[0;34m(self, prompt)\u001b[0m\n\u001b[1;32m    702\u001b[0m             \u001b[0mself\u001b[0m\u001b[0;34m.\u001b[0m\u001b[0m_parent_ident\u001b[0m\u001b[0;34m,\u001b[0m\u001b[0;34m\u001b[0m\u001b[0;34m\u001b[0m\u001b[0m\n\u001b[1;32m    703\u001b[0m             \u001b[0mself\u001b[0m\u001b[0;34m.\u001b[0m\u001b[0m_parent_header\u001b[0m\u001b[0;34m,\u001b[0m\u001b[0;34m\u001b[0m\u001b[0;34m\u001b[0m\u001b[0m\n\u001b[0;32m--> 704\u001b[0;31m             \u001b[0mpassword\u001b[0m\u001b[0;34m=\u001b[0m\u001b[0;32mFalse\u001b[0m\u001b[0;34m,\u001b[0m\u001b[0;34m\u001b[0m\u001b[0;34m\u001b[0m\u001b[0m\n\u001b[0m\u001b[1;32m    705\u001b[0m         )\n\u001b[1;32m    706\u001b[0m \u001b[0;34m\u001b[0m\u001b[0m\n",
            "\u001b[0;32m/usr/local/lib/python3.7/dist-packages/ipykernel/kernelbase.py\u001b[0m in \u001b[0;36m_input_request\u001b[0;34m(self, prompt, ident, parent, password)\u001b[0m\n\u001b[1;32m    732\u001b[0m             \u001b[0;32mexcept\u001b[0m \u001b[0mKeyboardInterrupt\u001b[0m\u001b[0;34m:\u001b[0m\u001b[0;34m\u001b[0m\u001b[0;34m\u001b[0m\u001b[0m\n\u001b[1;32m    733\u001b[0m                 \u001b[0;31m# re-raise KeyboardInterrupt, to truncate traceback\u001b[0m\u001b[0;34m\u001b[0m\u001b[0;34m\u001b[0m\u001b[0;34m\u001b[0m\u001b[0m\n\u001b[0;32m--> 734\u001b[0;31m                 \u001b[0;32mraise\u001b[0m \u001b[0mKeyboardInterrupt\u001b[0m\u001b[0;34m\u001b[0m\u001b[0;34m\u001b[0m\u001b[0m\n\u001b[0m\u001b[1;32m    735\u001b[0m             \u001b[0;32melse\u001b[0m\u001b[0;34m:\u001b[0m\u001b[0;34m\u001b[0m\u001b[0;34m\u001b[0m\u001b[0m\n\u001b[1;32m    736\u001b[0m                 \u001b[0;32mbreak\u001b[0m\u001b[0;34m\u001b[0m\u001b[0;34m\u001b[0m\u001b[0m\n",
            "\u001b[0;31mKeyboardInterrupt\u001b[0m: "
          ]
        }
      ]
    },
    {
      "cell_type": "code",
      "metadata": {
        "id": "qZnWWbP--z6T"
      },
      "source": [
        ""
      ],
      "execution_count": null,
      "outputs": []
    },
    {
      "cell_type": "markdown",
      "metadata": {
        "id": "h3zxVSrU-sxI"
      },
      "source": [
        "#Larger Example\n",
        "\n"
      ]
    },
    {
      "cell_type": "code",
      "metadata": {
        "colab": {
          "base_uri": "https://localhost:8080/"
        },
        "id": "V8ArRTxf_AlH",
        "outputId": "3414824f-188d-4a46-d025-618fc1de5bec"
      },
      "source": [
        "X_train, y_train"
      ],
      "execution_count": null,
      "outputs": [
        {
          "output_type": "execute_result",
          "data": {
            "text/plain": [
              "(<tf.Tensor: shape=(40,), dtype=int32, numpy=\n",
              " array([-100,  -96,  -92,  -88,  -84,  -80,  -76,  -72,  -68,  -64,  -60,\n",
              "         -56,  -52,  -48,  -44,  -40,  -36,  -32,  -28,  -24,  -20,  -16,\n",
              "         -12,   -8,   -4,    0,    4,    8,   12,   16,   20,   24,   28,\n",
              "          32,   36,   40,   44,   48,   52,   56], dtype=int32)>,\n",
              " <tf.Tensor: shape=(40,), dtype=int32, numpy=\n",
              " array([-90, -86, -82, -78, -74, -70, -66, -62, -58, -54, -50, -46, -42,\n",
              "        -38, -34, -30, -26, -22, -18, -14, -10,  -6,  -2,   2,   6,  10,\n",
              "         14,  18,  22,  26,  30,  34,  38,  42,  46,  50,  54,  58,  62,\n",
              "         66], dtype=int32)>)"
            ]
          },
          "metadata": {
            "tags": []
          },
          "execution_count": 80
        }
      ]
    },
    {
      "cell_type": "code",
      "metadata": {
        "id": "SuMxmfZb_Dp5"
      },
      "source": [
        "#import req libraries\n",
        "import tensorflow as tf\n",
        "import pandas as pd\n",
        "import matplotlib.pyplot as plt\n",
        "\n"
      ],
      "execution_count": null,
      "outputs": []
    },
    {
      "cell_type": "code",
      "metadata": {
        "colab": {
          "base_uri": "https://localhost:8080/",
          "height": 424
        },
        "id": "jCcOAC2FDxgU",
        "outputId": "32da5988-73ff-4f92-820c-9c1bd7876f4c"
      },
      "source": [
        "#read the insurance dataset\n",
        "insaurance=pd.read_csv(\"https://raw.githubusercontent.com/stedy/Machine-Learning-with-R-datasets/master/insurance.csv\")\n",
        "insaurance"
      ],
      "execution_count": null,
      "outputs": [
        {
          "output_type": "execute_result",
          "data": {
            "text/html": [
              "<div>\n",
              "<style scoped>\n",
              "    .dataframe tbody tr th:only-of-type {\n",
              "        vertical-align: middle;\n",
              "    }\n",
              "\n",
              "    .dataframe tbody tr th {\n",
              "        vertical-align: top;\n",
              "    }\n",
              "\n",
              "    .dataframe thead th {\n",
              "        text-align: right;\n",
              "    }\n",
              "</style>\n",
              "<table border=\"1\" class=\"dataframe\">\n",
              "  <thead>\n",
              "    <tr style=\"text-align: right;\">\n",
              "      <th></th>\n",
              "      <th>age</th>\n",
              "      <th>sex</th>\n",
              "      <th>bmi</th>\n",
              "      <th>children</th>\n",
              "      <th>smoker</th>\n",
              "      <th>region</th>\n",
              "      <th>charges</th>\n",
              "    </tr>\n",
              "  </thead>\n",
              "  <tbody>\n",
              "    <tr>\n",
              "      <th>0</th>\n",
              "      <td>19</td>\n",
              "      <td>female</td>\n",
              "      <td>27.900</td>\n",
              "      <td>0</td>\n",
              "      <td>yes</td>\n",
              "      <td>southwest</td>\n",
              "      <td>16884.92400</td>\n",
              "    </tr>\n",
              "    <tr>\n",
              "      <th>1</th>\n",
              "      <td>18</td>\n",
              "      <td>male</td>\n",
              "      <td>33.770</td>\n",
              "      <td>1</td>\n",
              "      <td>no</td>\n",
              "      <td>southeast</td>\n",
              "      <td>1725.55230</td>\n",
              "    </tr>\n",
              "    <tr>\n",
              "      <th>2</th>\n",
              "      <td>28</td>\n",
              "      <td>male</td>\n",
              "      <td>33.000</td>\n",
              "      <td>3</td>\n",
              "      <td>no</td>\n",
              "      <td>southeast</td>\n",
              "      <td>4449.46200</td>\n",
              "    </tr>\n",
              "    <tr>\n",
              "      <th>3</th>\n",
              "      <td>33</td>\n",
              "      <td>male</td>\n",
              "      <td>22.705</td>\n",
              "      <td>0</td>\n",
              "      <td>no</td>\n",
              "      <td>northwest</td>\n",
              "      <td>21984.47061</td>\n",
              "    </tr>\n",
              "    <tr>\n",
              "      <th>4</th>\n",
              "      <td>32</td>\n",
              "      <td>male</td>\n",
              "      <td>28.880</td>\n",
              "      <td>0</td>\n",
              "      <td>no</td>\n",
              "      <td>northwest</td>\n",
              "      <td>3866.85520</td>\n",
              "    </tr>\n",
              "    <tr>\n",
              "      <th>...</th>\n",
              "      <td>...</td>\n",
              "      <td>...</td>\n",
              "      <td>...</td>\n",
              "      <td>...</td>\n",
              "      <td>...</td>\n",
              "      <td>...</td>\n",
              "      <td>...</td>\n",
              "    </tr>\n",
              "    <tr>\n",
              "      <th>1333</th>\n",
              "      <td>50</td>\n",
              "      <td>male</td>\n",
              "      <td>30.970</td>\n",
              "      <td>3</td>\n",
              "      <td>no</td>\n",
              "      <td>northwest</td>\n",
              "      <td>10600.54830</td>\n",
              "    </tr>\n",
              "    <tr>\n",
              "      <th>1334</th>\n",
              "      <td>18</td>\n",
              "      <td>female</td>\n",
              "      <td>31.920</td>\n",
              "      <td>0</td>\n",
              "      <td>no</td>\n",
              "      <td>northeast</td>\n",
              "      <td>2205.98080</td>\n",
              "    </tr>\n",
              "    <tr>\n",
              "      <th>1335</th>\n",
              "      <td>18</td>\n",
              "      <td>female</td>\n",
              "      <td>36.850</td>\n",
              "      <td>0</td>\n",
              "      <td>no</td>\n",
              "      <td>southeast</td>\n",
              "      <td>1629.83350</td>\n",
              "    </tr>\n",
              "    <tr>\n",
              "      <th>1336</th>\n",
              "      <td>21</td>\n",
              "      <td>female</td>\n",
              "      <td>25.800</td>\n",
              "      <td>0</td>\n",
              "      <td>no</td>\n",
              "      <td>southwest</td>\n",
              "      <td>2007.94500</td>\n",
              "    </tr>\n",
              "    <tr>\n",
              "      <th>1337</th>\n",
              "      <td>61</td>\n",
              "      <td>female</td>\n",
              "      <td>29.070</td>\n",
              "      <td>0</td>\n",
              "      <td>yes</td>\n",
              "      <td>northwest</td>\n",
              "      <td>29141.36030</td>\n",
              "    </tr>\n",
              "  </tbody>\n",
              "</table>\n",
              "<p>1338 rows × 7 columns</p>\n",
              "</div>"
            ],
            "text/plain": [
              "      age     sex     bmi  children smoker     region      charges\n",
              "0      19  female  27.900         0    yes  southwest  16884.92400\n",
              "1      18    male  33.770         1     no  southeast   1725.55230\n",
              "2      28    male  33.000         3     no  southeast   4449.46200\n",
              "3      33    male  22.705         0     no  northwest  21984.47061\n",
              "4      32    male  28.880         0     no  northwest   3866.85520\n",
              "...   ...     ...     ...       ...    ...        ...          ...\n",
              "1333   50    male  30.970         3     no  northwest  10600.54830\n",
              "1334   18  female  31.920         0     no  northeast   2205.98080\n",
              "1335   18  female  36.850         0     no  southeast   1629.83350\n",
              "1336   21  female  25.800         0     no  southwest   2007.94500\n",
              "1337   61  female  29.070         0    yes  northwest  29141.36030\n",
              "\n",
              "[1338 rows x 7 columns]"
            ]
          },
          "metadata": {
            "tags": []
          },
          "execution_count": 3
        }
      ]
    },
    {
      "cell_type": "code",
      "metadata": {
        "colab": {
          "base_uri": "https://localhost:8080/"
        },
        "id": "kd5EXj1-D7nr",
        "outputId": "c7696c92-1e51-4593-86ed-dec19fb883d2"
      },
      "source": [
        "insaurance[\"sex\"], insaurance[\"age\"]"
      ],
      "execution_count": null,
      "outputs": [
        {
          "output_type": "execute_result",
          "data": {
            "text/plain": [
              "(0       female\n",
              " 1         male\n",
              " 2         male\n",
              " 3         male\n",
              " 4         male\n",
              "          ...  \n",
              " 1333      male\n",
              " 1334    female\n",
              " 1335    female\n",
              " 1336    female\n",
              " 1337    female\n",
              " Name: sex, Length: 1338, dtype: object, 0       19\n",
              " 1       18\n",
              " 2       28\n",
              " 3       33\n",
              " 4       32\n",
              "         ..\n",
              " 1333    50\n",
              " 1334    18\n",
              " 1335    18\n",
              " 1336    21\n",
              " 1337    61\n",
              " Name: age, Length: 1338, dtype: int64)"
            ]
          },
          "metadata": {
            "tags": []
          },
          "execution_count": 4
        }
      ]
    },
    {
      "cell_type": "markdown",
      "metadata": {
        "id": "sb-snRHEEbio"
      },
      "source": [
        "#we need to convert the nonumerical values into numcerical"
      ]
    },
    {
      "cell_type": "code",
      "metadata": {
        "colab": {
          "base_uri": "https://localhost:8080/",
          "height": 444
        },
        "id": "9KHtCti5EwQb",
        "outputId": "052931af-00a2-407d-ba9d-6fe3332c03f7"
      },
      "source": [
        "#we use one hot encoding for our catergorical data\n",
        "#padas.get_dummies convert these data into categorical data\n",
        "\n",
        "insaurance_one_hot=pd.get_dummies(insaurance)\n",
        "insaurance_one_hot #top 5 rows tails for bottom 5 rows"
      ],
      "execution_count": null,
      "outputs": [
        {
          "output_type": "execute_result",
          "data": {
            "text/html": [
              "<div>\n",
              "<style scoped>\n",
              "    .dataframe tbody tr th:only-of-type {\n",
              "        vertical-align: middle;\n",
              "    }\n",
              "\n",
              "    .dataframe tbody tr th {\n",
              "        vertical-align: top;\n",
              "    }\n",
              "\n",
              "    .dataframe thead th {\n",
              "        text-align: right;\n",
              "    }\n",
              "</style>\n",
              "<table border=\"1\" class=\"dataframe\">\n",
              "  <thead>\n",
              "    <tr style=\"text-align: right;\">\n",
              "      <th></th>\n",
              "      <th>age</th>\n",
              "      <th>bmi</th>\n",
              "      <th>children</th>\n",
              "      <th>charges</th>\n",
              "      <th>sex_female</th>\n",
              "      <th>sex_male</th>\n",
              "      <th>smoker_no</th>\n",
              "      <th>smoker_yes</th>\n",
              "      <th>region_northeast</th>\n",
              "      <th>region_northwest</th>\n",
              "      <th>region_southeast</th>\n",
              "      <th>region_southwest</th>\n",
              "    </tr>\n",
              "  </thead>\n",
              "  <tbody>\n",
              "    <tr>\n",
              "      <th>0</th>\n",
              "      <td>19</td>\n",
              "      <td>27.900</td>\n",
              "      <td>0</td>\n",
              "      <td>16884.92400</td>\n",
              "      <td>1</td>\n",
              "      <td>0</td>\n",
              "      <td>0</td>\n",
              "      <td>1</td>\n",
              "      <td>0</td>\n",
              "      <td>0</td>\n",
              "      <td>0</td>\n",
              "      <td>1</td>\n",
              "    </tr>\n",
              "    <tr>\n",
              "      <th>1</th>\n",
              "      <td>18</td>\n",
              "      <td>33.770</td>\n",
              "      <td>1</td>\n",
              "      <td>1725.55230</td>\n",
              "      <td>0</td>\n",
              "      <td>1</td>\n",
              "      <td>1</td>\n",
              "      <td>0</td>\n",
              "      <td>0</td>\n",
              "      <td>0</td>\n",
              "      <td>1</td>\n",
              "      <td>0</td>\n",
              "    </tr>\n",
              "    <tr>\n",
              "      <th>2</th>\n",
              "      <td>28</td>\n",
              "      <td>33.000</td>\n",
              "      <td>3</td>\n",
              "      <td>4449.46200</td>\n",
              "      <td>0</td>\n",
              "      <td>1</td>\n",
              "      <td>1</td>\n",
              "      <td>0</td>\n",
              "      <td>0</td>\n",
              "      <td>0</td>\n",
              "      <td>1</td>\n",
              "      <td>0</td>\n",
              "    </tr>\n",
              "    <tr>\n",
              "      <th>3</th>\n",
              "      <td>33</td>\n",
              "      <td>22.705</td>\n",
              "      <td>0</td>\n",
              "      <td>21984.47061</td>\n",
              "      <td>0</td>\n",
              "      <td>1</td>\n",
              "      <td>1</td>\n",
              "      <td>0</td>\n",
              "      <td>0</td>\n",
              "      <td>1</td>\n",
              "      <td>0</td>\n",
              "      <td>0</td>\n",
              "    </tr>\n",
              "    <tr>\n",
              "      <th>4</th>\n",
              "      <td>32</td>\n",
              "      <td>28.880</td>\n",
              "      <td>0</td>\n",
              "      <td>3866.85520</td>\n",
              "      <td>0</td>\n",
              "      <td>1</td>\n",
              "      <td>1</td>\n",
              "      <td>0</td>\n",
              "      <td>0</td>\n",
              "      <td>1</td>\n",
              "      <td>0</td>\n",
              "      <td>0</td>\n",
              "    </tr>\n",
              "    <tr>\n",
              "      <th>...</th>\n",
              "      <td>...</td>\n",
              "      <td>...</td>\n",
              "      <td>...</td>\n",
              "      <td>...</td>\n",
              "      <td>...</td>\n",
              "      <td>...</td>\n",
              "      <td>...</td>\n",
              "      <td>...</td>\n",
              "      <td>...</td>\n",
              "      <td>...</td>\n",
              "      <td>...</td>\n",
              "      <td>...</td>\n",
              "    </tr>\n",
              "    <tr>\n",
              "      <th>1333</th>\n",
              "      <td>50</td>\n",
              "      <td>30.970</td>\n",
              "      <td>3</td>\n",
              "      <td>10600.54830</td>\n",
              "      <td>0</td>\n",
              "      <td>1</td>\n",
              "      <td>1</td>\n",
              "      <td>0</td>\n",
              "      <td>0</td>\n",
              "      <td>1</td>\n",
              "      <td>0</td>\n",
              "      <td>0</td>\n",
              "    </tr>\n",
              "    <tr>\n",
              "      <th>1334</th>\n",
              "      <td>18</td>\n",
              "      <td>31.920</td>\n",
              "      <td>0</td>\n",
              "      <td>2205.98080</td>\n",
              "      <td>1</td>\n",
              "      <td>0</td>\n",
              "      <td>1</td>\n",
              "      <td>0</td>\n",
              "      <td>1</td>\n",
              "      <td>0</td>\n",
              "      <td>0</td>\n",
              "      <td>0</td>\n",
              "    </tr>\n",
              "    <tr>\n",
              "      <th>1335</th>\n",
              "      <td>18</td>\n",
              "      <td>36.850</td>\n",
              "      <td>0</td>\n",
              "      <td>1629.83350</td>\n",
              "      <td>1</td>\n",
              "      <td>0</td>\n",
              "      <td>1</td>\n",
              "      <td>0</td>\n",
              "      <td>0</td>\n",
              "      <td>0</td>\n",
              "      <td>1</td>\n",
              "      <td>0</td>\n",
              "    </tr>\n",
              "    <tr>\n",
              "      <th>1336</th>\n",
              "      <td>21</td>\n",
              "      <td>25.800</td>\n",
              "      <td>0</td>\n",
              "      <td>2007.94500</td>\n",
              "      <td>1</td>\n",
              "      <td>0</td>\n",
              "      <td>1</td>\n",
              "      <td>0</td>\n",
              "      <td>0</td>\n",
              "      <td>0</td>\n",
              "      <td>0</td>\n",
              "      <td>1</td>\n",
              "    </tr>\n",
              "    <tr>\n",
              "      <th>1337</th>\n",
              "      <td>61</td>\n",
              "      <td>29.070</td>\n",
              "      <td>0</td>\n",
              "      <td>29141.36030</td>\n",
              "      <td>1</td>\n",
              "      <td>0</td>\n",
              "      <td>0</td>\n",
              "      <td>1</td>\n",
              "      <td>0</td>\n",
              "      <td>1</td>\n",
              "      <td>0</td>\n",
              "      <td>0</td>\n",
              "    </tr>\n",
              "  </tbody>\n",
              "</table>\n",
              "<p>1338 rows × 12 columns</p>\n",
              "</div>"
            ],
            "text/plain": [
              "      age     bmi  ...  region_southeast  region_southwest\n",
              "0      19  27.900  ...                 0                 1\n",
              "1      18  33.770  ...                 1                 0\n",
              "2      28  33.000  ...                 1                 0\n",
              "3      33  22.705  ...                 0                 0\n",
              "4      32  28.880  ...                 0                 0\n",
              "...   ...     ...  ...               ...               ...\n",
              "1333   50  30.970  ...                 0                 0\n",
              "1334   18  31.920  ...                 0                 0\n",
              "1335   18  36.850  ...                 1                 0\n",
              "1336   21  25.800  ...                 0                 1\n",
              "1337   61  29.070  ...                 0                 0\n",
              "\n",
              "[1338 rows x 12 columns]"
            ]
          },
          "metadata": {
            "tags": []
          },
          "execution_count": 5
        }
      ]
    },
    {
      "cell_type": "code",
      "metadata": {
        "colab": {
          "base_uri": "https://localhost:8080/"
        },
        "id": "a52ziPS1StEQ",
        "outputId": "836d26e3-6704-44fd-84fd-917a00291fcd"
      },
      "source": [
        "#this is the shortest way of doing it\n",
        "y=insaurance_one_hot[\"charges\"]\n",
        "X=insaurance_one_hot.drop(\"charges\",axis=1)\n",
        "X,y"
      ],
      "execution_count": null,
      "outputs": [
        {
          "output_type": "execute_result",
          "data": {
            "text/plain": [
              "(      age     bmi  ...  region_southeast  region_southwest\n",
              " 0      19  27.900  ...                 0                 1\n",
              " 1      18  33.770  ...                 1                 0\n",
              " 2      28  33.000  ...                 1                 0\n",
              " 3      33  22.705  ...                 0                 0\n",
              " 4      32  28.880  ...                 0                 0\n",
              " ...   ...     ...  ...               ...               ...\n",
              " 1333   50  30.970  ...                 0                 0\n",
              " 1334   18  31.920  ...                 0                 0\n",
              " 1335   18  36.850  ...                 1                 0\n",
              " 1336   21  25.800  ...                 0                 1\n",
              " 1337   61  29.070  ...                 0                 0\n",
              " \n",
              " [1338 rows x 11 columns], 0       16884.92400\n",
              " 1        1725.55230\n",
              " 2        4449.46200\n",
              " 3       21984.47061\n",
              " 4        3866.85520\n",
              "            ...     \n",
              " 1333    10600.54830\n",
              " 1334     2205.98080\n",
              " 1335     1629.83350\n",
              " 1336     2007.94500\n",
              " 1337    29141.36030\n",
              " Name: charges, Length: 1338, dtype: float64)"
            ]
          },
          "metadata": {
            "tags": []
          },
          "execution_count": 6
        }
      ]
    },
    {
      "cell_type": "markdown",
      "metadata": {
        "id": "mv_R1W-6Fpqr"
      },
      "source": [
        "\n",
        "#how i did it\n",
        "```\n",
        "y=insaurance_one_hot[\"charges\"]\n",
        "y\n",
        "y_train=y[:1138]\n",
        "y_test=y[1137:]\n",
        "y_train,y_test\n",
        "```"
      ]
    },
    {
      "cell_type": "markdown",
      "metadata": {
        "id": "a5UbzTp3GXHM"
      },
      "source": [
        "#for features\n",
        "\n",
        "\n",
        "```\n",
        "X=insaurance_one_hot[:]\n",
        "del X [\"charges\"] #its a dictionary type of thing basically\n",
        "\n",
        "X_train=X[:1138]\n",
        "X_test=X[1138:]\n",
        "X_train,X_test\n",
        "```\n",
        "\n"
      ]
    },
    {
      "cell_type": "markdown",
      "metadata": {
        "id": "7_FmRL8GRIm1"
      },
      "source": [
        "#you could also do \n",
        "```\n",
        "X=insaurance_one_hot.drop(\"charges\",axis=1)\n",
        "```\n",
        "#also know that sometimes you have  to change the data format into something that can be understood by our neural network\n",
        "\n",
        "#another important way of creating test set is using sk learn\n"
      ]
    },
    {
      "cell_type": "code",
      "metadata": {
        "colab": {
          "base_uri": "https://localhost:8080/"
        },
        "id": "GLOGpmeQRnf5",
        "outputId": "b694c4fd-d10a-4788-b85e-371335791e11"
      },
      "source": [
        "from sklearn.model_selection import train_test_split\n",
        "X_train,X_test,y_train,y_test=train_test_split(X,y, test_size=0.2, random_state=42)\n",
        "len(X), len(X_train),len(X_test)"
      ],
      "execution_count": null,
      "outputs": [
        {
          "output_type": "execute_result",
          "data": {
            "text/plain": [
              "(1338, 1070, 268)"
            ]
          },
          "metadata": {
            "tags": []
          },
          "execution_count": 7
        }
      ]
    },
    {
      "cell_type": "code",
      "metadata": {
        "colab": {
          "base_uri": "https://localhost:8080/"
        },
        "id": "BUStaef6GzR0",
        "outputId": "f4cf34bc-7e01-4ff9-ce50-0675014c9075"
      },
      "source": [
        "#set seed\n",
        "tf.random.set_seed(42)\n",
        "#build the model\n",
        "insaurance_model=tf.keras.Sequential([\n",
        "                                      tf.keras.layers.Dense(10),\n",
        "                                      tf.keras.layers.Dense(1)\n",
        "])\n",
        "#compile the model \n",
        "insaurance_model.compile(loss=[\"mae\"],\n",
        "                          optimizer=tf.keras.optimizers.SGD(),\n",
        "                          metrics=[\"mae\"])\n",
        "#fit the model\n",
        "insaurance_model.fit(X_train,y_train, epochs=100)"
      ],
      "execution_count": null,
      "outputs": [
        {
          "output_type": "stream",
          "text": [
            "Epoch 1/100\n",
            "34/34 [==============================] - 1s 1ms/step - loss: 10200.7270 - mae: 10200.7270\n",
            "Epoch 2/100\n",
            "34/34 [==============================] - 0s 1ms/step - loss: 7718.1919 - mae: 7718.1919\n",
            "Epoch 3/100\n",
            "34/34 [==============================] - 0s 1ms/step - loss: 6983.7824 - mae: 6983.7824\n",
            "Epoch 4/100\n",
            "34/34 [==============================] - 0s 1ms/step - loss: 8083.4829 - mae: 8083.4829\n",
            "Epoch 5/100\n",
            "34/34 [==============================] - 0s 1ms/step - loss: 7793.8446 - mae: 7793.8446\n",
            "Epoch 6/100\n",
            "34/34 [==============================] - 0s 1ms/step - loss: 7618.4107 - mae: 7618.4107\n",
            "Epoch 7/100\n",
            "34/34 [==============================] - 0s 1ms/step - loss: 7678.4977 - mae: 7678.4977\n",
            "Epoch 8/100\n",
            "34/34 [==============================] - 0s 1ms/step - loss: 7780.4291 - mae: 7780.4291\n",
            "Epoch 9/100\n",
            "34/34 [==============================] - 0s 1ms/step - loss: 7588.8130 - mae: 7588.8130\n",
            "Epoch 10/100\n",
            "34/34 [==============================] - 0s 2ms/step - loss: 7520.6838 - mae: 7520.6838\n",
            "Epoch 11/100\n",
            "34/34 [==============================] - 0s 1ms/step - loss: 8309.7820 - mae: 8309.7820\n",
            "Epoch 12/100\n",
            "34/34 [==============================] - 0s 1ms/step - loss: 7748.0188 - mae: 7748.0188\n",
            "Epoch 13/100\n",
            "34/34 [==============================] - 0s 1ms/step - loss: 7888.3563 - mae: 7888.3563\n",
            "Epoch 14/100\n",
            "34/34 [==============================] - 0s 1ms/step - loss: 7731.1164 - mae: 7731.1164\n",
            "Epoch 15/100\n",
            "34/34 [==============================] - 0s 1ms/step - loss: 7786.1045 - mae: 7786.1045\n",
            "Epoch 16/100\n",
            "34/34 [==============================] - 0s 1ms/step - loss: 8343.8852 - mae: 8343.8852\n",
            "Epoch 17/100\n",
            "34/34 [==============================] - 0s 1ms/step - loss: 7142.3603 - mae: 7142.3603\n",
            "Epoch 18/100\n",
            "34/34 [==============================] - 0s 1ms/step - loss: 8070.0509 - mae: 8070.0509\n",
            "Epoch 19/100\n",
            "34/34 [==============================] - 0s 1ms/step - loss: 7604.8297 - mae: 7604.8297\n",
            "Epoch 20/100\n",
            "34/34 [==============================] - 0s 1ms/step - loss: 7945.1267 - mae: 7945.1267\n",
            "Epoch 21/100\n",
            "34/34 [==============================] - 0s 1ms/step - loss: 6864.6824 - mae: 6864.6824\n",
            "Epoch 22/100\n",
            "34/34 [==============================] - 0s 1ms/step - loss: 7505.7910 - mae: 7505.7910\n",
            "Epoch 23/100\n",
            "34/34 [==============================] - 0s 1ms/step - loss: 7621.7374 - mae: 7621.7374\n",
            "Epoch 24/100\n",
            "34/34 [==============================] - 0s 1ms/step - loss: 7262.7539 - mae: 7262.7539\n",
            "Epoch 25/100\n",
            "34/34 [==============================] - 0s 1ms/step - loss: 8156.1943 - mae: 8156.1943\n",
            "Epoch 26/100\n",
            "34/34 [==============================] - 0s 1ms/step - loss: 7246.2709 - mae: 7246.2709\n",
            "Epoch 27/100\n",
            "34/34 [==============================] - 0s 1ms/step - loss: 7562.7814 - mae: 7562.7814\n",
            "Epoch 28/100\n",
            "34/34 [==============================] - 0s 1ms/step - loss: 7842.6213 - mae: 7842.6213\n",
            "Epoch 29/100\n",
            "34/34 [==============================] - 0s 1ms/step - loss: 7153.8769 - mae: 7153.8769\n",
            "Epoch 30/100\n",
            "34/34 [==============================] - 0s 1ms/step - loss: 7723.4945 - mae: 7723.4945\n",
            "Epoch 31/100\n",
            "34/34 [==============================] - 0s 1ms/step - loss: 8310.0634 - mae: 8310.0634\n",
            "Epoch 32/100\n",
            "34/34 [==============================] - 0s 1ms/step - loss: 7734.9641 - mae: 7734.9641\n",
            "Epoch 33/100\n",
            "34/34 [==============================] - 0s 1ms/step - loss: 7403.4651 - mae: 7403.4651\n",
            "Epoch 34/100\n",
            "34/34 [==============================] - 0s 1ms/step - loss: 7482.6278 - mae: 7482.6278\n",
            "Epoch 35/100\n",
            "34/34 [==============================] - 0s 1ms/step - loss: 7198.8921 - mae: 7198.8921\n",
            "Epoch 36/100\n",
            "34/34 [==============================] - 0s 1ms/step - loss: 7484.1010 - mae: 7484.1010\n",
            "Epoch 37/100\n",
            "34/34 [==============================] - 0s 1ms/step - loss: 7701.6285 - mae: 7701.6285\n",
            "Epoch 38/100\n",
            "34/34 [==============================] - 0s 1ms/step - loss: 6923.6144 - mae: 6923.6144\n",
            "Epoch 39/100\n",
            "34/34 [==============================] - 0s 1ms/step - loss: 7673.7911 - mae: 7673.7911\n",
            "Epoch 40/100\n",
            "34/34 [==============================] - 0s 1ms/step - loss: 7670.9191 - mae: 7670.9191\n",
            "Epoch 41/100\n",
            "34/34 [==============================] - 0s 1ms/step - loss: 7774.5872 - mae: 7774.5872\n",
            "Epoch 42/100\n",
            "34/34 [==============================] - 0s 1ms/step - loss: 7413.0886 - mae: 7413.0886\n",
            "Epoch 43/100\n",
            "34/34 [==============================] - 0s 1ms/step - loss: 7793.8665 - mae: 7793.8665\n",
            "Epoch 44/100\n",
            "34/34 [==============================] - 0s 1ms/step - loss: 7239.3577 - mae: 7239.3577\n",
            "Epoch 45/100\n",
            "34/34 [==============================] - 0s 1ms/step - loss: 7402.6549 - mae: 7402.6549\n",
            "Epoch 46/100\n",
            "34/34 [==============================] - 0s 1ms/step - loss: 7167.7284 - mae: 7167.7284\n",
            "Epoch 47/100\n",
            "34/34 [==============================] - 0s 1ms/step - loss: 7716.9022 - mae: 7716.9022\n",
            "Epoch 48/100\n",
            "34/34 [==============================] - 0s 1ms/step - loss: 7509.9133 - mae: 7509.9133\n",
            "Epoch 49/100\n",
            "34/34 [==============================] - 0s 1ms/step - loss: 7216.6765 - mae: 7216.6765\n",
            "Epoch 50/100\n",
            "34/34 [==============================] - 0s 1ms/step - loss: 7354.2577 - mae: 7354.2577\n",
            "Epoch 51/100\n",
            "34/34 [==============================] - 0s 1ms/step - loss: 7587.3343 - mae: 7587.3343\n",
            "Epoch 52/100\n",
            "34/34 [==============================] - 0s 1ms/step - loss: 7697.7618 - mae: 7697.7618\n",
            "Epoch 53/100\n",
            "34/34 [==============================] - 0s 1ms/step - loss: 7084.7635 - mae: 7084.7635\n",
            "Epoch 54/100\n",
            "34/34 [==============================] - 0s 1ms/step - loss: 7366.1160 - mae: 7366.1160\n",
            "Epoch 55/100\n",
            "34/34 [==============================] - 0s 1ms/step - loss: 7354.5013 - mae: 7354.5013\n",
            "Epoch 56/100\n",
            "34/34 [==============================] - 0s 1ms/step - loss: 7201.4705 - mae: 7201.4705\n",
            "Epoch 57/100\n",
            "34/34 [==============================] - 0s 1ms/step - loss: 7612.1701 - mae: 7612.1701\n",
            "Epoch 58/100\n",
            "34/34 [==============================] - 0s 1ms/step - loss: 7684.3347 - mae: 7684.3347\n",
            "Epoch 59/100\n",
            "34/34 [==============================] - 0s 1ms/step - loss: 7315.3647 - mae: 7315.3647\n",
            "Epoch 60/100\n",
            "34/34 [==============================] - 0s 1ms/step - loss: 7381.6661 - mae: 7381.6661\n",
            "Epoch 61/100\n",
            "34/34 [==============================] - 0s 1ms/step - loss: 7842.5244 - mae: 7842.5244\n",
            "Epoch 62/100\n",
            "34/34 [==============================] - 0s 1ms/step - loss: 7346.2639 - mae: 7346.2639\n",
            "Epoch 63/100\n",
            "34/34 [==============================] - 0s 1ms/step - loss: 7634.5369 - mae: 7634.5369\n",
            "Epoch 64/100\n",
            "34/34 [==============================] - 0s 1ms/step - loss: 6976.2133 - mae: 6976.2133\n",
            "Epoch 65/100\n",
            "34/34 [==============================] - 0s 1ms/step - loss: 7608.7967 - mae: 7608.7967\n",
            "Epoch 66/100\n",
            "34/34 [==============================] - 0s 1ms/step - loss: 7275.7896 - mae: 7275.7896\n",
            "Epoch 67/100\n",
            "34/34 [==============================] - 0s 1ms/step - loss: 7244.1635 - mae: 7244.1635\n",
            "Epoch 68/100\n",
            "34/34 [==============================] - 0s 1ms/step - loss: 7553.0939 - mae: 7553.0939\n",
            "Epoch 69/100\n",
            "34/34 [==============================] - 0s 1ms/step - loss: 8028.1948 - mae: 8028.1948\n",
            "Epoch 70/100\n",
            "34/34 [==============================] - 0s 1ms/step - loss: 7150.7139 - mae: 7150.7139\n",
            "Epoch 71/100\n",
            "34/34 [==============================] - 0s 1ms/step - loss: 7137.5192 - mae: 7137.5192\n",
            "Epoch 72/100\n",
            "34/34 [==============================] - 0s 1ms/step - loss: 6708.9293 - mae: 6708.9293\n",
            "Epoch 73/100\n",
            "34/34 [==============================] - 0s 1ms/step - loss: 7554.2729 - mae: 7554.2729\n",
            "Epoch 74/100\n",
            "34/34 [==============================] - 0s 1ms/step - loss: 7060.4082 - mae: 7060.4082\n",
            "Epoch 75/100\n",
            "34/34 [==============================] - 0s 1ms/step - loss: 7564.8154 - mae: 7564.8154\n",
            "Epoch 76/100\n",
            "34/34 [==============================] - 0s 1ms/step - loss: 7016.7828 - mae: 7016.7828\n",
            "Epoch 77/100\n",
            "34/34 [==============================] - 0s 1ms/step - loss: 7936.9772 - mae: 7936.9772\n",
            "Epoch 78/100\n",
            "34/34 [==============================] - 0s 1ms/step - loss: 6828.1390 - mae: 6828.1390\n",
            "Epoch 79/100\n",
            "34/34 [==============================] - 0s 1ms/step - loss: 6875.0795 - mae: 6875.0795\n",
            "Epoch 80/100\n",
            "34/34 [==============================] - 0s 1ms/step - loss: 6770.6307 - mae: 6770.6307\n",
            "Epoch 81/100\n",
            "34/34 [==============================] - 0s 1ms/step - loss: 7216.2089 - mae: 7216.2089\n",
            "Epoch 82/100\n",
            "34/34 [==============================] - 0s 1ms/step - loss: 7774.2735 - mae: 7774.2735\n",
            "Epoch 83/100\n",
            "34/34 [==============================] - 0s 1ms/step - loss: 7156.2550 - mae: 7156.2550\n",
            "Epoch 84/100\n",
            "34/34 [==============================] - 0s 1ms/step - loss: 7436.0035 - mae: 7436.0035\n",
            "Epoch 85/100\n",
            "34/34 [==============================] - 0s 1ms/step - loss: 6855.7935 - mae: 6855.7935\n",
            "Epoch 86/100\n",
            "34/34 [==============================] - 0s 1ms/step - loss: 7768.8281 - mae: 7768.8281\n",
            "Epoch 87/100\n",
            "34/34 [==============================] - 0s 1ms/step - loss: 7014.5800 - mae: 7014.5800\n",
            "Epoch 88/100\n",
            "34/34 [==============================] - 0s 1ms/step - loss: 7525.7778 - mae: 7525.7778\n",
            "Epoch 89/100\n",
            "34/34 [==============================] - 0s 1ms/step - loss: 6994.6077 - mae: 6994.6077\n",
            "Epoch 90/100\n",
            "34/34 [==============================] - 0s 1ms/step - loss: 7677.9612 - mae: 7677.9612\n",
            "Epoch 91/100\n",
            "34/34 [==============================] - 0s 1ms/step - loss: 7210.0508 - mae: 7210.0508\n",
            "Epoch 92/100\n",
            "34/34 [==============================] - 0s 1ms/step - loss: 7335.2236 - mae: 7335.2236\n",
            "Epoch 93/100\n",
            "34/34 [==============================] - 0s 1ms/step - loss: 7235.0912 - mae: 7235.0912\n",
            "Epoch 94/100\n",
            "34/34 [==============================] - 0s 1ms/step - loss: 6728.8874 - mae: 6728.8874\n",
            "Epoch 95/100\n",
            "34/34 [==============================] - 0s 1ms/step - loss: 7811.5180 - mae: 7811.5180\n",
            "Epoch 96/100\n",
            "34/34 [==============================] - 0s 1ms/step - loss: 7430.2760 - mae: 7430.2760\n",
            "Epoch 97/100\n",
            "34/34 [==============================] - 0s 1ms/step - loss: 6876.5969 - mae: 6876.5969\n",
            "Epoch 98/100\n",
            "34/34 [==============================] - 0s 1ms/step - loss: 7070.8696 - mae: 7070.8696\n",
            "Epoch 99/100\n",
            "34/34 [==============================] - 0s 1ms/step - loss: 7118.6875 - mae: 7118.6875\n",
            "Epoch 100/100\n",
            "34/34 [==============================] - 0s 1ms/step - loss: 6880.6744 - mae: 6880.6744\n"
          ],
          "name": "stdout"
        },
        {
          "output_type": "execute_result",
          "data": {
            "text/plain": [
              "<tensorflow.python.keras.callbacks.History at 0x7f1ca115f810>"
            ]
          },
          "metadata": {
            "tags": []
          },
          "execution_count": 8
        }
      ]
    },
    {
      "cell_type": "code",
      "metadata": {
        "id": "VImY4rvOPwd8"
      },
      "source": [
        "#make some functions to reuse MAE and MSE for reuseability\n",
        "\n",
        "def mae(y_true, y_test):\n",
        "  return tf.metrics.mean_absolute_error(y_true=y_true,\n",
        "                                       y_pred=tf.squeeze(y_pred))\n",
        "  \n",
        "\n",
        "def mse(y_true, y_test):\n",
        "  return tf.metrics.mean_squared_error(y_true=y_true,\n",
        "                                       y_pred= tf.squeeze(y_pred))"
      ],
      "execution_count": null,
      "outputs": []
    },
    {
      "cell_type": "code",
      "metadata": {
        "id": "6SbSavqFP-S6",
        "colab": {
          "base_uri": "https://localhost:8080/",
          "height": 262
        },
        "outputId": "6258d13d-2b4f-45e4-d5cf-51072c5c8322"
      },
      "source": [
        "#lets create the plotting function\n",
        "#if you feel like you're going to use some functionality in the future\n",
        "#it's better to make it into a funciton\n",
        "\n",
        "def plot_prediction(train_data=X_train,\n",
        "                     train_labels=y_train,\n",
        "                     test_data=X_test,\n",
        "                     test_labels=y_test,\n",
        "                     prediction=y_pred):\n",
        "  \"\"\"\n",
        "  Plot training data,test data, predicitions to the ground truth labels\n",
        "  \"\"\"\n",
        "  plt.figure(figsize=(10,7))\n",
        "  #plt training data\n",
        "  plt.scatter(train_data,train_labels,c=\"b\",label=\"training data\")\n",
        "  #plt test data\n",
        "  plt.scatter(test_data,test_labels,c=\"g\",label=\"test data\")\n",
        "  #plot predicitons in red\n",
        "  plt.scatter(test_data, prediction,c=\"r\",label=\"predicitons\")\n",
        "  #show the legend\n",
        "  plt.legend()"
      ],
      "execution_count": null,
      "outputs": [
        {
          "output_type": "error",
          "ename": "NameError",
          "evalue": "ignored",
          "traceback": [
            "\u001b[0;31m---------------------------------------------------------------------------\u001b[0m",
            "\u001b[0;31mNameError\u001b[0m                                 Traceback (most recent call last)",
            "\u001b[0;32m<ipython-input-10-bd7e395819ff>\u001b[0m in \u001b[0;36m<module>\u001b[0;34m()\u001b[0m\n\u001b[1;32m      7\u001b[0m                      \u001b[0mtest_data\u001b[0m\u001b[0;34m=\u001b[0m\u001b[0mX_test\u001b[0m\u001b[0;34m,\u001b[0m\u001b[0;34m\u001b[0m\u001b[0;34m\u001b[0m\u001b[0m\n\u001b[1;32m      8\u001b[0m                      \u001b[0mtest_labels\u001b[0m\u001b[0;34m=\u001b[0m\u001b[0my_test\u001b[0m\u001b[0;34m,\u001b[0m\u001b[0;34m\u001b[0m\u001b[0;34m\u001b[0m\u001b[0m\n\u001b[0;32m----> 9\u001b[0;31m                      prediction=y_pred):\n\u001b[0m\u001b[1;32m     10\u001b[0m   \"\"\"\n\u001b[1;32m     11\u001b[0m   \u001b[0mPlot\u001b[0m \u001b[0mtraining\u001b[0m \u001b[0mdata\u001b[0m\u001b[0;34m,\u001b[0m\u001b[0mtest\u001b[0m \u001b[0mdata\u001b[0m\u001b[0;34m,\u001b[0m \u001b[0mpredicitions\u001b[0m \u001b[0mto\u001b[0m \u001b[0mthe\u001b[0m \u001b[0mground\u001b[0m \u001b[0mtruth\u001b[0m \u001b[0mlabels\u001b[0m\u001b[0;34m\u001b[0m\u001b[0;34m\u001b[0m\u001b[0m\n",
            "\u001b[0;31mNameError\u001b[0m: name 'y_pred' is not defined"
          ]
        }
      ]
    },
    {
      "cell_type": "code",
      "metadata": {
        "colab": {
          "base_uri": "https://localhost:8080/"
        },
        "id": "-UPh43_0Lll7",
        "outputId": "b387d867-0c56-469f-d435-d4e6c8aad4a8"
      },
      "source": [
        "insaurance_model.evaluate(X_test,y_test)\n",
        "#we notice here that somehow its performing better on test data \n",
        "#start to notice patterns in how the data is beingg dealt\n"
      ],
      "execution_count": null,
      "outputs": [
        {
          "output_type": "stream",
          "text": [
            "9/9 [==============================] - 0s 2ms/step - loss: 7023.3291 - mae: 7023.3291\n"
          ],
          "name": "stdout"
        },
        {
          "output_type": "execute_result",
          "data": {
            "text/plain": [
              "[7023.3291015625, 7023.3291015625]"
            ]
          },
          "metadata": {
            "tags": []
          },
          "execution_count": 11
        }
      ]
    },
    {
      "cell_type": "markdown",
      "metadata": {
        "id": "C3qdvO58Purb"
      },
      "source": [
        "#now we improve our model"
      ]
    },
    {
      "cell_type": "markdown",
      "metadata": {
        "id": "hqkDySCMO7C8"
      },
      "source": [
        "1. add an extra layer with more hidden unit and changge optimizer"
      ]
    },
    {
      "cell_type": "code",
      "metadata": {
        "colab": {
          "base_uri": "https://localhost:8080/"
        },
        "id": "jBMEmdqRWwoB",
        "outputId": "877a4b93-d8bf-45cc-81c6-e433024779e8"
      },
      "source": [
        "tf.random.set_seed(42)\n",
        "#create the model\n",
        "insaurance_model_2=tf.keras.Sequential([\n",
        "                                        tf.keras.layers.Dense(100),\n",
        "                                        tf.keras.layers.Dense(10),\n",
        "                                        tf.keras.layers.Dense(1)\n",
        "])\n",
        "#adding 100 layers in top created an nan model, aka the model is too complex\n",
        "#compile \n",
        "insaurance_model_2.compile(loss=tf.keras.losses.mae,\n",
        "                           optimizer=tf.keras.optimizers.Adam(),\n",
        "                           metrics=[\"mae\"])\n",
        "#fit\n",
        "insaurance_model_2.fit(X_train,y_train,epochs=100)"
      ],
      "execution_count": null,
      "outputs": [
        {
          "output_type": "stream",
          "text": [
            "Epoch 1/100\n",
            "34/34 [==============================] - 0s 2ms/step - loss: 13251.7400 - mae: 13251.7400\n",
            "Epoch 2/100\n",
            "34/34 [==============================] - 0s 1ms/step - loss: 12768.7726 - mae: 12768.7726\n",
            "Epoch 3/100\n",
            "34/34 [==============================] - 0s 1ms/step - loss: 12248.2855 - mae: 12248.2855\n",
            "Epoch 4/100\n",
            "34/34 [==============================] - 0s 1ms/step - loss: 12353.0242 - mae: 12353.0242\n",
            "Epoch 5/100\n",
            "34/34 [==============================] - 0s 1ms/step - loss: 11243.3972 - mae: 11243.3972\n",
            "Epoch 6/100\n",
            "34/34 [==============================] - 0s 1ms/step - loss: 9718.5255 - mae: 9718.5255\n",
            "Epoch 7/100\n",
            "34/34 [==============================] - 0s 1ms/step - loss: 8354.8474 - mae: 8354.8474\n",
            "Epoch 8/100\n",
            "34/34 [==============================] - 0s 1ms/step - loss: 7732.2964 - mae: 7732.2964\n",
            "Epoch 9/100\n",
            "34/34 [==============================] - 0s 1ms/step - loss: 7537.6737 - mae: 7537.6737\n",
            "Epoch 10/100\n",
            "34/34 [==============================] - 0s 2ms/step - loss: 7652.7184 - mae: 7652.7184\n",
            "Epoch 11/100\n",
            "34/34 [==============================] - 0s 1ms/step - loss: 7802.4481 - mae: 7802.4481\n",
            "Epoch 12/100\n",
            "34/34 [==============================] - 0s 1ms/step - loss: 7370.3458 - mae: 7370.3458\n",
            "Epoch 13/100\n",
            "34/34 [==============================] - 0s 1ms/step - loss: 7651.9583 - mae: 7651.9583\n",
            "Epoch 14/100\n",
            "34/34 [==============================] - 0s 1ms/step - loss: 7404.5587 - mae: 7404.5587\n",
            "Epoch 15/100\n",
            "34/34 [==============================] - 0s 1ms/step - loss: 7639.0614 - mae: 7639.0614\n",
            "Epoch 16/100\n",
            "34/34 [==============================] - 0s 2ms/step - loss: 7569.4714 - mae: 7569.4714\n",
            "Epoch 17/100\n",
            "34/34 [==============================] - 0s 1ms/step - loss: 6946.3936 - mae: 6946.3936\n",
            "Epoch 18/100\n",
            "34/34 [==============================] - 0s 1ms/step - loss: 7137.7241 - mae: 7137.7241\n",
            "Epoch 19/100\n",
            "34/34 [==============================] - 0s 1ms/step - loss: 7165.3119 - mae: 7165.3119\n",
            "Epoch 20/100\n",
            "34/34 [==============================] - 0s 2ms/step - loss: 7063.6223 - mae: 7063.6223\n",
            "Epoch 21/100\n",
            "34/34 [==============================] - 0s 2ms/step - loss: 6472.3189 - mae: 6472.3189\n",
            "Epoch 22/100\n",
            "34/34 [==============================] - 0s 1ms/step - loss: 6674.0546 - mae: 6674.0546\n",
            "Epoch 23/100\n",
            "34/34 [==============================] - 0s 1ms/step - loss: 7112.2982 - mae: 7112.2982\n",
            "Epoch 24/100\n",
            "34/34 [==============================] - 0s 1ms/step - loss: 6838.1526 - mae: 6838.1526\n",
            "Epoch 25/100\n",
            "34/34 [==============================] - 0s 1ms/step - loss: 7496.9558 - mae: 7496.9558\n",
            "Epoch 26/100\n",
            "34/34 [==============================] - 0s 2ms/step - loss: 6718.1682 - mae: 6718.1682\n",
            "Epoch 27/100\n",
            "34/34 [==============================] - 0s 1ms/step - loss: 7107.2977 - mae: 7107.2977\n",
            "Epoch 28/100\n",
            "34/34 [==============================] - 0s 2ms/step - loss: 7357.2010 - mae: 7357.2010\n",
            "Epoch 29/100\n",
            "34/34 [==============================] - 0s 1ms/step - loss: 6668.5721 - mae: 6668.5721\n",
            "Epoch 30/100\n",
            "34/34 [==============================] - 0s 1ms/step - loss: 7119.4991 - mae: 7119.4991\n",
            "Epoch 31/100\n",
            "34/34 [==============================] - 0s 2ms/step - loss: 7360.1235 - mae: 7360.1235\n",
            "Epoch 32/100\n",
            "34/34 [==============================] - 0s 2ms/step - loss: 6817.2566 - mae: 6817.2566\n",
            "Epoch 33/100\n",
            "34/34 [==============================] - 0s 1ms/step - loss: 6991.0289 - mae: 6991.0289\n",
            "Epoch 34/100\n",
            "34/34 [==============================] - 0s 1ms/step - loss: 6829.4905 - mae: 6829.4905\n",
            "Epoch 35/100\n",
            "34/34 [==============================] - 0s 1ms/step - loss: 6895.2916 - mae: 6895.2916\n",
            "Epoch 36/100\n",
            "34/34 [==============================] - 0s 1ms/step - loss: 6762.5129 - mae: 6762.5129\n",
            "Epoch 37/100\n",
            "34/34 [==============================] - 0s 2ms/step - loss: 6910.4815 - mae: 6910.4815\n",
            "Epoch 38/100\n",
            "34/34 [==============================] - 0s 1ms/step - loss: 6405.0325 - mae: 6405.0325\n",
            "Epoch 39/100\n",
            "34/34 [==============================] - 0s 1ms/step - loss: 6799.7921 - mae: 6799.7921\n",
            "Epoch 40/100\n",
            "34/34 [==============================] - 0s 1ms/step - loss: 6696.0544 - mae: 6696.0544\n",
            "Epoch 41/100\n",
            "34/34 [==============================] - 0s 2ms/step - loss: 6632.0484 - mae: 6632.0484\n",
            "Epoch 42/100\n",
            "34/34 [==============================] - 0s 1ms/step - loss: 6501.1589 - mae: 6501.1589\n",
            "Epoch 43/100\n",
            "34/34 [==============================] - 0s 1ms/step - loss: 6518.8881 - mae: 6518.8881\n",
            "Epoch 44/100\n",
            "34/34 [==============================] - 0s 1ms/step - loss: 6287.3744 - mae: 6287.3744\n",
            "Epoch 45/100\n",
            "34/34 [==============================] - 0s 1ms/step - loss: 6331.2561 - mae: 6331.2561\n",
            "Epoch 46/100\n",
            "34/34 [==============================] - 0s 2ms/step - loss: 6080.3169 - mae: 6080.3169\n",
            "Epoch 47/100\n",
            "34/34 [==============================] - 0s 1ms/step - loss: 6665.8195 - mae: 6665.8195\n",
            "Epoch 48/100\n",
            "34/34 [==============================] - 0s 1ms/step - loss: 6424.2352 - mae: 6424.2352\n",
            "Epoch 49/100\n",
            "34/34 [==============================] - 0s 2ms/step - loss: 6154.8287 - mae: 6154.8287\n",
            "Epoch 50/100\n",
            "34/34 [==============================] - 0s 2ms/step - loss: 6426.9840 - mae: 6426.9840\n",
            "Epoch 51/100\n",
            "34/34 [==============================] - 0s 1ms/step - loss: 6338.3259 - mae: 6338.3259\n",
            "Epoch 52/100\n",
            "34/34 [==============================] - 0s 1ms/step - loss: 6335.6011 - mae: 6335.6011\n",
            "Epoch 53/100\n",
            "34/34 [==============================] - 0s 1ms/step - loss: 5995.7962 - mae: 5995.7962\n",
            "Epoch 54/100\n",
            "34/34 [==============================] - 0s 1ms/step - loss: 6431.7972 - mae: 6431.7972\n",
            "Epoch 55/100\n",
            "34/34 [==============================] - 0s 2ms/step - loss: 6224.0661 - mae: 6224.0661\n",
            "Epoch 56/100\n",
            "34/34 [==============================] - 0s 1ms/step - loss: 6289.4112 - mae: 6289.4112\n",
            "Epoch 57/100\n",
            "34/34 [==============================] - 0s 2ms/step - loss: 6578.3136 - mae: 6578.3136\n",
            "Epoch 58/100\n",
            "34/34 [==============================] - 0s 1ms/step - loss: 6365.6013 - mae: 6365.6013\n",
            "Epoch 59/100\n",
            "34/34 [==============================] - 0s 1ms/step - loss: 5914.7983 - mae: 5914.7983\n",
            "Epoch 60/100\n",
            "34/34 [==============================] - 0s 1ms/step - loss: 6239.8723 - mae: 6239.8723\n",
            "Epoch 61/100\n",
            "34/34 [==============================] - 0s 1ms/step - loss: 6751.6415 - mae: 6751.6415\n",
            "Epoch 62/100\n",
            "34/34 [==============================] - 0s 1ms/step - loss: 6350.5861 - mae: 6350.5861\n",
            "Epoch 63/100\n",
            "34/34 [==============================] - 0s 1ms/step - loss: 6374.7378 - mae: 6374.7378\n",
            "Epoch 64/100\n",
            "34/34 [==============================] - 0s 2ms/step - loss: 5877.7617 - mae: 5877.7617\n",
            "Epoch 65/100\n",
            "34/34 [==============================] - 0s 1ms/step - loss: 6260.5318 - mae: 6260.5318\n",
            "Epoch 66/100\n",
            "34/34 [==============================] - 0s 1ms/step - loss: 6007.1747 - mae: 6007.1747\n",
            "Epoch 67/100\n",
            "34/34 [==============================] - 0s 1ms/step - loss: 6106.7938 - mae: 6106.7938\n",
            "Epoch 68/100\n",
            "34/34 [==============================] - 0s 1ms/step - loss: 6035.6668 - mae: 6035.6668\n",
            "Epoch 69/100\n",
            "34/34 [==============================] - 0s 1ms/step - loss: 6523.5435 - mae: 6523.5435\n",
            "Epoch 70/100\n",
            "34/34 [==============================] - 0s 1ms/step - loss: 5708.9528 - mae: 5708.9528\n",
            "Epoch 71/100\n",
            "34/34 [==============================] - 0s 1ms/step - loss: 6110.2170 - mae: 6110.2170\n",
            "Epoch 72/100\n",
            "34/34 [==============================] - 0s 2ms/step - loss: 5773.3151 - mae: 5773.3151\n",
            "Epoch 73/100\n",
            "34/34 [==============================] - 0s 1ms/step - loss: 6297.5183 - mae: 6297.5183\n",
            "Epoch 74/100\n",
            "34/34 [==============================] - 0s 1ms/step - loss: 6112.9393 - mae: 6112.9393\n",
            "Epoch 75/100\n",
            "34/34 [==============================] - 0s 2ms/step - loss: 6449.7250 - mae: 6449.7250\n",
            "Epoch 76/100\n",
            "34/34 [==============================] - 0s 1ms/step - loss: 5688.1448 - mae: 5688.1448\n",
            "Epoch 77/100\n",
            "34/34 [==============================] - 0s 1ms/step - loss: 6402.3397 - mae: 6402.3397\n",
            "Epoch 78/100\n",
            "34/34 [==============================] - 0s 2ms/step - loss: 5499.5553 - mae: 5499.5553\n",
            "Epoch 79/100\n",
            "34/34 [==============================] - 0s 1ms/step - loss: 5108.3478 - mae: 5108.3478\n",
            "Epoch 80/100\n",
            "34/34 [==============================] - 0s 1ms/step - loss: 5226.6397 - mae: 5226.6397\n",
            "Epoch 81/100\n",
            "34/34 [==============================] - 0s 1ms/step - loss: 5817.3261 - mae: 5817.3261\n",
            "Epoch 82/100\n",
            "34/34 [==============================] - 0s 2ms/step - loss: 6548.7323 - mae: 6548.7323\n",
            "Epoch 83/100\n",
            "34/34 [==============================] - 0s 1ms/step - loss: 5722.6891 - mae: 5722.6891\n",
            "Epoch 84/100\n",
            "34/34 [==============================] - 0s 1ms/step - loss: 5570.2336 - mae: 5570.2336\n",
            "Epoch 85/100\n",
            "34/34 [==============================] - 0s 1ms/step - loss: 5121.8587 - mae: 5121.8587\n",
            "Epoch 86/100\n",
            "34/34 [==============================] - 0s 1ms/step - loss: 5889.9362 - mae: 5889.9362\n",
            "Epoch 87/100\n",
            "34/34 [==============================] - 0s 1ms/step - loss: 5472.2751 - mae: 5472.2751\n",
            "Epoch 88/100\n",
            "34/34 [==============================] - 0s 1ms/step - loss: 5770.0215 - mae: 5770.0215\n",
            "Epoch 89/100\n",
            "34/34 [==============================] - 0s 1ms/step - loss: 5392.7422 - mae: 5392.7422\n",
            "Epoch 90/100\n",
            "34/34 [==============================] - 0s 1ms/step - loss: 5951.3922 - mae: 5951.3922\n",
            "Epoch 91/100\n",
            "34/34 [==============================] - 0s 1ms/step - loss: 5577.1110 - mae: 5577.1110\n",
            "Epoch 92/100\n",
            "34/34 [==============================] - 0s 2ms/step - loss: 5633.8429 - mae: 5633.8429\n",
            "Epoch 93/100\n",
            "34/34 [==============================] - 0s 1ms/step - loss: 5209.0318 - mae: 5209.0318\n",
            "Epoch 94/100\n",
            "34/34 [==============================] - 0s 1ms/step - loss: 5018.4434 - mae: 5018.4434\n",
            "Epoch 95/100\n",
            "34/34 [==============================] - 0s 1ms/step - loss: 5419.2086 - mae: 5419.2086\n",
            "Epoch 96/100\n",
            "34/34 [==============================] - 0s 1ms/step - loss: 5547.8981 - mae: 5547.8981\n",
            "Epoch 97/100\n",
            "34/34 [==============================] - 0s 1ms/step - loss: 4931.7091 - mae: 4931.7091\n",
            "Epoch 98/100\n",
            "34/34 [==============================] - 0s 1ms/step - loss: 4912.5433 - mae: 4912.5433\n",
            "Epoch 99/100\n",
            "34/34 [==============================] - 0s 2ms/step - loss: 4650.0259 - mae: 4650.0259\n",
            "Epoch 100/100\n",
            "34/34 [==============================] - 0s 2ms/step - loss: 4770.1368 - mae: 4770.1368\n"
          ],
          "name": "stdout"
        },
        {
          "output_type": "execute_result",
          "data": {
            "text/plain": [
              "<tensorflow.python.keras.callbacks.History at 0x7f1c9e9beed0>"
            ]
          },
          "metadata": {
            "tags": []
          },
          "execution_count": 12
        }
      ]
    },
    {
      "cell_type": "code",
      "metadata": {
        "colab": {
          "base_uri": "https://localhost:8080/"
        },
        "id": "Iiir8hM4XZbm",
        "outputId": "d4304b05-e490-42d5-8e57-54d46849973e"
      },
      "source": [
        "#evaluate\n",
        "insaurance_model_2.evaluate(X_test,y_test)"
      ],
      "execution_count": null,
      "outputs": [
        {
          "output_type": "stream",
          "text": [
            "9/9 [==============================] - 0s 2ms/step - loss: 4924.3477 - mae: 4924.3477\n"
          ],
          "name": "stdout"
        },
        {
          "output_type": "execute_result",
          "data": {
            "text/plain": [
              "[4924.34765625, 4924.34765625]"
            ]
          },
          "metadata": {
            "tags": []
          },
          "execution_count": 13
        }
      ]
    },
    {
      "cell_type": "markdown",
      "metadata": {
        "id": "EODUWN70Ye78"
      },
      "source": [
        "2. Now with the same model, train for longer"
      ]
    },
    {
      "cell_type": "code",
      "metadata": {
        "colab": {
          "base_uri": "https://localhost:8080/"
        },
        "id": "lKJsQLv4Y7az",
        "outputId": "cdd1f8e5-61c1-4f3a-8200-1b4150f8c8f8"
      },
      "source": [
        "#set seed\n",
        "tf.random.set_seed(42)\n",
        "#create model\n",
        "insaurance_model_3=tf.keras.Sequential([\n",
        "                                        tf.keras.layers.Dense(100),\n",
        "                                        tf.keras.layers.Dense(10),\n",
        "                                        tf.keras.layers.Dense(1)\n",
        "])\n",
        "#compile model\n",
        "insaurance_model_3.compile(loss=tf.keras.losses.mae,\n",
        "                           optimizer=tf.keras.optimizers.Adam(),\n",
        "                           metrics=[\"mae\"])\n",
        "#fit model\n",
        "history=insaurance_model_3.fit(X_train,y_train,epochs=200)"
      ],
      "execution_count": null,
      "outputs": [
        {
          "output_type": "stream",
          "text": [
            "Epoch 1/200\n",
            "34/34 [==============================] - 0s 1ms/step - loss: 13251.7400 - mae: 13251.7400\n",
            "Epoch 2/200\n",
            "34/34 [==============================] - 0s 1ms/step - loss: 12768.7726 - mae: 12768.7726\n",
            "Epoch 3/200\n",
            "34/34 [==============================] - 0s 1ms/step - loss: 12248.2855 - mae: 12248.2855\n",
            "Epoch 4/200\n",
            "34/34 [==============================] - 0s 1ms/step - loss: 12353.0242 - mae: 12353.0242\n",
            "Epoch 5/200\n",
            "34/34 [==============================] - 0s 1ms/step - loss: 11243.3972 - mae: 11243.3972\n",
            "Epoch 6/200\n",
            "34/34 [==============================] - 0s 1ms/step - loss: 9718.5255 - mae: 9718.5255\n",
            "Epoch 7/200\n",
            "34/34 [==============================] - 0s 1ms/step - loss: 8354.8474 - mae: 8354.8474\n",
            "Epoch 8/200\n",
            "34/34 [==============================] - 0s 1ms/step - loss: 7732.2964 - mae: 7732.2964\n",
            "Epoch 9/200\n",
            "34/34 [==============================] - 0s 1ms/step - loss: 7537.6737 - mae: 7537.6737\n",
            "Epoch 10/200\n",
            "34/34 [==============================] - 0s 1ms/step - loss: 7652.7184 - mae: 7652.7184\n",
            "Epoch 11/200\n",
            "34/34 [==============================] - 0s 1ms/step - loss: 7802.4481 - mae: 7802.4481\n",
            "Epoch 12/200\n",
            "34/34 [==============================] - 0s 1ms/step - loss: 7370.3458 - mae: 7370.3458\n",
            "Epoch 13/200\n",
            "34/34 [==============================] - 0s 1ms/step - loss: 7651.9583 - mae: 7651.9583\n",
            "Epoch 14/200\n",
            "34/34 [==============================] - 0s 1ms/step - loss: 7404.5587 - mae: 7404.5587\n",
            "Epoch 15/200\n",
            "34/34 [==============================] - 0s 1ms/step - loss: 7639.0614 - mae: 7639.0614\n",
            "Epoch 16/200\n",
            "34/34 [==============================] - 0s 1ms/step - loss: 7569.4714 - mae: 7569.4714\n",
            "Epoch 17/200\n",
            "34/34 [==============================] - 0s 1ms/step - loss: 6946.3936 - mae: 6946.3936\n",
            "Epoch 18/200\n",
            "34/34 [==============================] - 0s 1ms/step - loss: 7137.7241 - mae: 7137.7241\n",
            "Epoch 19/200\n",
            "34/34 [==============================] - 0s 1ms/step - loss: 7165.3119 - mae: 7165.3119\n",
            "Epoch 20/200\n",
            "34/34 [==============================] - 0s 1ms/step - loss: 7063.6223 - mae: 7063.6223\n",
            "Epoch 21/200\n",
            "34/34 [==============================] - 0s 1ms/step - loss: 6472.3189 - mae: 6472.3189\n",
            "Epoch 22/200\n",
            "34/34 [==============================] - 0s 1ms/step - loss: 6674.0546 - mae: 6674.0546\n",
            "Epoch 23/200\n",
            "34/34 [==============================] - 0s 1ms/step - loss: 7112.2982 - mae: 7112.2982\n",
            "Epoch 24/200\n",
            "34/34 [==============================] - 0s 1ms/step - loss: 6838.1526 - mae: 6838.1526\n",
            "Epoch 25/200\n",
            "34/34 [==============================] - 0s 1ms/step - loss: 7496.9558 - mae: 7496.9558\n",
            "Epoch 26/200\n",
            "34/34 [==============================] - 0s 2ms/step - loss: 6718.1682 - mae: 6718.1682\n",
            "Epoch 27/200\n",
            "34/34 [==============================] - 0s 1ms/step - loss: 7107.2977 - mae: 7107.2977\n",
            "Epoch 28/200\n",
            "34/34 [==============================] - 0s 1ms/step - loss: 7357.2010 - mae: 7357.2010\n",
            "Epoch 29/200\n",
            "34/34 [==============================] - 0s 1ms/step - loss: 6668.5721 - mae: 6668.5721\n",
            "Epoch 30/200\n",
            "34/34 [==============================] - 0s 1ms/step - loss: 7119.4991 - mae: 7119.4991\n",
            "Epoch 31/200\n",
            "34/34 [==============================] - 0s 1ms/step - loss: 7360.1235 - mae: 7360.1235\n",
            "Epoch 32/200\n",
            "34/34 [==============================] - 0s 1ms/step - loss: 6817.2566 - mae: 6817.2566\n",
            "Epoch 33/200\n",
            "34/34 [==============================] - 0s 1ms/step - loss: 6991.0289 - mae: 6991.0289\n",
            "Epoch 34/200\n",
            "34/34 [==============================] - 0s 1ms/step - loss: 6829.4905 - mae: 6829.4905\n",
            "Epoch 35/200\n",
            "34/34 [==============================] - 0s 1ms/step - loss: 6895.2916 - mae: 6895.2916\n",
            "Epoch 36/200\n",
            "34/34 [==============================] - 0s 1ms/step - loss: 6762.5129 - mae: 6762.5129\n",
            "Epoch 37/200\n",
            "34/34 [==============================] - 0s 1ms/step - loss: 6910.4815 - mae: 6910.4815\n",
            "Epoch 38/200\n",
            "34/34 [==============================] - 0s 1ms/step - loss: 6405.0325 - mae: 6405.0325\n",
            "Epoch 39/200\n",
            "34/34 [==============================] - 0s 1ms/step - loss: 6799.7921 - mae: 6799.7921\n",
            "Epoch 40/200\n",
            "34/34 [==============================] - 0s 1ms/step - loss: 6696.0544 - mae: 6696.0544\n",
            "Epoch 41/200\n",
            "34/34 [==============================] - 0s 1ms/step - loss: 6632.0484 - mae: 6632.0484\n",
            "Epoch 42/200\n",
            "34/34 [==============================] - 0s 1ms/step - loss: 6501.1589 - mae: 6501.1589\n",
            "Epoch 43/200\n",
            "34/34 [==============================] - 0s 1ms/step - loss: 6518.8881 - mae: 6518.8881\n",
            "Epoch 44/200\n",
            "34/34 [==============================] - 0s 1ms/step - loss: 6287.3744 - mae: 6287.3744\n",
            "Epoch 45/200\n",
            "34/34 [==============================] - 0s 2ms/step - loss: 6331.2561 - mae: 6331.2561\n",
            "Epoch 46/200\n",
            "34/34 [==============================] - 0s 1ms/step - loss: 6080.3169 - mae: 6080.3169\n",
            "Epoch 47/200\n",
            "34/34 [==============================] - 0s 1ms/step - loss: 6665.8195 - mae: 6665.8195\n",
            "Epoch 48/200\n",
            "34/34 [==============================] - 0s 1ms/step - loss: 6424.2352 - mae: 6424.2352\n",
            "Epoch 49/200\n",
            "34/34 [==============================] - 0s 1ms/step - loss: 6154.8287 - mae: 6154.8287\n",
            "Epoch 50/200\n",
            "34/34 [==============================] - 0s 1ms/step - loss: 6426.9840 - mae: 6426.9840\n",
            "Epoch 51/200\n",
            "34/34 [==============================] - 0s 1ms/step - loss: 6338.3259 - mae: 6338.3259\n",
            "Epoch 52/200\n",
            "34/34 [==============================] - 0s 1ms/step - loss: 6335.6011 - mae: 6335.6011\n",
            "Epoch 53/200\n",
            "34/34 [==============================] - 0s 2ms/step - loss: 5995.7962 - mae: 5995.7962\n",
            "Epoch 54/200\n",
            "34/34 [==============================] - 0s 1ms/step - loss: 6431.7972 - mae: 6431.7972\n",
            "Epoch 55/200\n",
            "34/34 [==============================] - 0s 1ms/step - loss: 6224.0661 - mae: 6224.0661\n",
            "Epoch 56/200\n",
            "34/34 [==============================] - 0s 1ms/step - loss: 6289.4112 - mae: 6289.4112\n",
            "Epoch 57/200\n",
            "34/34 [==============================] - 0s 2ms/step - loss: 6578.3136 - mae: 6578.3136\n",
            "Epoch 58/200\n",
            "34/34 [==============================] - 0s 2ms/step - loss: 6365.6013 - mae: 6365.6013\n",
            "Epoch 59/200\n",
            "34/34 [==============================] - 0s 1ms/step - loss: 5914.7983 - mae: 5914.7983\n",
            "Epoch 60/200\n",
            "34/34 [==============================] - 0s 1ms/step - loss: 6239.8723 - mae: 6239.8723\n",
            "Epoch 61/200\n",
            "34/34 [==============================] - 0s 1ms/step - loss: 6751.6415 - mae: 6751.6415\n",
            "Epoch 62/200\n",
            "34/34 [==============================] - 0s 1ms/step - loss: 6350.5861 - mae: 6350.5861\n",
            "Epoch 63/200\n",
            "34/34 [==============================] - 0s 2ms/step - loss: 6374.7378 - mae: 6374.7378\n",
            "Epoch 64/200\n",
            "34/34 [==============================] - 0s 1ms/step - loss: 5877.7617 - mae: 5877.7617\n",
            "Epoch 65/200\n",
            "34/34 [==============================] - 0s 1ms/step - loss: 6260.5318 - mae: 6260.5318\n",
            "Epoch 66/200\n",
            "34/34 [==============================] - 0s 1ms/step - loss: 6007.1747 - mae: 6007.1747\n",
            "Epoch 67/200\n",
            "34/34 [==============================] - 0s 1ms/step - loss: 6106.7938 - mae: 6106.7938\n",
            "Epoch 68/200\n",
            "34/34 [==============================] - 0s 1ms/step - loss: 6035.6668 - mae: 6035.6668\n",
            "Epoch 69/200\n",
            "34/34 [==============================] - 0s 1ms/step - loss: 6523.5435 - mae: 6523.5435\n",
            "Epoch 70/200\n",
            "34/34 [==============================] - 0s 1ms/step - loss: 5708.9528 - mae: 5708.9528\n",
            "Epoch 71/200\n",
            "34/34 [==============================] - 0s 1ms/step - loss: 6110.2170 - mae: 6110.2170\n",
            "Epoch 72/200\n",
            "34/34 [==============================] - 0s 1ms/step - loss: 5773.3151 - mae: 5773.3151\n",
            "Epoch 73/200\n",
            "34/34 [==============================] - 0s 1ms/step - loss: 6297.5183 - mae: 6297.5183\n",
            "Epoch 74/200\n",
            "34/34 [==============================] - 0s 1ms/step - loss: 6112.9393 - mae: 6112.9393\n",
            "Epoch 75/200\n",
            "34/34 [==============================] - 0s 1ms/step - loss: 6449.7250 - mae: 6449.7250\n",
            "Epoch 76/200\n",
            "34/34 [==============================] - 0s 1ms/step - loss: 5688.1448 - mae: 5688.1448\n",
            "Epoch 77/200\n",
            "34/34 [==============================] - 0s 1ms/step - loss: 6402.3397 - mae: 6402.3397\n",
            "Epoch 78/200\n",
            "34/34 [==============================] - 0s 1ms/step - loss: 5499.5553 - mae: 5499.5553\n",
            "Epoch 79/200\n",
            "34/34 [==============================] - 0s 1ms/step - loss: 5108.3478 - mae: 5108.3478\n",
            "Epoch 80/200\n",
            "34/34 [==============================] - 0s 1ms/step - loss: 5226.6397 - mae: 5226.6397\n",
            "Epoch 81/200\n",
            "34/34 [==============================] - 0s 1ms/step - loss: 5817.3261 - mae: 5817.3261\n",
            "Epoch 82/200\n",
            "34/34 [==============================] - 0s 2ms/step - loss: 6548.7323 - mae: 6548.7323\n",
            "Epoch 83/200\n",
            "34/34 [==============================] - 0s 1ms/step - loss: 5722.6891 - mae: 5722.6891\n",
            "Epoch 84/200\n",
            "34/34 [==============================] - 0s 1ms/step - loss: 5570.2336 - mae: 5570.2336\n",
            "Epoch 85/200\n",
            "34/34 [==============================] - 0s 1ms/step - loss: 5121.8587 - mae: 5121.8587\n",
            "Epoch 86/200\n",
            "34/34 [==============================] - 0s 1ms/step - loss: 5889.9362 - mae: 5889.9362\n",
            "Epoch 87/200\n",
            "34/34 [==============================] - 0s 1ms/step - loss: 5472.2751 - mae: 5472.2751\n",
            "Epoch 88/200\n",
            "34/34 [==============================] - 0s 1ms/step - loss: 5770.0215 - mae: 5770.0215\n",
            "Epoch 89/200\n",
            "34/34 [==============================] - 0s 1ms/step - loss: 5392.7422 - mae: 5392.7422\n",
            "Epoch 90/200\n",
            "34/34 [==============================] - 0s 1ms/step - loss: 5951.3922 - mae: 5951.3922\n",
            "Epoch 91/200\n",
            "34/34 [==============================] - 0s 1ms/step - loss: 5577.1110 - mae: 5577.1110\n",
            "Epoch 92/200\n",
            "34/34 [==============================] - 0s 1ms/step - loss: 5633.8429 - mae: 5633.8429\n",
            "Epoch 93/200\n",
            "34/34 [==============================] - 0s 1ms/step - loss: 5209.0318 - mae: 5209.0318\n",
            "Epoch 94/200\n",
            "34/34 [==============================] - 0s 2ms/step - loss: 5018.4434 - mae: 5018.4434\n",
            "Epoch 95/200\n",
            "34/34 [==============================] - 0s 1ms/step - loss: 5419.2086 - mae: 5419.2086\n",
            "Epoch 96/200\n",
            "34/34 [==============================] - 0s 1ms/step - loss: 5547.8981 - mae: 5547.8981\n",
            "Epoch 97/200\n",
            "34/34 [==============================] - 0s 1ms/step - loss: 4931.7091 - mae: 4931.7091\n",
            "Epoch 98/200\n",
            "34/34 [==============================] - 0s 2ms/step - loss: 4912.5433 - mae: 4912.5433\n",
            "Epoch 99/200\n",
            "34/34 [==============================] - 0s 2ms/step - loss: 4650.0259 - mae: 4650.0259\n",
            "Epoch 100/200\n",
            "34/34 [==============================] - 0s 1ms/step - loss: 4770.1368 - mae: 4770.1368\n",
            "Epoch 101/200\n",
            "34/34 [==============================] - 0s 2ms/step - loss: 4909.3405 - mae: 4909.3405\n",
            "Epoch 102/200\n",
            "34/34 [==============================] - 0s 2ms/step - loss: 4673.0495 - mae: 4673.0495\n",
            "Epoch 103/200\n",
            "34/34 [==============================] - 0s 1ms/step - loss: 4396.5531 - mae: 4396.5531\n",
            "Epoch 104/200\n",
            "34/34 [==============================] - 0s 2ms/step - loss: 4917.1084 - mae: 4917.1084\n",
            "Epoch 105/200\n",
            "34/34 [==============================] - 0s 1ms/step - loss: 4314.7778 - mae: 4314.7778\n",
            "Epoch 106/200\n",
            "34/34 [==============================] - 0s 1ms/step - loss: 4739.7995 - mae: 4739.7995\n",
            "Epoch 107/200\n",
            "34/34 [==============================] - 0s 1ms/step - loss: 4745.8093 - mae: 4745.8093\n",
            "Epoch 108/200\n",
            "34/34 [==============================] - 0s 1ms/step - loss: 4517.0400 - mae: 4517.0400\n",
            "Epoch 109/200\n",
            "34/34 [==============================] - 0s 1ms/step - loss: 4803.4275 - mae: 4803.4275\n",
            "Epoch 110/200\n",
            "34/34 [==============================] - 0s 1ms/step - loss: 4702.8919 - mae: 4702.8919\n",
            "Epoch 111/200\n",
            "34/34 [==============================] - 0s 2ms/step - loss: 4289.6146 - mae: 4289.6146\n",
            "Epoch 112/200\n",
            "34/34 [==============================] - 0s 2ms/step - loss: 4062.5322 - mae: 4062.5322\n",
            "Epoch 113/200\n",
            "34/34 [==============================] - 0s 1ms/step - loss: 3978.4756 - mae: 3978.4756\n",
            "Epoch 114/200\n",
            "34/34 [==============================] - 0s 1ms/step - loss: 4152.9214 - mae: 4152.9214\n",
            "Epoch 115/200\n",
            "34/34 [==============================] - 0s 1ms/step - loss: 4003.9165 - mae: 4003.9165\n",
            "Epoch 116/200\n",
            "34/34 [==============================] - 0s 2ms/step - loss: 4288.2785 - mae: 4288.2785\n",
            "Epoch 117/200\n",
            "34/34 [==============================] - 0s 1ms/step - loss: 3860.9309 - mae: 3860.9309\n",
            "Epoch 118/200\n",
            "34/34 [==============================] - 0s 1ms/step - loss: 3865.8638 - mae: 3865.8638\n",
            "Epoch 119/200\n",
            "34/34 [==============================] - 0s 1ms/step - loss: 3953.7542 - mae: 3953.7542\n",
            "Epoch 120/200\n",
            "34/34 [==============================] - 0s 1ms/step - loss: 4055.4669 - mae: 4055.4669\n",
            "Epoch 121/200\n",
            "34/34 [==============================] - 0s 1ms/step - loss: 4136.1248 - mae: 4136.1248\n",
            "Epoch 122/200\n",
            "34/34 [==============================] - 0s 1ms/step - loss: 3805.4186 - mae: 3805.4186\n",
            "Epoch 123/200\n",
            "34/34 [==============================] - 0s 2ms/step - loss: 3729.5202 - mae: 3729.5202\n",
            "Epoch 124/200\n",
            "34/34 [==============================] - 0s 1ms/step - loss: 3653.3789 - mae: 3653.3789\n",
            "Epoch 125/200\n",
            "34/34 [==============================] - 0s 1ms/step - loss: 4047.0974 - mae: 4047.0974\n",
            "Epoch 126/200\n",
            "34/34 [==============================] - 0s 1ms/step - loss: 3759.8391 - mae: 3759.8391\n",
            "Epoch 127/200\n",
            "34/34 [==============================] - 0s 1ms/step - loss: 3898.7483 - mae: 3898.7483\n",
            "Epoch 128/200\n",
            "34/34 [==============================] - 0s 1ms/step - loss: 3728.9218 - mae: 3728.9218\n",
            "Epoch 129/200\n",
            "34/34 [==============================] - 0s 1ms/step - loss: 4054.4523 - mae: 4054.4523\n",
            "Epoch 130/200\n",
            "34/34 [==============================] - 0s 1ms/step - loss: 3811.9230 - mae: 3811.9230\n",
            "Epoch 131/200\n",
            "34/34 [==============================] - 0s 2ms/step - loss: 3840.0032 - mae: 3840.0032\n",
            "Epoch 132/200\n",
            "34/34 [==============================] - 0s 1ms/step - loss: 4002.2322 - mae: 4002.2322\n",
            "Epoch 133/200\n",
            "34/34 [==============================] - 0s 1ms/step - loss: 4039.5692 - mae: 4039.5692\n",
            "Epoch 134/200\n",
            "34/34 [==============================] - 0s 1ms/step - loss: 3874.6315 - mae: 3874.6315\n",
            "Epoch 135/200\n",
            "34/34 [==============================] - 0s 1ms/step - loss: 3851.9765 - mae: 3851.9765\n",
            "Epoch 136/200\n",
            "34/34 [==============================] - 0s 1ms/step - loss: 3716.1255 - mae: 3716.1255\n",
            "Epoch 137/200\n",
            "34/34 [==============================] - 0s 2ms/step - loss: 3771.7132 - mae: 3771.7132\n",
            "Epoch 138/200\n",
            "34/34 [==============================] - 0s 1ms/step - loss: 4019.1487 - mae: 4019.1487\n",
            "Epoch 139/200\n",
            "34/34 [==============================] - 0s 2ms/step - loss: 3714.7945 - mae: 3714.7945\n",
            "Epoch 140/200\n",
            "34/34 [==============================] - 0s 1ms/step - loss: 3735.7563 - mae: 3735.7563\n",
            "Epoch 141/200\n",
            "34/34 [==============================] - 0s 1ms/step - loss: 3858.8476 - mae: 3858.8476\n",
            "Epoch 142/200\n",
            "34/34 [==============================] - 0s 1ms/step - loss: 3625.0085 - mae: 3625.0085\n",
            "Epoch 143/200\n",
            "34/34 [==============================] - 0s 1ms/step - loss: 3835.1521 - mae: 3835.1521\n",
            "Epoch 144/200\n",
            "34/34 [==============================] - 0s 2ms/step - loss: 3868.1936 - mae: 3868.1936\n",
            "Epoch 145/200\n",
            "34/34 [==============================] - 0s 2ms/step - loss: 4044.2481 - mae: 4044.2481\n",
            "Epoch 146/200\n",
            "34/34 [==============================] - 0s 1ms/step - loss: 3948.1645 - mae: 3948.1645\n",
            "Epoch 147/200\n",
            "34/34 [==============================] - 0s 1ms/step - loss: 3696.6694 - mae: 3696.6694\n",
            "Epoch 148/200\n",
            "34/34 [==============================] - 0s 1ms/step - loss: 3497.7141 - mae: 3497.7141\n",
            "Epoch 149/200\n",
            "34/34 [==============================] - 0s 2ms/step - loss: 3636.5157 - mae: 3636.5157\n",
            "Epoch 150/200\n",
            "34/34 [==============================] - 0s 2ms/step - loss: 3824.4876 - mae: 3824.4876\n",
            "Epoch 151/200\n",
            "34/34 [==============================] - 0s 2ms/step - loss: 3805.8298 - mae: 3805.8298\n",
            "Epoch 152/200\n",
            "34/34 [==============================] - 0s 2ms/step - loss: 3755.0754 - mae: 3755.0754\n",
            "Epoch 153/200\n",
            "34/34 [==============================] - 0s 1ms/step - loss: 3716.7277 - mae: 3716.7277\n",
            "Epoch 154/200\n",
            "34/34 [==============================] - 0s 1ms/step - loss: 3894.3153 - mae: 3894.3153\n",
            "Epoch 155/200\n",
            "34/34 [==============================] - 0s 1ms/step - loss: 3651.1834 - mae: 3651.1834\n",
            "Epoch 156/200\n",
            "34/34 [==============================] - 0s 1ms/step - loss: 3542.4872 - mae: 3542.4872\n",
            "Epoch 157/200\n",
            "34/34 [==============================] - 0s 2ms/step - loss: 3542.7571 - mae: 3542.7571\n",
            "Epoch 158/200\n",
            "34/34 [==============================] - 0s 1ms/step - loss: 3921.3213 - mae: 3921.3213\n",
            "Epoch 159/200\n",
            "34/34 [==============================] - 0s 1ms/step - loss: 3773.9635 - mae: 3773.9635\n",
            "Epoch 160/200\n",
            "34/34 [==============================] - 0s 1ms/step - loss: 3836.4512 - mae: 3836.4512\n",
            "Epoch 161/200\n",
            "34/34 [==============================] - 0s 1ms/step - loss: 3695.3159 - mae: 3695.3159\n",
            "Epoch 162/200\n",
            "34/34 [==============================] - 0s 1ms/step - loss: 3842.3962 - mae: 3842.3962\n",
            "Epoch 163/200\n",
            "34/34 [==============================] - 0s 1ms/step - loss: 3436.4965 - mae: 3436.4965\n",
            "Epoch 164/200\n",
            "34/34 [==============================] - 0s 2ms/step - loss: 3658.1668 - mae: 3658.1668\n",
            "Epoch 165/200\n",
            "34/34 [==============================] - 0s 1ms/step - loss: 3724.9990 - mae: 3724.9990\n",
            "Epoch 166/200\n",
            "34/34 [==============================] - 0s 1ms/step - loss: 3876.5262 - mae: 3876.5262\n",
            "Epoch 167/200\n",
            "34/34 [==============================] - 0s 1ms/step - loss: 4017.7594 - mae: 4017.7594\n",
            "Epoch 168/200\n",
            "34/34 [==============================] - 0s 1ms/step - loss: 3752.5265 - mae: 3752.5265\n",
            "Epoch 169/200\n",
            "34/34 [==============================] - 0s 2ms/step - loss: 3595.9144 - mae: 3595.9144\n",
            "Epoch 170/200\n",
            "34/34 [==============================] - 0s 1ms/step - loss: 3880.7918 - mae: 3880.7918\n",
            "Epoch 171/200\n",
            "34/34 [==============================] - 0s 1ms/step - loss: 3588.6998 - mae: 3588.6998\n",
            "Epoch 172/200\n",
            "34/34 [==============================] - 0s 1ms/step - loss: 3788.0718 - mae: 3788.0718\n",
            "Epoch 173/200\n",
            "34/34 [==============================] - 0s 1ms/step - loss: 3816.2179 - mae: 3816.2179\n",
            "Epoch 174/200\n",
            "34/34 [==============================] - 0s 2ms/step - loss: 3762.2578 - mae: 3762.2578\n",
            "Epoch 175/200\n",
            "34/34 [==============================] - 0s 2ms/step - loss: 3877.9812 - mae: 3877.9812\n",
            "Epoch 176/200\n",
            "34/34 [==============================] - 0s 1ms/step - loss: 3795.1465 - mae: 3795.1465\n",
            "Epoch 177/200\n",
            "34/34 [==============================] - 0s 1ms/step - loss: 3768.2689 - mae: 3768.2689\n",
            "Epoch 178/200\n",
            "34/34 [==============================] - 0s 1ms/step - loss: 3567.2376 - mae: 3567.2376\n",
            "Epoch 179/200\n",
            "34/34 [==============================] - 0s 1ms/step - loss: 3471.1047 - mae: 3471.1047\n",
            "Epoch 180/200\n",
            "34/34 [==============================] - 0s 1ms/step - loss: 4114.2342 - mae: 4114.2342\n",
            "Epoch 181/200\n",
            "34/34 [==============================] - 0s 1ms/step - loss: 3853.8357 - mae: 3853.8357\n",
            "Epoch 182/200\n",
            "34/34 [==============================] - 0s 1ms/step - loss: 3778.6590 - mae: 3778.6590\n",
            "Epoch 183/200\n",
            "34/34 [==============================] - 0s 1ms/step - loss: 3474.2507 - mae: 3474.2507\n",
            "Epoch 184/200\n",
            "34/34 [==============================] - 0s 2ms/step - loss: 3624.6951 - mae: 3624.6951\n",
            "Epoch 185/200\n",
            "34/34 [==============================] - 0s 1ms/step - loss: 3491.3103 - mae: 3491.3103\n",
            "Epoch 186/200\n",
            "34/34 [==============================] - 0s 2ms/step - loss: 3824.2027 - mae: 3824.2027\n",
            "Epoch 187/200\n",
            "34/34 [==============================] - 0s 1ms/step - loss: 3889.5553 - mae: 3889.5553\n",
            "Epoch 188/200\n",
            "34/34 [==============================] - 0s 1ms/step - loss: 3916.9766 - mae: 3916.9766\n",
            "Epoch 189/200\n",
            "34/34 [==============================] - 0s 1ms/step - loss: 3449.6390 - mae: 3449.6390\n",
            "Epoch 190/200\n",
            "34/34 [==============================] - 0s 1ms/step - loss: 3790.5261 - mae: 3790.5261\n",
            "Epoch 191/200\n",
            "34/34 [==============================] - 0s 2ms/step - loss: 3899.9987 - mae: 3899.9987\n",
            "Epoch 192/200\n",
            "34/34 [==============================] - 0s 1ms/step - loss: 3676.4644 - mae: 3676.4644\n",
            "Epoch 193/200\n",
            "34/34 [==============================] - 0s 2ms/step - loss: 3766.0237 - mae: 3766.0237\n",
            "Epoch 194/200\n",
            "34/34 [==============================] - 0s 1ms/step - loss: 3871.3434 - mae: 3871.3434\n",
            "Epoch 195/200\n",
            "34/34 [==============================] - 0s 1ms/step - loss: 3423.9755 - mae: 3423.9755\n",
            "Epoch 196/200\n",
            "34/34 [==============================] - 0s 2ms/step - loss: 3567.7101 - mae: 3567.7101\n",
            "Epoch 197/200\n",
            "34/34 [==============================] - 0s 2ms/step - loss: 3950.4742 - mae: 3950.4742\n",
            "Epoch 198/200\n",
            "34/34 [==============================] - 0s 2ms/step - loss: 3620.9258 - mae: 3620.9258\n",
            "Epoch 199/200\n",
            "34/34 [==============================] - 0s 1ms/step - loss: 3628.1823 - mae: 3628.1823\n",
            "Epoch 200/200\n",
            "34/34 [==============================] - 0s 2ms/step - loss: 3810.1321 - mae: 3810.1321\n"
          ],
          "name": "stdout"
        }
      ]
    },
    {
      "cell_type": "code",
      "metadata": {
        "colab": {
          "base_uri": "https://localhost:8080/"
        },
        "id": "DcaRAAPNZkHI",
        "outputId": "c64c6797-100e-435a-c349-4946e80033eb"
      },
      "source": [
        "#evaluate the mode\n",
        "insaurance_model_3.evaluate(X_test,y_test)"
      ],
      "execution_count": null,
      "outputs": [
        {
          "output_type": "stream",
          "text": [
            "9/9 [==============================] - 0s 2ms/step - loss: 3491.2961 - mae: 3491.2961\n"
          ],
          "name": "stdout"
        },
        {
          "output_type": "execute_result",
          "data": {
            "text/plain": [
              "[3491.296142578125, 3491.296142578125]"
            ]
          },
          "metadata": {
            "tags": []
          },
          "execution_count": 15
        }
      ]
    },
    {
      "cell_type": "code",
      "metadata": {
        "colab": {
          "base_uri": "https://localhost:8080/",
          "height": 297
        },
        "id": "ttwumhloaDFB",
        "outputId": "72b42689-b9c4-45f3-f0f2-3bd54b6230c8"
      },
      "source": [
        "#plot history (also known as loss curve or training curve)\n",
        "pd.DataFrame(history.history).plot()\n",
        "plt.ylabel(\"loss\")\n",
        "plt.xlabel(\"epochs\")"
      ],
      "execution_count": null,
      "outputs": [
        {
          "output_type": "execute_result",
          "data": {
            "text/plain": [
              "Text(0.5, 0, 'epochs')"
            ]
          },
          "metadata": {
            "tags": []
          },
          "execution_count": 16
        },
        {
          "output_type": "display_data",
          "data": {
            "image/png": "[encoded data removed]",
            "text/plain": [
              "<Figure size 432x288 with 1 Axes>"
            ]
          },
          "metadata": {
            "tags": [],
            "needs_background": "light"
          }
        }
      ]
    },
    {
      "cell_type": "markdown",
      "metadata": {
        "id": "mDPNVVW8aUcD"
      },
      "source": [
        "#how long should you train for?\n",
        "#it depends on t he problem\n",
        "#earlystoppingcall back is used for that\n",
        "#it is a tensor flow component taht you can add to your model which stops trainin when it stops improving a certain metric"
      ]
    },
    {
      "cell_type": "markdown",
      "metadata": {
        "id": "m6qYcYRZbbmD"
      },
      "source": [
        "#another way of pre processing gdata and (normalization and standardization) neural netwrok prefer normalization\n",
        "\n",
        "normalization is chaning the values of the numeric columns down to a common scale, without distorting differences in the ranges of value\n",
        "\n"
      ]
    },
    {
      "cell_type": "code",
      "metadata": {
        "colab": {
          "base_uri": "https://localhost:8080/",
          "height": 283
        },
        "id": "L-kLX7PA7Wrv",
        "outputId": "34ccc4e8-3172-4c1d-9d9b-bdb2b92b0f8f"
      },
      "source": [
        "X[\"age\"].plot(kind=\"hist\")"
      ],
      "execution_count": null,
      "outputs": [
        {
          "output_type": "execute_result",
          "data": {
            "text/plain": [
              "<matplotlib.axes._subplots.AxesSubplot at 0x7f1cbc93af10>"
            ]
          },
          "metadata": {
            "tags": []
          },
          "execution_count": 18
        },
        {
          "output_type": "display_data",
          "data": {
            "image/png": "[encoded data removed]",
            "text/plain": [
              "<Figure size 432x288 with 1 Axes>"
            ]
          },
          "metadata": {
            "tags": [],
            "needs_background": "light"
          }
        }
      ]
    },
    {
      "cell_type": "code",
      "metadata": {
        "colab": {
          "base_uri": "https://localhost:8080/",
          "height": 283
        },
        "id": "NQmTY4097DQI",
        "outputId": "9fe2ef01-6045-4a62-e51e-04c13e164e15"
      },
      "source": [
        "X[\"bmi\"].plot(kind=\"hist\")"
      ],
      "execution_count": null,
      "outputs": [
        {
          "output_type": "execute_result",
          "data": {
            "text/plain": [
              "<matplotlib.axes._subplots.AxesSubplot at 0x7f1c9f985150>"
            ]
          },
          "metadata": {
            "tags": []
          },
          "execution_count": 19
        },
        {
          "output_type": "display_data",
          "data": {
            "image/png": "[encoded data removed]",
            "text/plain": [
              "<Figure size 432x288 with 1 Axes>"
            ]
          },
          "metadata": {
            "tags": [],
            "needs_background": "light"
          }
        }
      ]
    },
    {
      "cell_type": "markdown",
      "metadata": {
        "id": "PNVKlD6t7-3-"
      },
      "source": [
        "#you can notice  that the type of data is different, but what if we  wanted to change all these value between 0 and 1 that is what normalization is"
      ]
    },
    {
      "cell_type": "markdown",
      "metadata": {
        "id": "0b0DRWsk8Ql2"
      },
      "source": [
        "typically scale features refers to normalization **we use the scikit-learn function MinMaxScalar** it converts all wvalues between 0 and 1 while preserving original distribution\n",
        "\n",
        "**standardization scikit-learn funcntion is StandardScalar** it transforms a feature to have close to normal distribution(caution: it reduces theh effect of outliers, that means take the age graph, the effect of age 20 will be drastically reomove if you use normalize it), basicaly it removes the mean and divides each value by standard diviation"
      ]
    },
    {
      "cell_type": "code",
      "metadata": {
        "colab": {
          "base_uri": "https://localhost:8080/",
          "height": 424
        },
        "id": "qpy4yS0D8z-o",
        "outputId": "17ec49f4-d0e7-44e9-8f95-58631cee4c0a"
      },
      "source": [
        "import pandas as pd\n",
        "import matplotlib.pyplot as plt\n",
        "import tensorflow as tf\n",
        "#read insaurance dataframe\n",
        "insaurancne=pd.read_csv(\"https://raw.githubusercontent.com/stedy/Machine-Learning-with-R-datasets/master/insurance.csv\")\n",
        "insaurance"
      ],
      "execution_count": null,
      "outputs": [
        {
          "output_type": "execute_result",
          "data": {
            "text/html": [
              "<div>\n",
              "<style scoped>\n",
              "    .dataframe tbody tr th:only-of-type {\n",
              "        vertical-align: middle;\n",
              "    }\n",
              "\n",
              "    .dataframe tbody tr th {\n",
              "        vertical-align: top;\n",
              "    }\n",
              "\n",
              "    .dataframe thead th {\n",
              "        text-align: right;\n",
              "    }\n",
              "</style>\n",
              "<table border=\"1\" class=\"dataframe\">\n",
              "  <thead>\n",
              "    <tr style=\"text-align: right;\">\n",
              "      <th></th>\n",
              "      <th>age</th>\n",
              "      <th>sex</th>\n",
              "      <th>bmi</th>\n",
              "      <th>children</th>\n",
              "      <th>smoker</th>\n",
              "      <th>region</th>\n",
              "      <th>charges</th>\n",
              "    </tr>\n",
              "  </thead>\n",
              "  <tbody>\n",
              "    <tr>\n",
              "      <th>0</th>\n",
              "      <td>19</td>\n",
              "      <td>female</td>\n",
              "      <td>27.900</td>\n",
              "      <td>0</td>\n",
              "      <td>yes</td>\n",
              "      <td>southwest</td>\n",
              "      <td>16884.92400</td>\n",
              "    </tr>\n",
              "    <tr>\n",
              "      <th>1</th>\n",
              "      <td>18</td>\n",
              "      <td>male</td>\n",
              "      <td>33.770</td>\n",
              "      <td>1</td>\n",
              "      <td>no</td>\n",
              "      <td>southeast</td>\n",
              "      <td>1725.55230</td>\n",
              "    </tr>\n",
              "    <tr>\n",
              "      <th>2</th>\n",
              "      <td>28</td>\n",
              "      <td>male</td>\n",
              "      <td>33.000</td>\n",
              "      <td>3</td>\n",
              "      <td>no</td>\n",
              "      <td>southeast</td>\n",
              "      <td>4449.46200</td>\n",
              "    </tr>\n",
              "    <tr>\n",
              "      <th>3</th>\n",
              "      <td>33</td>\n",
              "      <td>male</td>\n",
              "      <td>22.705</td>\n",
              "      <td>0</td>\n",
              "      <td>no</td>\n",
              "      <td>northwest</td>\n",
              "      <td>21984.47061</td>\n",
              "    </tr>\n",
              "    <tr>\n",
              "      <th>4</th>\n",
              "      <td>32</td>\n",
              "      <td>male</td>\n",
              "      <td>28.880</td>\n",
              "      <td>0</td>\n",
              "      <td>no</td>\n",
              "      <td>northwest</td>\n",
              "      <td>3866.85520</td>\n",
              "    </tr>\n",
              "    <tr>\n",
              "      <th>...</th>\n",
              "      <td>...</td>\n",
              "      <td>...</td>\n",
              "      <td>...</td>\n",
              "      <td>...</td>\n",
              "      <td>...</td>\n",
              "      <td>...</td>\n",
              "      <td>...</td>\n",
              "    </tr>\n",
              "    <tr>\n",
              "      <th>1333</th>\n",
              "      <td>50</td>\n",
              "      <td>male</td>\n",
              "      <td>30.970</td>\n",
              "      <td>3</td>\n",
              "      <td>no</td>\n",
              "      <td>northwest</td>\n",
              "      <td>10600.54830</td>\n",
              "    </tr>\n",
              "    <tr>\n",
              "      <th>1334</th>\n",
              "      <td>18</td>\n",
              "      <td>female</td>\n",
              "      <td>31.920</td>\n",
              "      <td>0</td>\n",
              "      <td>no</td>\n",
              "      <td>northeast</td>\n",
              "      <td>2205.98080</td>\n",
              "    </tr>\n",
              "    <tr>\n",
              "      <th>1335</th>\n",
              "      <td>18</td>\n",
              "      <td>female</td>\n",
              "      <td>36.850</td>\n",
              "      <td>0</td>\n",
              "      <td>no</td>\n",
              "      <td>southeast</td>\n",
              "      <td>1629.83350</td>\n",
              "    </tr>\n",
              "    <tr>\n",
              "      <th>1336</th>\n",
              "      <td>21</td>\n",
              "      <td>female</td>\n",
              "      <td>25.800</td>\n",
              "      <td>0</td>\n",
              "      <td>no</td>\n",
              "      <td>southwest</td>\n",
              "      <td>2007.94500</td>\n",
              "    </tr>\n",
              "    <tr>\n",
              "      <th>1337</th>\n",
              "      <td>61</td>\n",
              "      <td>female</td>\n",
              "      <td>29.070</td>\n",
              "      <td>0</td>\n",
              "      <td>yes</td>\n",
              "      <td>northwest</td>\n",
              "      <td>29141.36030</td>\n",
              "    </tr>\n",
              "  </tbody>\n",
              "</table>\n",
              "<p>1338 rows × 7 columns</p>\n",
              "</div>"
            ],
            "text/plain": [
              "      age     sex     bmi  children smoker     region      charges\n",
              "0      19  female  27.900         0    yes  southwest  16884.92400\n",
              "1      18    male  33.770         1     no  southeast   1725.55230\n",
              "2      28    male  33.000         3     no  southeast   4449.46200\n",
              "3      33    male  22.705         0     no  northwest  21984.47061\n",
              "4      32    male  28.880         0     no  northwest   3866.85520\n",
              "...   ...     ...     ...       ...    ...        ...          ...\n",
              "1333   50    male  30.970         3     no  northwest  10600.54830\n",
              "1334   18  female  31.920         0     no  northeast   2205.98080\n",
              "1335   18  female  36.850         0     no  southeast   1629.83350\n",
              "1336   21  female  25.800         0     no  southwest   2007.94500\n",
              "1337   61  female  29.070         0    yes  northwest  29141.36030\n",
              "\n",
              "[1338 rows x 7 columns]"
            ]
          },
          "metadata": {
            "tags": []
          },
          "execution_count": 45
        }
      ]
    },
    {
      "cell_type": "code",
      "metadata": {
        "id": "Jydtpzsi-LNi"
      },
      "source": [
        "#now import scikit learn\n",
        "from sklearn.compose import make_column_transformer\n",
        "from sklearn.preprocessing import MinMaxScaler, OneHotEncoder\n",
        "from sklearn.model_selection import train_test_split\n",
        "\n",
        "#create a column transformer\n",
        "ct=make_column_transformer(\n",
        "    (MinMaxScaler(),[\"age\",\"bmi\",\"children\"]),\n",
        "    (OneHotEncoder(handle_unknown=\"ignore\"),[\"sex\",\"smoker\",\"region\"])\n",
        "#handler_uknown refers that any columns that the one hot encnoder doesn't know \n",
        "#just ignore them instead\n",
        ")\n",
        "\n",
        "#create X&y\n",
        "X=insaurance.drop(\"charges\",axis=1)\n",
        "y=insaurance[\"charges\"]\n",
        "\n",
        "#define test and train sets\n",
        "X_train, X_test, y_train, y_test=train_test_split(X,y,test_size=0.2, random_state=42)\n",
        "\n",
        "#fit the column transfomer to our training data\n",
        "ct.fit(X_train)\n",
        "#we  only fit the train data because the test data has not been seen by the sys\n",
        "#transformer training and test data with normalization (minmaxscalar) and one hotencoder\n",
        "X_train_normal=ct.transform(X_train)\n",
        "X_test_normal=ct.transform(X_test)\n"
      ],
      "execution_count": null,
      "outputs": []
    },
    {
      "cell_type": "code",
      "metadata": {
        "colab": {
          "base_uri": "https://localhost:8080/"
        },
        "id": "TlDVk7gQ-55j",
        "outputId": "c8605223-3062-4fc6-8147-ce1d3309686a"
      },
      "source": [
        "#what does the data look like now\n",
        "X_train_normal[0]"
      ],
      "execution_count": null,
      "outputs": [
        {
          "output_type": "execute_result",
          "data": {
            "text/plain": [
              "array([0.60869565, 0.10734463, 0.4       , 1.        , 0.        ,\n",
              "       1.        , 0.        , 0.        , 1.        , 0.        ,\n",
              "       0.        ])"
            ]
          },
          "metadata": {
            "tags": []
          },
          "execution_count": 47
        }
      ]
    },
    {
      "cell_type": "code",
      "metadata": {
        "colab": {
          "base_uri": "https://localhost:8080/"
        },
        "id": "-RzaGftpDVm0",
        "outputId": "491e8c99-3cb7-4953-93b0-59417a50f996"
      },
      "source": [
        "X_train.loc[0]"
      ],
      "execution_count": null,
      "outputs": [
        {
          "output_type": "execute_result",
          "data": {
            "text/plain": [
              "age                19\n",
              "sex            female\n",
              "bmi              27.9\n",
              "children            0\n",
              "smoker            yes\n",
              "region      southwest\n",
              "Name: 0, dtype: object"
            ]
          },
          "metadata": {
            "tags": []
          },
          "execution_count": 48
        }
      ]
    },
    {
      "cell_type": "code",
      "metadata": {
        "colab": {
          "base_uri": "https://localhost:8080/"
        },
        "id": "x_-sg7NiBvND",
        "outputId": "fb6ebc03-d31c-494c-ff90-f5577c240501"
      },
      "source": [
        "X_train.shape, X_train_normal.shape"
      ],
      "execution_count": null,
      "outputs": [
        {
          "output_type": "execute_result",
          "data": {
            "text/plain": [
              "((1070, 6), (1070, 11))"
            ]
          },
          "metadata": {
            "tags": []
          },
          "execution_count": 49
        }
      ]
    },
    {
      "cell_type": "markdown",
      "metadata": {
        "id": "iaNLXHDmCilD"
      },
      "source": [
        "#Our  data has been normalized and one  hot encoded"
      ]
    },
    {
      "cell_type": "code",
      "metadata": {
        "colab": {
          "base_uri": "https://localhost:8080/"
        },
        "id": "TuI0KYr3Ct5u",
        "outputId": "95992d2a-0850-4be6-952a-3103e4b086cf"
      },
      "source": [
        "#no lets make our model again\n",
        "tf.random.set_seed(42)\n",
        "#create model\n",
        "insaurance_model_4=tf.keras.Sequential([\n",
        "                                        tf.keras.layers.Dense(100),\n",
        "                                        tf.keras.layers.Dense(10),\n",
        "                                        tf.keras.layers.Dense(1)\n",
        "])\n",
        "#compile\n",
        "insaurance_model_4.compile(loss=tf.keras.losses.mae,\n",
        "                           optimizer=tf.keras.optimizers.Adam(),\n",
        "                           metrics=[\"mae\"])\n",
        "#fit model\n",
        "history=insaurance_model_4.fit(X_train_normal,y_train,epochs=100)"
      ],
      "execution_count": null,
      "outputs": [
        {
          "output_type": "stream",
          "text": [
            "Epoch 1/100\n",
            "34/34 [==============================] - 1s 2ms/step - loss: 13296.4671 - mae: 13296.4671\n",
            "Epoch 2/100\n",
            "34/34 [==============================] - 0s 2ms/step - loss: 12948.4245 - mae: 12948.4245\n",
            "Epoch 3/100\n",
            "34/34 [==============================] - 0s 2ms/step - loss: 12705.2201 - mae: 12705.2201\n",
            "Epoch 4/100\n",
            "34/34 [==============================] - 0s 2ms/step - loss: 13369.7395 - mae: 13369.7395\n",
            "Epoch 5/100\n",
            "34/34 [==============================] - 0s 2ms/step - loss: 13230.8567 - mae: 13230.8567\n",
            "Epoch 6/100\n",
            "34/34 [==============================] - 0s 2ms/step - loss: 12995.1999 - mae: 12995.1999\n",
            "Epoch 7/100\n",
            "34/34 [==============================] - 0s 2ms/step - loss: 12876.1059 - mae: 12876.1059\n",
            "Epoch 8/100\n",
            "34/34 [==============================] - 0s 2ms/step - loss: 13004.0395 - mae: 13004.0395\n",
            "Epoch 9/100\n",
            "34/34 [==============================] - 0s 2ms/step - loss: 12508.0465 - mae: 12508.0465\n",
            "Epoch 10/100\n",
            "34/34 [==============================] - 0s 2ms/step - loss: 12304.9941 - mae: 12304.9941\n",
            "Epoch 11/100\n",
            "34/34 [==============================] - 0s 2ms/step - loss: 12190.6080 - mae: 12190.6080\n",
            "Epoch 12/100\n",
            "34/34 [==============================] - 0s 1ms/step - loss: 10948.1238 - mae: 10948.1238\n",
            "Epoch 13/100\n",
            "34/34 [==============================] - 0s 2ms/step - loss: 11033.2710 - mae: 11033.2710\n",
            "Epoch 14/100\n",
            "34/34 [==============================] - 0s 2ms/step - loss: 10209.3786 - mae: 10209.3786\n",
            "Epoch 15/100\n",
            "34/34 [==============================] - 0s 2ms/step - loss: 9943.5374 - mae: 9943.5374\n",
            "Epoch 16/100\n",
            "34/34 [==============================] - 0s 2ms/step - loss: 9393.3773 - mae: 9393.3773\n",
            "Epoch 17/100\n",
            "34/34 [==============================] - 0s 2ms/step - loss: 8554.0274 - mae: 8554.0274\n",
            "Epoch 18/100\n",
            "34/34 [==============================] - 0s 2ms/step - loss: 8463.0888 - mae: 8463.0888\n",
            "Epoch 19/100\n",
            "34/34 [==============================] - 0s 2ms/step - loss: 8238.9919 - mae: 8238.9919\n",
            "Epoch 20/100\n",
            "34/34 [==============================] - 0s 2ms/step - loss: 7992.1423 - mae: 7992.1423\n",
            "Epoch 21/100\n",
            "34/34 [==============================] - 0s 2ms/step - loss: 7246.4891 - mae: 7246.4891\n",
            "Epoch 22/100\n",
            "34/34 [==============================] - 0s 2ms/step - loss: 7520.6745 - mae: 7520.6745\n",
            "Epoch 23/100\n",
            "34/34 [==============================] - 0s 2ms/step - loss: 7862.2013 - mae: 7862.2013\n",
            "Epoch 24/100\n",
            "34/34 [==============================] - 0s 1ms/step - loss: 7617.0075 - mae: 7617.0075\n",
            "Epoch 25/100\n",
            "34/34 [==============================] - 0s 2ms/step - loss: 8118.1869 - mae: 8118.1869\n",
            "Epoch 26/100\n",
            "34/34 [==============================] - 0s 2ms/step - loss: 7381.5776 - mae: 7381.5776\n",
            "Epoch 27/100\n",
            "34/34 [==============================] - 0s 2ms/step - loss: 7759.2990 - mae: 7759.2990\n",
            "Epoch 28/100\n",
            "34/34 [==============================] - 0s 2ms/step - loss: 7961.3148 - mae: 7961.3148\n",
            "Epoch 29/100\n",
            "34/34 [==============================] - 0s 2ms/step - loss: 7357.1594 - mae: 7357.1594\n",
            "Epoch 30/100\n",
            "34/34 [==============================] - 0s 2ms/step - loss: 7670.5824 - mae: 7670.5824\n",
            "Epoch 31/100\n",
            "34/34 [==============================] - 0s 2ms/step - loss: 7833.2158 - mae: 7833.2158\n",
            "Epoch 32/100\n",
            "34/34 [==============================] - 0s 2ms/step - loss: 7408.4353 - mae: 7408.4353\n",
            "Epoch 33/100\n",
            "34/34 [==============================] - 0s 1ms/step - loss: 7603.6621 - mae: 7603.6621\n",
            "Epoch 34/100\n",
            "34/34 [==============================] - 0s 2ms/step - loss: 7385.2734 - mae: 7385.2734\n",
            "Epoch 35/100\n",
            "34/34 [==============================] - 0s 2ms/step - loss: 7340.4551 - mae: 7340.4551\n",
            "Epoch 36/100\n",
            "34/34 [==============================] - 0s 2ms/step - loss: 7276.7009 - mae: 7276.7009\n",
            "Epoch 37/100\n",
            "34/34 [==============================] - 0s 2ms/step - loss: 7342.1807 - mae: 7342.1807\n",
            "Epoch 38/100\n",
            "34/34 [==============================] - 0s 2ms/step - loss: 6918.2718 - mae: 6918.2718\n",
            "Epoch 39/100\n",
            "34/34 [==============================] - 0s 3ms/step - loss: 7252.1240 - mae: 7252.1240\n",
            "Epoch 40/100\n",
            "34/34 [==============================] - 0s 3ms/step - loss: 7029.9498 - mae: 7029.9498\n",
            "Epoch 41/100\n",
            "34/34 [==============================] - 0s 2ms/step - loss: 6984.8112 - mae: 6984.8112\n",
            "Epoch 42/100\n",
            "34/34 [==============================] - 0s 2ms/step - loss: 6884.6928 - mae: 6884.6928\n",
            "Epoch 43/100\n",
            "34/34 [==============================] - 0s 3ms/step - loss: 6755.5828 - mae: 6755.5828\n",
            "Epoch 44/100\n",
            "34/34 [==============================] - 0s 2ms/step - loss: 6608.4541 - mae: 6608.4541\n",
            "Epoch 45/100\n",
            "34/34 [==============================] - 0s 2ms/step - loss: 6537.6250 - mae: 6537.6250\n",
            "Epoch 46/100\n",
            "34/34 [==============================] - 0s 3ms/step - loss: 6454.2749 - mae: 6454.2749\n",
            "Epoch 47/100\n",
            "34/34 [==============================] - 0s 2ms/step - loss: 6729.0266 - mae: 6729.0266\n",
            "Epoch 48/100\n",
            "34/34 [==============================] - 0s 2ms/step - loss: 6517.0466 - mae: 6517.0466\n",
            "Epoch 49/100\n",
            "34/34 [==============================] - 0s 2ms/step - loss: 6209.9380 - mae: 6209.9380\n",
            "Epoch 50/100\n",
            "34/34 [==============================] - 0s 2ms/step - loss: 6433.2527 - mae: 6433.2527\n",
            "Epoch 51/100\n",
            "34/34 [==============================] - 0s 2ms/step - loss: 6253.4749 - mae: 6253.4749\n",
            "Epoch 52/100\n",
            "34/34 [==============================] - 0s 2ms/step - loss: 6122.7599 - mae: 6122.7599\n",
            "Epoch 53/100\n",
            "34/34 [==============================] - 0s 2ms/step - loss: 5797.8437 - mae: 5797.8437\n",
            "Epoch 54/100\n",
            "34/34 [==============================] - 0s 2ms/step - loss: 6036.6884 - mae: 6036.6884\n",
            "Epoch 55/100\n",
            "34/34 [==============================] - 0s 2ms/step - loss: 5688.6436 - mae: 5688.6436\n",
            "Epoch 56/100\n",
            "34/34 [==============================] - 0s 2ms/step - loss: 5664.2595 - mae: 5664.2595\n",
            "Epoch 57/100\n",
            "34/34 [==============================] - 0s 2ms/step - loss: 5857.4061 - mae: 5857.4061\n",
            "Epoch 58/100\n",
            "34/34 [==============================] - 0s 2ms/step - loss: 5509.3852 - mae: 5509.3852\n",
            "Epoch 59/100\n",
            "34/34 [==============================] - 0s 2ms/step - loss: 5316.6016 - mae: 5316.6016\n",
            "Epoch 60/100\n",
            "34/34 [==============================] - 0s 2ms/step - loss: 5322.8677 - mae: 5322.8677\n",
            "Epoch 61/100\n",
            "34/34 [==============================] - 0s 2ms/step - loss: 5458.1975 - mae: 5458.1975\n",
            "Epoch 62/100\n",
            "34/34 [==============================] - 0s 2ms/step - loss: 5230.6231 - mae: 5230.6231\n",
            "Epoch 63/100\n",
            "34/34 [==============================] - 0s 3ms/step - loss: 5084.5996 - mae: 5084.5996\n",
            "Epoch 64/100\n",
            "34/34 [==============================] - 0s 2ms/step - loss: 4677.8217 - mae: 4677.8217\n",
            "Epoch 65/100\n",
            "34/34 [==============================] - 0s 2ms/step - loss: 4707.1110 - mae: 4707.1110\n",
            "Epoch 66/100\n",
            "34/34 [==============================] - 0s 2ms/step - loss: 4361.7458 - mae: 4361.7458\n",
            "Epoch 67/100\n",
            "34/34 [==============================] - 0s 2ms/step - loss: 4333.7879 - mae: 4333.7879\n",
            "Epoch 68/100\n",
            "34/34 [==============================] - 0s 2ms/step - loss: 4294.6888 - mae: 4294.6888\n",
            "Epoch 69/100\n",
            "34/34 [==============================] - 0s 3ms/step - loss: 4365.7155 - mae: 4365.7155\n",
            "Epoch 70/100\n",
            "34/34 [==============================] - 0s 3ms/step - loss: 3931.4924 - mae: 3931.4924\n",
            "Epoch 71/100\n",
            "34/34 [==============================] - 0s 2ms/step - loss: 4040.8881 - mae: 4040.8881\n",
            "Epoch 72/100\n",
            "34/34 [==============================] - 0s 2ms/step - loss: 3725.7781 - mae: 3725.7781\n",
            "Epoch 73/100\n",
            "34/34 [==============================] - 0s 2ms/step - loss: 4041.0183 - mae: 4041.0183\n",
            "Epoch 74/100\n",
            "34/34 [==============================] - 0s 2ms/step - loss: 3849.4077 - mae: 3849.4077\n",
            "Epoch 75/100\n",
            "34/34 [==============================] - 0s 2ms/step - loss: 4063.8180 - mae: 4063.8180\n",
            "Epoch 76/100\n",
            "34/34 [==============================] - 0s 2ms/step - loss: 3594.6083 - mae: 3594.6083\n",
            "Epoch 77/100\n",
            "34/34 [==============================] - 0s 2ms/step - loss: 3877.1156 - mae: 3877.1156\n",
            "Epoch 78/100\n",
            "34/34 [==============================] - 0s 2ms/step - loss: 3571.6357 - mae: 3571.6357\n",
            "Epoch 79/100\n",
            "34/34 [==============================] - 0s 2ms/step - loss: 3272.2002 - mae: 3272.2002\n",
            "Epoch 80/100\n",
            "34/34 [==============================] - 0s 2ms/step - loss: 3333.3793 - mae: 3333.3793\n",
            "Epoch 81/100\n",
            "34/34 [==============================] - 0s 2ms/step - loss: 3560.1417 - mae: 3560.1417\n",
            "Epoch 82/100\n",
            "34/34 [==============================] - 0s 2ms/step - loss: 4082.1635 - mae: 4082.1635\n",
            "Epoch 83/100\n",
            "34/34 [==============================] - 0s 2ms/step - loss: 3690.6050 - mae: 3690.6050\n",
            "Epoch 84/100\n",
            "34/34 [==============================] - 0s 2ms/step - loss: 3491.1416 - mae: 3491.1416\n",
            "Epoch 85/100\n",
            "34/34 [==============================] - 0s 2ms/step - loss: 3196.7644 - mae: 3196.7644\n",
            "Epoch 86/100\n",
            "34/34 [==============================] - 0s 2ms/step - loss: 3696.4115 - mae: 3696.4115\n",
            "Epoch 87/100\n",
            "34/34 [==============================] - 0s 3ms/step - loss: 3584.8877 - mae: 3584.8877\n",
            "Epoch 88/100\n",
            "34/34 [==============================] - 0s 2ms/step - loss: 3717.8066 - mae: 3717.8066\n",
            "Epoch 89/100\n",
            "34/34 [==============================] - 0s 2ms/step - loss: 3437.4367 - mae: 3437.4367\n",
            "Epoch 90/100\n",
            "34/34 [==============================] - 0s 2ms/step - loss: 3799.4690 - mae: 3799.4690\n",
            "Epoch 91/100\n",
            "34/34 [==============================] - 0s 2ms/step - loss: 3660.1360 - mae: 3660.1360\n",
            "Epoch 92/100\n",
            "34/34 [==============================] - 0s 2ms/step - loss: 3743.4218 - mae: 3743.4218\n",
            "Epoch 93/100\n",
            "34/34 [==============================] - 0s 2ms/step - loss: 3536.3569 - mae: 3536.3569\n",
            "Epoch 94/100\n",
            "34/34 [==============================] - 0s 2ms/step - loss: 3439.5847 - mae: 3439.5847\n",
            "Epoch 95/100\n",
            "34/34 [==============================] - 0s 2ms/step - loss: 3570.7316 - mae: 3570.7316\n",
            "Epoch 96/100\n",
            "34/34 [==============================] - 0s 3ms/step - loss: 3734.5113 - mae: 3734.5113\n",
            "Epoch 97/100\n",
            "34/34 [==============================] - 0s 2ms/step - loss: 3444.5726 - mae: 3444.5726\n",
            "Epoch 98/100\n",
            "34/34 [==============================] - 0s 2ms/step - loss: 3465.0855 - mae: 3465.0855\n",
            "Epoch 99/100\n",
            "34/34 [==============================] - 0s 2ms/step - loss: 3225.0306 - mae: 3225.0306\n",
            "Epoch 100/100\n",
            "34/34 [==============================] - 0s 2ms/step - loss: 3421.0633 - mae: 3421.0633\n"
          ],
          "name": "stdout"
        }
      ]
    },
    {
      "cell_type": "code",
      "metadata": {
        "colab": {
          "base_uri": "https://localhost:8080/"
        },
        "id": "fkHtPvKGEgmm",
        "outputId": "d9c2b658-1472-4dbd-8cd6-8b8ce764e1bb"
      },
      "source": [
        "insaurance_model_4.evaluate(X_test_normal,y_test)"
      ],
      "execution_count": null,
      "outputs": [
        {
          "output_type": "stream",
          "text": [
            "9/9 [==============================] - 0s 2ms/step - loss: 3438.7844 - mae: 3438.7844\n"
          ],
          "name": "stdout"
        },
        {
          "output_type": "execute_result",
          "data": {
            "text/plain": [
              "[3438.784423828125, 3438.784423828125]"
            ]
          },
          "metadata": {
            "tags": []
          },
          "execution_count": 51
        }
      ]
    },
    {
      "cell_type": "code",
      "metadata": {
        "colab": {
          "base_uri": "https://localhost:8080/",
          "height": 297
        },
        "id": "ZahjI1K9EmaI",
        "outputId": "ca6bcf5a-22a8-42a2-864f-819fcea52641"
      },
      "source": [
        "pd.DataFrame(history.history).plot()\n",
        "plt.xlabel(\"epochs\")\n",
        "plt.ylabel(\"loss\")\n"
      ],
      "execution_count": null,
      "outputs": [
        {
          "output_type": "execute_result",
          "data": {
            "text/plain": [
              "Text(0, 0.5, 'loss')"
            ]
          },
          "metadata": {
            "tags": []
          },
          "execution_count": 52
        },
        {
          "output_type": "display_data",
          "data": {
            "image/png": "[encoded data removed]",
            "text/plain": [
              "<Figure size 432x288 with 1 Axes>"
            ]
          },
          "metadata": {
            "tags": [],
            "needs_background": "light"
          }
        }
      ]
    },
    {
      "cell_type": "markdown",
      "metadata": {
        "id": "ExBaSFFnFMnN"
      },
      "source": [
        "#remember that normalization doesn't gaurentee reduction in mae, it's simply a metric to follow to make sure your data is precived correctly"
      ]
    },
    {
      "cell_type": "code",
      "metadata": {
        "id": "scYIcCotG9Au"
      },
      "source": [
        ""
      ],
      "execution_count": null,
      "outputs": []
    }
  ]
}